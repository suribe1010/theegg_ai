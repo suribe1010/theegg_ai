{
  "nbformat": 4,
  "nbformat_minor": 0,
  "metadata": {
    "colab": {
      "name": "tarea_45.ipynb",
      "provenance": [],
      "collapsed_sections": [],
      "authorship_tag": "ABX9TyMFxMbt1mLjD70XP7vAJvxX",
      "include_colab_link": true
    },
    "kernelspec": {
      "name": "python3",
      "display_name": "Python 3"
    },
    "language_info": {
      "name": "python"
    }
  },
  "cells": [
    {
      "cell_type": "markdown",
      "metadata": {
        "id": "view-in-github",
        "colab_type": "text"
      },
      "source": [
        "<a href=\"https://colab.research.google.com/github/suribe1010/theegg_ai/blob/master/tarea_45.ipynb\" target=\"_parent\"><img src=\"https://colab.research.google.com/assets/colab-badge.svg\" alt=\"Open In Colab\"/></a>"
      ]
    },
    {
      "cell_type": "code",
      "metadata": {
        "colab": {
          "base_uri": "https://localhost:8080/"
        },
        "id": "rc63GknZMJ17",
        "outputId": "0d2d6a24-e371-4275-b95c-c4cf20e89912"
      },
      "source": [
        "import time\n",
        "\n",
        "numeros = [3, 56, 21, 33, 874, 123, 66, 1000, 23, 45, 65, 56]\n",
        "#numeros = [1, 3, 5, 7, 11, 13, 17, 19, 23, 29, 31, 37, 41, 43, 47, 53, 59]\n",
        "numeros.sort()\n",
        "\n",
        "class AlgoritmoSecuencial():\n",
        "    def __init__(self, lista):\n",
        "      self.lista = lista\n",
        "\n",
        "    def Busqueda(self, num):\n",
        "      for i in range (0, len(numeros)):\n",
        "        if numeros[i] == num:\n",
        "          print ('Number of iterations: ', i)\n",
        "          break\n",
        "\n",
        "class AlgoritmoBinario():\n",
        "    def __init__(self, lista):\n",
        "      self.lista = lista\n",
        "      self.iterations = 0\n",
        "\n",
        "    def Busqueda(self, num):\n",
        "       first = 0\n",
        "       last = len(self.lista)-1\n",
        "       found = False\n",
        "\n",
        "       while first<=last and not found:\n",
        "        pos = 0\n",
        "        midpoint = (first + last)//2\n",
        "        if self.lista[midpoint] == num:\n",
        "            pos = midpoint\n",
        "            found = True\n",
        "            self.iterations += 1\n",
        "        else:\n",
        "            if num < self.lista[midpoint]:\n",
        "                last = midpoint-1\n",
        "            else:\n",
        "                first = midpoint+1\n",
        "            self.iterations += 1\n",
        "       return print ('Number of iterations: ', self.iterations)\n",
        "\n",
        "\n",
        "algoritmoSec_object = AlgoritmoSecuencial(numeros)\n",
        "print('BÚSQUEDA SECUENCIAL')\n",
        "t0 = time.time()\n",
        "algoritmoSec_object.Busqueda(874)\n",
        "t1 = time.time()\n",
        "miliseconds = round((t1-t0)*1000, 2)\n",
        "print('Time: ', miliseconds, 'ms')\n",
        "\n",
        "\n",
        "algoritmoBin_object = AlgoritmoBinario(numeros)\n",
        "print(f'\\nBÚSQUEDA BINARIA')\n",
        "t0 = time.time()\n",
        "algoritmoBin_object.Busqueda(874)\n",
        "t1 = time.time()\n",
        "miliseconds = round((t1-t0)*1000, 2)\n",
        "print('Time: ', miliseconds, 'ms')"
      ],
      "execution_count": 72,
      "outputs": [
        {
          "output_type": "stream",
          "text": [
            "BÚSQUEDA SECUENCIAL\n",
            "Number of iterations:  10\n",
            "Time:  0.89 ms\n",
            "\n",
            "BÚSQUEDA BINARIA\n",
            "Number of iterations:  3\n",
            "Time:  0.56 ms\n"
          ],
          "name": "stdout"
        }
      ]
    },
    {
      "cell_type": "code",
      "metadata": {
        "id": "lfzpHQpBPsps"
      },
      "source": [
        ""
      ],
      "execution_count": 53,
      "outputs": []
    },
    {
      "cell_type": "code",
      "metadata": {
        "id": "7VyHOTzrQShO"
      },
      "source": [
        ""
      ],
      "execution_count": null,
      "outputs": []
    }
  ]
}
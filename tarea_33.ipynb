{
  "nbformat": 4,
  "nbformat_minor": 0,
  "metadata": {
    "colab": {
      "name": "tarea_33.ipynb",
      "provenance": [],
      "authorship_tag": "ABX9TyN/zbBSGXEk2IHc4kNR6TVm",
      "include_colab_link": true
    },
    "kernelspec": {
      "name": "python3",
      "display_name": "Python 3"
    }
  },
  "cells": [
    {
      "cell_type": "markdown",
      "metadata": {
        "id": "view-in-github",
        "colab_type": "text"
      },
      "source": [
        "<a href=\"https://colab.research.google.com/github/suribe1010/theegg_ai/blob/master/tarea_33.ipynb\" target=\"_parent\"><img src=\"https://colab.research.google.com/assets/colab-badge.svg\" alt=\"Open In Colab\"/></a>"
      ]
    },
    {
      "cell_type": "markdown",
      "metadata": {
        "id": "hpFhnC5QjMM3",
        "colab_type": "text"
      },
      "source": [
        "# PROGRAMA DE PICACHU\n",
        "\n",
        "En este caso, tenéis que entender y dibujar el diagrama de flujo del programa de picachu tal y como\n",
        "se explica en el vídeo que adjuntamos y posteriormente codificarlo mediante un lenguaje de\n",
        "programación, es decir, construir el programa tal cual se indica en el diagrama. \n"
      ]
    },
    {
      "cell_type": "code",
      "metadata": {
        "id": "zCVsr3SgjTtQ",
        "colab_type": "code",
        "colab": {
          "base_uri": "https://localhost:8080/",
          "height": 134
        },
        "outputId": "099267e5-3940-4bc6-b150-e791200329e4"
      },
      "source": [
        "class Picachu ():\n",
        "  def __init__(self):\n",
        "    print('=========================================================')\n",
        "    self.vida_player1 = 100\n",
        "    self.ataque_player1 = 55\n",
        "    print('Ataque del Player1: ', self.ataque_player1)\n",
        "\n",
        "    self.vida_player2 = 100\n",
        "    self.ataque_player2 = 45\n",
        "    print('Ataque del Player2: ', self.ataque_player2)\n",
        "\n",
        "    self.turno = 1 #(player1 = picachu)\n",
        "    print('Player 1 comienza atacando.')\n",
        "    print()\n",
        "\n",
        "  def juego(self):\n",
        "    while self.vida_player1 > 0 and self.vida_player2>0 : \n",
        "      if self.turno ==1: self.vida_player2 -= self.ataque_player1; self.turno = 0\n",
        "      else: self.vida_player1 -= self.ataque_player2; self.turno = 1\n",
        "\n",
        "    if self.vida_player1 <= 0 and self.vida_player2 > 0: print(\"Player 2 ha ganado.\")\n",
        "    elif self.vida_player2 <= 0 and self.vida_player1 > 0: print(\"Player 1 ha ganado.\")\n",
        "    print('=========================================================')\n",
        "  \n",
        "object = Picachu()\n",
        "object.juego()"
      ],
      "execution_count": 8,
      "outputs": [
        {
          "output_type": "stream",
          "text": [
            "=========================================================\n",
            "Ataque del Player1:  55\n",
            "Ataque del Player2:  45\n",
            "Player 1 comienza atacando.\n",
            "\n",
            "Player 1 ha ganado.\n",
            "=========================================================\n"
          ],
          "name": "stdout"
        }
      ]
    },
    {
      "cell_type": "code",
      "metadata": {
        "id": "uPJtHIa7kdCM",
        "colab_type": "code",
        "colab": {}
      },
      "source": [
        ""
      ],
      "execution_count": 0,
      "outputs": []
    }
  ]
}
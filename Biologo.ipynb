{
  "nbformat": 4,
  "nbformat_minor": 0,
  "metadata": {
    "colab": {
      "name": "Biologo.ipynb",
      "provenance": [],
      "authorship_tag": "ABX9TyNLBguJWVUd/Lh0RCBttnXD",
      "include_colab_link": true
    },
    "kernelspec": {
      "name": "python3",
      "display_name": "Python 3"
    }
  },
  "cells": [
    {
      "cell_type": "markdown",
      "metadata": {
        "id": "view-in-github",
        "colab_type": "text"
      },
      "source": [
        "<a href=\"https://colab.research.google.com/github/suribe1010/theegg_ai/blob/master/Biologo.ipynb\" target=\"_parent\"><img src=\"https://colab.research.google.com/assets/colab-badge.svg\" alt=\"Open In Colab\"/></a>"
      ]
    },
    {
      "cell_type": "markdown",
      "metadata": {
        "id": "yC5PinX7obbS"
      },
      "source": [
        "Eres un biólogo que examina secuencias de ADN de formas de vida diferentes. Se te darán dos secuencias de ADN, y el objetivo es encontrar el conjunto ordenado de bases adyacentes de mayor tamaño que es común en ambos ADNs.\n",
        "\n",
        "Las secuencias de ADN se darán como conjuntos ordenados de bases de nucleótidos: adenina (abreviado A), citosina (C), guanina (G) y timina (T):\n",
        "\n",
        "ATGTCTTCCTCGA TGCTTCCTATGAC\n",
        "\n",
        "Para el ejemplo anterior, el resultado es CTTCCT porque que es el conjunto ordenado de bases adyacentes de mayor tamaño que se encuentra en ambas formas de vida.\n",
        "\n",
        "(Asegúrate de que has leído las preguntas frecuentes antes de plantear tu solución)"
      ]
    },
    {
      "cell_type": "code",
      "metadata": {
        "id": "gihXSRhGpjb2"
      },
      "source": [
        "def comparar(cadena1, cadena2):\n",
        "    resp = \"\"\n",
        "    long1, long2 = len(cadena1), len(cadena2)\n",
        "\n",
        "    for i in range(long1):\n",
        "        comun = \"\"\n",
        "        for j in range(long2):\n",
        "            if (i + j < long1 and cadena1[i + j] == cadena2[j]):\n",
        "                comun += cadena2[j]\n",
        "                if j == long2 - 1: \n",
        "                  print()\n",
        "                  resp = comun\n",
        "            else:\n",
        "                if (len(comun) > len(resp)): \n",
        "                  resp = comun\n",
        "                comun = \"\"\n",
        "    return resp"
      ],
      "execution_count": 70,
      "outputs": []
    },
    {
      "cell_type": "code",
      "metadata": {
        "id": "2JvCDDPex0bg",
        "outputId": "f80f8039-37ef-4494-a698-83b85ecff794",
        "colab": {
          "base_uri": "https://localhost:8080/",
          "height": 217
        }
      },
      "source": [
        "# Coger dos secuencias\n",
        "\n",
        "print('====================================================')\n",
        "print('Introduce la primera cadena')\n",
        "cadena1 = input()\n",
        "print()\n",
        "print('Introduce la segunda cadena')\n",
        "cadena2 = input()\n",
        "\n",
        "\n",
        "comun1 = comparar(cadena1, cadena2)\n",
        "comun2 = comparar(cadena2, cadena1)\n",
        "\n",
        "print('')\n",
        "print('====================================================')\n",
        "print('Tienen en común la siguiente secuencia ADN: ')\n",
        "if len(comun1) > len(comun2): print(comun1)\n",
        "else: print(comun2)\n",
        "\n"
      ],
      "execution_count": 73,
      "outputs": [
        {
          "output_type": "stream",
          "text": [
            "====================================================\n",
            "Introduce la primera cadena\n",
            "gtaccagtactgatagt\n",
            "\n",
            "Introduce la segunda cadena\n",
            "ctgggccttgaggaaaactg\n",
            "\n",
            "\n",
            "====================================================\n",
            "Tienen en común la siguiente secuencia ADN: \n",
            "actg\n"
          ],
          "name": "stdout"
        }
      ]
    },
    {
      "cell_type": "code",
      "metadata": {
        "id": "aQiZURRpx7n-"
      },
      "source": [
        ""
      ],
      "execution_count": null,
      "outputs": []
    }
  ]
}
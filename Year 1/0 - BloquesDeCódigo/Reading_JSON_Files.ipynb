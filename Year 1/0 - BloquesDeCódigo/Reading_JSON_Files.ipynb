{
  "nbformat": 4,
  "nbformat_minor": 0,
  "metadata": {
    "colab": {
      "name": "Reading_JSON_Files.ipynb",
      "provenance": [],
      "collapsed_sections": [],
      "authorship_tag": "ABX9TyNVZodJ3Yg8f6qHqZ7zEgdZ",
      "include_colab_link": true
    },
    "kernelspec": {
      "name": "python3",
      "display_name": "Python 3"
    }
  },
  "cells": [
    {
      "cell_type": "markdown",
      "metadata": {
        "id": "view-in-github",
        "colab_type": "text"
      },
      "source": [
        "<a href=\"https://colab.research.google.com/github/suribe1010/theegg_ai/blob/master/Reading_JSON_Files.ipynb\" target=\"_parent\"><img src=\"https://colab.research.google.com/assets/colab-badge.svg\" alt=\"Open In Colab\"/></a>"
      ]
    },
    {
      "cell_type": "code",
      "metadata": {
        "id": "BouJvn-lOpVT"
      },
      "source": [
        "class JSON_Reader():\r\n",
        "  def ReadFromLoadedFiles(self, Filename):\r\n",
        "    # OPTION 1\r\n",
        "    # =======================================================================\r\n",
        "    # - The user uploads the files \r\n",
        "    # - They must be a JSON file without strange characters. UTF-8 recognizable\r\n",
        "    # - Each row must have same columns data(I think!)\r\n",
        "    from google.colab import files\r\n",
        "    uploaded = files.upload()\r\n",
        "\r\n",
        "    # - Reading the files that the user uploaded\r\n",
        "    import io\r\n",
        "    return pd.read_json(io.BytesIO(uploaded[Filename]))\r\n",
        "\r\n",
        "  def ReadFromGithub(self, URL):\r\n",
        "    # OPTION 2\r\n",
        "    # =======================================================================\r\n",
        "    # - The file is stored in Github. We take the URL of the raw version of the file.\r\n",
        "    # - They must be a JSON file without strange characters. UTF-8 recognizable\r\n",
        "    # - Each row must have same columns data(I think!)\r\n",
        "    import pandas as pd\r\n",
        "    return pd.read_json(URL, dtype=object) #dtype coge el valor exacto. Sin él, nos pone multitud de decimales"
      ],
      "execution_count": 66,
      "outputs": []
    },
    {
      "cell_type": "code",
      "metadata": {
        "id": "ETEmSdCkXC6s"
      },
      "source": [
        "json_reader = JSON_Reader();\r\n",
        "\r\n",
        "#OPTION 1\r\n",
        "#Filename = \"Covid_Positivos_MaleFemale_Fallecidos_Letalidad_PorEdad.json\" # Name of the file that we are going to upload\r\n",
        "#data1 = json_reader.ReadFromLoadedFiles(Filename)\r\n",
        "\r\n",
        "#OPTION 2\r\n",
        "#URL = 'https://raw.githubusercontent.com/suribe1010/theegg_ai/master/Year%201/tarea_26_CovidAnalysis/Covid_Positivos_MaleFemale_Fallecidos_Letalidad_PorEdad.json' #It won' longer exists.\r\n",
        "#data2 = json_reader.ReadFromGithub(URL)\r\n",
        "#data2"
      ],
      "execution_count": 68,
      "outputs": []
    },
    {
      "cell_type": "code",
      "metadata": {
        "id": "TKCobt9GYaVS"
      },
      "source": [
        ""
      ],
      "execution_count": null,
      "outputs": []
    }
  ]
}

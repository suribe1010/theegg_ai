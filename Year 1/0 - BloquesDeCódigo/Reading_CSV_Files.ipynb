{
  "nbformat": 4,
  "nbformat_minor": 0,
  "metadata": {
    "colab": {
      "name": "Reading_CSV_Files.ipynb",
      "provenance": [],
      "collapsed_sections": [],
      "authorship_tag": "ABX9TyOgBBI/ERjpFqXQ+94Ojp+d",
      "include_colab_link": true
    },
    "kernelspec": {
      "name": "python3",
      "display_name": "Python 3"
    }
  },
  "cells": [
    {
      "cell_type": "markdown",
      "metadata": {
        "id": "view-in-github",
        "colab_type": "text"
      },
      "source": [
        "<a href=\"https://colab.research.google.com/github/suribe1010/theegg_ai/blob/master/Reading_CSV_Files.ipynb\" target=\"_parent\"><img src=\"https://colab.research.google.com/assets/colab-badge.svg\" alt=\"Open In Colab\"/></a>"
      ]
    },
    {
      "cell_type": "code",
      "metadata": {
        "id": "uK1JNRVS8lQf"
      },
      "source": [
        "class CSV_Reader():\r\n",
        "  def ReadFromLoadedFiles(self, Filename):\r\n",
        "    # OPTION 1\r\n",
        "    # =======================================================================\r\n",
        "    # - The user uploads the files \r\n",
        "    # - They must be a CSV  UTF-8 (converted from Excel) --> otherwise, problems!\r\n",
        "    import pandas as pd\r\n",
        "    from google.colab import files\r\n",
        "    uploaded = files.upload()\r\n",
        "\r\n",
        "    # - Reading the files that the user uploaded\r\n",
        "    import io\r\n",
        "    return pd.read_csv(io.BytesIO(uploaded[Filename]))\r\n",
        "\r\n",
        "  def ReadFromGithub(self, URL):\r\n",
        "    # OPTION 2\r\n",
        "    # =======================================================================\r\n",
        "    # - The file is stored in Github. We take the URL of the raw version of the file.\r\n",
        "    # - They must be a CSV  UTF-8 (converted from Excel) --> otherwise, problems!\r\n",
        "    import pandas as pd\r\n",
        "    return pd.read_csv(URL)\r\n",
        "    "
      ],
      "execution_count": 49,
      "outputs": []
    },
    {
      "cell_type": "code",
      "metadata": {
        "id": "BTdLhkVJ-U5R"
      },
      "source": [
        "#csv_reader = CSV_Reader();\r\n",
        "\r\n",
        "#OPTION 1\r\n",
        "#Filename = 'Prueba.csv' # Name of the file that we are going to upload\r\n",
        "#data1 = csv_reader.ReadFromLoadedFiles(Filename)\r\n",
        "\r\n",
        "#OPTION2\r\n",
        "#URL = \"https://raw.githubusercontent.com/suribe1010/theegg_ai/master/Year%201/tarea_26_CovidAnalysis/Prueba.csv\" #It won' longer exists.\r\n",
        "#data2 = csv_reader.ReadFromGithub(URL)\r\n"
      ],
      "execution_count": 51,
      "outputs": []
    },
    {
      "cell_type": "code",
      "metadata": {
        "id": "oR8X-KmCI5Fg"
      },
      "source": [
        ""
      ],
      "execution_count": null,
      "outputs": []
    }
  ]
}

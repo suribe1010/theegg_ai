{
  "nbformat": 4,
  "nbformat_minor": 0,
  "metadata": {
    "colab": {
      "name": "tarea23.ipynb",
      "provenance": [],
      "collapsed_sections": [],
      "authorship_tag": "ABX9TyME3EAQaaCmw78HKFARcnjT",
      "include_colab_link": true
    },
    "kernelspec": {
      "name": "python3",
      "display_name": "Python 3"
    }
  },
  "cells": [
    {
      "cell_type": "markdown",
      "metadata": {
        "id": "view-in-github",
        "colab_type": "text"
      },
      "source": [
        "<a href=\"https://colab.research.google.com/github/suribe1010/theegg_ai/blob/master/tarea23.ipynb\" target=\"_parent\"><img src=\"https://colab.research.google.com/assets/colab-badge.svg\" alt=\"Open In Colab\"/></a>"
      ]
    },
    {
      "cell_type": "code",
      "metadata": {
        "colab_type": "code",
        "outputId": "34843809-c9ea-4fee-ba7a-29376175546f",
        "id": "VEL1SP9aXozs",
        "colab": {
          "base_uri": "https://localhost:8080/",
          "height": 260
        }
      },
      "source": [
        "import numpy as np\n",
        "import random \n",
        "\n",
        "class Solitario():\n",
        "  def __init__(self):\n",
        "    self.string_original = (input()).lower() \n",
        "    print()\n",
        "    print('=======================================================')\n",
        "    print('TEXTO ORIGINAL: ', self.string_original)\n",
        "    \n",
        "    self.index_espacios = []\n",
        "\n",
        "  def dividir_string(self):\n",
        "    '''\n",
        "    String sin espacios.\n",
        "    '''\n",
        "    string_caracteres = []\n",
        "    for i in range (0, len(self.string_original)):\n",
        "      if self.string_original[i] == ' ':\n",
        "        self.index_espacios.append(i)\n",
        "        continue\n",
        "      \n",
        "      string_caracteres.append(self.string_original[i])\n",
        "      string_sin_espacios = \"\".join(string_caracteres)\n",
        "    return string_sin_espacios\n",
        "    \n",
        "  def str_to_number(self, string):\n",
        "    return [ord(x)%32 for x in string]\n",
        "\n",
        "  def number_to_str(self, num):\n",
        "    string = []\n",
        "    for i in num:\n",
        "      string.append(chr(ord('`') + i))\n",
        "    return string\n",
        "    \n",
        "  def encriptar(self, str):\n",
        "    '''\n",
        "    Generamos una clave random y encriptamos el texto\n",
        "    '''\n",
        "    long_str = len(str)\n",
        "    keyword_caracteres = []\n",
        "    for i in range(0, long_str):\n",
        "      import string\n",
        "      letra = random.choice(string.ascii_letters)\n",
        "      keyword_caracteres.append(letra)\n",
        "    keyword_caracteres = \"\".join(keyword_caracteres)\n",
        "    print()\n",
        "    print('Clave random generada: ', keyword_caracteres)\n",
        "    \n",
        "    number_str = self.str_to_number(str)\n",
        "    number_keyword = self.str_to_number(keyword_caracteres)\n",
        "    arr_suma = []\n",
        "    for i in range(0, len(number_keyword)):\n",
        "      suma = number_keyword[i] + number_str[i]\n",
        "      if suma > 26:  \n",
        "        suma -= 26\n",
        "      arr_suma.append(suma)\n",
        "    arr_suma = np.array(arr_suma)\n",
        "    string_encriptado = self.number_to_str(arr_suma)\n",
        "    string_encriptado = \"\".join(string_encriptado)\n",
        "    print('Texto encriptado: ', string_encriptado)\n",
        "    return string_encriptado, number_keyword\n",
        "  \n",
        "  \n",
        "  def desencriptar(self, str_encriptado, num_keyword):\n",
        "    '''\n",
        "    Desencriptamos el texto conociendo la clave. Además, como anteriormente hemos guardado\n",
        "    la posición de los espacios, podemos recuperarlos ahora para el resultado final.\n",
        "    '''\n",
        "    num_encriptado = self.str_to_number(str_encriptado)\n",
        "    arr_resta = []\n",
        "    for i in range(0, len(num_encriptado)):\n",
        "      resta = num_encriptado[i] - num_keyword[i]\n",
        "      if resta < 0:  \n",
        "        resta += 26\n",
        "      arr_resta.append(resta)\n",
        "   \n",
        "    string_final = self.number_to_str(arr_resta)\n",
        "    string_final = \"\".join(string_final)\n",
        "    long_string_final = len(string_final)\n",
        "    contador = 1\n",
        "    aux = 0\n",
        "    for i in range (0, long_string_final+contador):\n",
        "      if i in self.index_espacios:\n",
        "        string_final = string_final[0:aux] + string_final[aux:i]+ ' ' +string_final[i:]\n",
        "        aux = i\n",
        "        contador += 1\n",
        "    print()\n",
        "    print('TEXTO DESENCRIPTADO: ', string_final)\n",
        "    \n",
        "\n",
        "solitario_object = Solitario()\n",
        "string = solitario_object.dividir_string()\n",
        "string_encriptado, number_keyword = solitario_object.encriptar(string)\n",
        "solitario_object.desencriptar(string_encriptado, number_keyword)\n",
        "\n",
        "print('=======================================================')\n",
        "print()\n",
        "print('**Posibles mejoras** ')\n",
        "print('1- Extensión del algoritmo a signos de interrogación, puntos,... y letras mayúsculas.')\n",
        "print('2- Mayor robustez al algoritmo.')"
      ],
      "execution_count": 300,
      "outputs": [
        {
          "output_type": "stream",
          "text": [
            "esto es una prueba de fuego\n",
            "\n",
            "=======================================================\n",
            "TEXTO ORIGINAL:  esto es una prueba de fuego\n",
            "\n",
            "Clave random generada:  bAfsNPZYBaTmvCHlgYLUVh\n",
            "Texto encriptado:  gtzhsiumcqlhaeiplegzcw\n",
            "\n",
            "TEXTO DESENCRIPTADO:  esto es una prueba de fuego\n",
            "=======================================================\n",
            "\n",
            "**Posibles mejoras** \n",
            "1- Extensión del algoritmo a signos de interrogación, puntos,... y letras mayúsculas.\n",
            "2- Mayor robustez al algoritmo.\n"
          ],
          "name": "stdout"
        }
      ]
    },
    {
      "cell_type": "code",
      "metadata": {
        "id": "CTl__WXHeoea",
        "colab_type": "code",
        "colab": {}
      },
      "source": [
        ""
      ],
      "execution_count": 0,
      "outputs": []
    }
  ]
}

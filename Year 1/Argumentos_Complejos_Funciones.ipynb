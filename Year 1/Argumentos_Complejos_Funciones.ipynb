{
  "nbformat": 4,
  "nbformat_minor": 0,
  "metadata": {
    "colab": {
      "name": "argumentos_en_funciones.ipynb",
      "provenance": [],
      "collapsed_sections": [],
      "authorship_tag": "ABX9TyOUqVMr60pvbTitFdmEUZR6",
      "include_colab_link": true
    },
    "kernelspec": {
      "name": "python3",
      "display_name": "Python 3"
    }
  },
  "cells": [
    {
      "cell_type": "markdown",
      "metadata": {
        "id": "view-in-github",
        "colab_type": "text"
      },
      "source": [
        "<a href=\"https://colab.research.google.com/github/suribe1010/theegg_ai/blob/master/argumentos_en_funciones.ipynb\" target=\"_parent\"><img src=\"https://colab.research.google.com/assets/colab-badge.svg\" alt=\"Open In Colab\"/></a>"
      ]
    },
    {
      "cell_type": "code",
      "metadata": {
        "id": "wQABTByaH0rW",
        "colab_type": "code",
        "colab": {
          "base_uri": "https://localhost:8080/",
          "height": 50
        },
        "outputId": "29fd0957-ef68-44f7-e5d5-725be5122d08"
      },
      "source": [
        "#POSITIONAL ARGUMENTS --> ORDER OF THE ARGUMENTS MATTERS\n",
        "def varpafu(*x): print(x)\n",
        "varpafu()\n",
        "varpafu(34,\"Do you like Python?\", \"Of course\")"
      ],
      "execution_count": null,
      "outputs": [
        {
          "output_type": "stream",
          "text": [
            "()\n",
            "(34, 'Do you like Python?', 'Of course')\n"
          ],
          "name": "stdout"
        }
      ]
    },
    {
      "cell_type": "code",
      "metadata": {
        "id": "Q7CXNjlvIIOo",
        "colab_type": "code",
        "colab": {
          "base_uri": "https://localhost:8080/",
          "height": 34
        },
        "outputId": "11a28445-82f7-44f4-9836-60a5d69664cb"
      },
      "source": [
        "def f(**args):\n",
        "    print(args)\n",
        "f(de=\"German\",en=\"English\",fr=\"French\")"
      ],
      "execution_count": null,
      "outputs": [
        {
          "output_type": "stream",
          "text": [
            "{'de': 'German', 'en': 'English', 'fr': 'French'}\n"
          ],
          "name": "stdout"
        }
      ]
    },
    {
      "cell_type": "code",
      "metadata": {
        "id": "Z3505Vl_Ib3X",
        "colab_type": "code",
        "colab": {
          "base_uri": "https://localhost:8080/",
          "height": 34
        },
        "outputId": "b2d38a6a-2d2c-4d3e-8002-decc073f8cc5"
      },
      "source": [
        "# KEY IS A KEYWORD ARGUMENT\n",
        "def sortwords(*wordlist, key=False):\n",
        "  print(wordlist)\n",
        "\n",
        "sortwords('hola', 'adios')"
      ],
      "execution_count": null,
      "outputs": [
        {
          "output_type": "stream",
          "text": [
            "('hola', 'adios')\n"
          ],
          "name": "stdout"
        }
      ]
    },
    {
      "cell_type": "code",
      "metadata": {
        "id": "ImS6qRIpJvXX",
        "colab_type": "code",
        "colab": {
          "base_uri": "https://localhost:8080/",
          "height": 34
        },
        "outputId": "f829472a-dccf-4018-9d92-b3ac495f8428"
      },
      "source": [
        "# KEYWORD ONLY ARGUMENTS --> solo se pueden especificar con el nombre, no con los parametros posicionales --> def hola(a) --> hola(2) --> esto no se puede con keyword only arguments\n",
        "# hola(a=2) --> es obligatorio hacer esto\n",
        "# el asterisco CREO que indica que son keyword only arguments\n",
        "def compare(a, b, *, key=None):\n",
        "    print(a,b, key)\n",
        "\n",
        "compare(2,4,key=1)"
      ],
      "execution_count": 2,
      "outputs": [
        {
          "output_type": "stream",
          "text": [
            "2 4 1\n"
          ],
          "name": "stdout"
        }
      ]
    },
    {
      "cell_type": "code",
      "metadata": {
        "id": "TeCNedFkKUsJ",
        "colab_type": "code",
        "colab": {}
      },
      "source": [
        "'''\n",
        "Por qué es útil esto?\n",
        "\n",
        "Obliga al usuario a introducir el nombre del argumento, de forma que no se equivoque al introducir una variable y lo asocie con un argumento\n",
        "que no es, ya que como hemos dicho antes, el orden importa.\n",
        "Si queremos darle a a=2 y b=4... es fácil confundirse y llamar a compare(4,2) --> lo que estaría haciendo a=4, b=2.. \n",
        "En cambio, si usamos keyword only arguments --> no queda otra que llamarlo como compare(a=2, b=4) --> no da lugar a confusiones\n",
        "\n",
        "'''"
      ],
      "execution_count": null,
      "outputs": []
    }
  ]
}

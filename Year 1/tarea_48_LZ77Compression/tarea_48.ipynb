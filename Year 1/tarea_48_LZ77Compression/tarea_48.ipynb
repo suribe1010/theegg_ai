{
  "nbformat": 4,
  "nbformat_minor": 0,
  "metadata": {
    "colab": {
      "name": "LZ77Compression.ipynb",
      "provenance": [],
      "authorship_tag": "ABX9TyMlSxqzaSKu4k/FVmYFIAIQ",
      "include_colab_link": true
    },
    "kernelspec": {
      "name": "python3",
      "display_name": "Python 3"
    },
    "language_info": {
      "name": "python"
    }
  },
  "cells": [
    {
      "cell_type": "markdown",
      "metadata": {
        "id": "view-in-github",
        "colab_type": "text"
      },
      "source": [
        "<a href=\"https://colab.research.google.com/github/suribe1010/theegg_ai/blob/master/LZ77Compression.ipynb\" target=\"_parent\"><img src=\"https://colab.research.google.com/assets/colab-badge.svg\" alt=\"Open In Colab\"/></a>"
      ]
    },
    {
      "cell_type": "code",
      "metadata": {
        "id": "BbdSizQeCRWi",
        "colab": {
          "base_uri": "https://localhost:8080/"
        },
        "outputId": "10dfe904-7341-4b6d-ca47-9ed9e77b367a"
      },
      "source": [
        "string = \"Esto es una prueba de fuego para el algoritmo LZ77 de compresión-decompresión de la tarea 48. Se ha seguido el siguiente enlace: https://www.youtube.com/watch?v=y3xSuPDvpOE.\"\n",
        "print(len(string))"
      ],
      "execution_count": 363,
      "outputs": [
        {
          "output_type": "stream",
          "text": [
            "173\n"
          ],
          "name": "stdout"
        }
      ]
    },
    {
      "cell_type": "code",
      "metadata": {
        "id": "jSm6Kg4zDHes"
      },
      "source": [
        "class Compression:\n",
        "  def __init__(self, string):\n",
        "    self.pos_hacia_atras_inicio_sec = []\n",
        "    self.pos_que_se_repiten = []\n",
        "    self.proximo_char_cadena_comprimida = []\n",
        "    self.index_actualCharacter = 0\n",
        "    self.string = string\n",
        "  \n",
        "  def comprimir(self):  \n",
        "    print ('---------------- COMPRIMIR ---------------------')\n",
        "    while  self.index_actualCharacter < len(self.string ):\n",
        "      aux =  self.index_actualCharacter\n",
        "      string2search = self.string [:aux]\n",
        "      \n",
        "      # EL CARACTER SE REPITE\n",
        "      if self.string [ self.index_actualCharacter] in string2search:\n",
        "        starting_index_character = self.string.find(self.string [self.index_actualCharacter])\n",
        "    \n",
        "        if  self.index_actualCharacter + 1 < len(self.string ):\n",
        "            substring = self.string [ self.index_actualCharacter]\n",
        "            aux2 =  self.index_actualCharacter + 1\n",
        "            substring += self.string [aux2]\n",
        "            self.count = 1\n",
        "            \n",
        "            #BUSCAMOS CUANTOS CARACTÉRES SE REPITEN\n",
        "            while substring in string2search: \n",
        "              starting_index_character = string2search.index(substring)\n",
        "              if aux2+1 < len(self.string ):\n",
        "                aux2 += 1\n",
        "                substring += (self.string [aux2])\n",
        "                self.count += 1\n",
        "              else:\n",
        "                break\n",
        "              \n",
        "            self.pos_hacia_atras_inicio_sec.append( self.index_actualCharacter - starting_index_character)\n",
        "            self.pos_que_se_repiten.append(self.count)\n",
        "            self.proximo_char_cadena_comprimida.append(string[aux2])\n",
        "\n",
        "        else:\n",
        "            self.pos_hacia_atras_inicio_sec.append(0)\n",
        "            self.pos_que_se_repiten.append(0)\n",
        "            self.proximo_char_cadena_comprimida.append(self.string[ self.index_actualCharacter])\n",
        "            \n",
        "        #Se han repido COUNT caractéres, por lo que actualizamos nuestro index del string\n",
        "        self.index_actualCharacter += self.count\n",
        "      \n",
        "      \n",
        "      \n",
        "      # NO SE REPITE CARÁCTER\n",
        "      else:\n",
        "        #print('no se repite')\n",
        "        self.pos_hacia_atras_inicio_sec.append(0)\n",
        "        self.pos_que_se_repiten.append(0)\n",
        "        self.proximo_char_cadena_comprimida.append(self.string[self.index_actualCharacter])\n",
        "      \n",
        "      self.index_actualCharacter += 1\n",
        "\n",
        "    print ('String a comprimir: ', self.string)\n",
        "    #print ('Array de posiciones a recorrer hacia atrás: ', self.pos_hacia_atras_inicio_sec)\n",
        "    #print ('Array de posiciones que se repiten: ', self.pos_que_se_repiten)\n",
        "    #print ('Próximo carácter de la cadena comprimida: ', self.proximo_char_cadena_comprimida)\n",
        "\n",
        "    return self.pos_hacia_atras_inicio_sec, self.pos_que_se_repiten, self.proximo_char_cadena_comprimida\n",
        "\n",
        "class Decompression:\n",
        "  def __init__(self, pos_hacia_atras_inicio_sec, pos_que_se_repiten, proximo_char_cadena_comprimida):\n",
        "    self.pos_hacia_atras_inicio_sec = pos_hacia_atras_inicio_sec\n",
        "    self.pos_que_se_repiten = pos_que_se_repiten\n",
        "    self.proximo_char_cadena_comprimida = proximo_char_cadena_comprimida\n",
        "    self.string = ''\n",
        "\n",
        "\n",
        "  def decomprimir(self):\n",
        "    print (f'\\n--------------- DECOMPRIMIR ---------------------')\n",
        "    self.string = self.proximo_char_cadena_comprimida[0]\n",
        "\n",
        "    for i in range(1, len(pos_hacia_atras_inicio_sec)):\n",
        "      if  pos_hacia_atras_inicio_sec[i] != 0:\n",
        "          nuevo_caracter_index = len(self.string) - pos_hacia_atras_inicio_sec[i]\n",
        "          for j in range (0, self.pos_que_se_repiten[i]):\n",
        "            self.string += self.string[nuevo_caracter_index+j] \n",
        "\n",
        "\n",
        "          self.string += proximo_char_cadena_comprimida[i]\n",
        "      else:\n",
        "          self.string += proximo_char_cadena_comprimida[i]   \n",
        "    print('STRING DESCOMPRIMIDO: ', self.string)"
      ],
      "execution_count": 366,
      "outputs": []
    },
    {
      "cell_type": "code",
      "metadata": {
        "id": "zBstiUPbK_OE",
        "colab": {
          "base_uri": "https://localhost:8080/"
        },
        "outputId": "d8a5a158-f77f-4e58-f011-00b5294f8369"
      },
      "source": [
        "compression_object = Compression(string)\n",
        "pos_hacia_atras_inicio_sec, pos_que_se_repiten, proximo_char_cadena_comprimida = compression_object.comprimir()\n",
        "\n",
        "decompression_object = Decompression(pos_hacia_atras_inicio_sec, pos_que_se_repiten, proximo_char_cadena_comprimida)\n",
        "decompression_object.decomprimir()\n"
      ],
      "execution_count": 367,
      "outputs": [
        {
          "output_type": "stream",
          "text": [
            "---------------- COMPRIMIR ---------------------\n",
            "String a comprimir:  Esto es una prueba de fuego para el algoritmo LZ77 de compresión-decompresión de la tarea 48. Se ha seguido el siguiente enlace: https://www.youtube.com/watch?v=y3xSuPDvpOE.\n",
            "\n",
            "--------------- DECOMPRIMIR ---------------------\n",
            "STRING DESCOMPRIMIDO:  Esto es una prueba de fuego para el algoritmo LZ77 de compresión-decompresión de la tarea 48. Se ha seguido el siguiente enlace: https://www.youtube.com/watch?v=y3xSuPDvpOE.\n"
          ],
          "name": "stdout"
        }
      ]
    },
    {
      "cell_type": "code",
      "metadata": {
        "id": "L9a5mpYYwzTI"
      },
      "source": [
        ""
      ],
      "execution_count": 270,
      "outputs": []
    },
    {
      "cell_type": "code",
      "metadata": {
        "id": "E79vYwlm1ZL2"
      },
      "source": [
        ""
      ],
      "execution_count": null,
      "outputs": []
    }
  ]
}

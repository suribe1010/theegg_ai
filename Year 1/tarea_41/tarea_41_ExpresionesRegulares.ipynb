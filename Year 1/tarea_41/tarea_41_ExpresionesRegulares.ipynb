{
  "nbformat": 4,
  "nbformat_minor": 0,
  "metadata": {
    "colab": {
      "name": "tarea_41_ExpresionesRegulares.ipynb",
      "provenance": [],
      "collapsed_sections": [],
      "authorship_tag": "ABX9TyMapTR/VdictcK3aPW4NLab",
      "include_colab_link": true
    },
    "kernelspec": {
      "name": "python3",
      "display_name": "Python 3"
    }
  },
  "cells": [
    {
      "cell_type": "markdown",
      "metadata": {
        "id": "view-in-github",
        "colab_type": "text"
      },
      "source": [
        "<a href=\"https://colab.research.google.com/github/suribe1010/theegg_ai/blob/master/tarea_41_ExpresionesRegulares.ipynb\" target=\"_parent\"><img src=\"https://colab.research.google.com/assets/colab-badge.svg\" alt=\"Open In Colab\"/></a>"
      ]
    },
    {
      "cell_type": "code",
      "metadata": {
        "colab": {
          "base_uri": "https://localhost:8080/"
        },
        "id": "5KdbVqqrMasp",
        "outputId": "cb1697db-bdcc-4329-fb16-d4339f8f5b3e"
      },
      "source": [
        "# RESUMEN DE TÉCNICAS DE RETEX\n",
        "\n",
        "import re\n",
        "texto = \"Lorem ipsum dolor sit amet, consectetur adipiscing elit, sed do eiusmod tempor incididunt ut labore et dolore magna aliqua. Duis aute irure dolor in reprehenderit in voluptate velit esse cillum dolore eu fugiat nulla pariatur.\"\n",
        "\n",
        "print(\"Busqueda de 1 coincidencia del patron\")\n",
        "patron = \"Lorem\"\n",
        "x1 = re.search(patron, texto) #Busca el patron dentro del texto\n",
        "print(x1.span()) #Escribe la posicion inicial y final de la ocurrencia\n",
        "print(\"============================================================\")\n",
        "print(\"Busca el patron unicamente al principio del texto. Si no está al principio salta error\")\n",
        "patron2 = \"ipsum\"\n",
        "x2 = re.match(patron, texto)#Busca el patron unicamente al principio del texto. Si no está al principio salta error\n",
        "print(x2.span())\n",
        "\n",
        "print(\"============================================================\")\n",
        "print(\"Busqueda de numerosas coincidencias\")\n",
        "patron3 = \"dolor\"\n",
        "x = re.finditer(patron3, texto)\n",
        "for i in x:\n",
        "    print(i.span())\n",
        "\n",
        "print(\"============================================================\")\n",
        "print(\"Búsqueda números impares --> patrón complejo\")\n",
        "texto2 = \"551 889 302 105 012 817 894 206\" \n",
        "patron4 = \"[0-9]{2}[13579]\" #es impar si los dos primeros números están entre 0-9 y si el último es 13579\n",
        "x = re.findall(patron4, texto2) #Devuelve un vector con los substrings de las ocurrencias, en lugar de las posiciones como hace finditer\n",
        "for i in x:\n",
        "    print(i)\n"
      ],
      "execution_count": 69,
      "outputs": [
        {
          "output_type": "stream",
          "text": [
            "Busqueda de 1 coincidencia del patron\n",
            "(0, 5)\n",
            "============================================================\n",
            "Busca el patron unicamente al principio del texto. Si no está al principio salta error\n",
            "(0, 5)\n",
            "============================================================\n",
            "Busqueda de numerosas coincidencias\n",
            "(12, 17)\n",
            "(103, 108)\n",
            "(140, 145)\n",
            "(194, 199)\n",
            "============================================================\n",
            "Búsqueda números impares --> patrón complejo\n",
            "551\n",
            "889\n",
            "105\n",
            "817\n"
          ],
          "name": "stdout"
        }
      ]
    },
    {
      "cell_type": "code",
      "metadata": {
        "colab": {
          "base_uri": "https://localhost:8080/"
        },
        "id": "B7ypfjA7RdoD",
        "outputId": "7eb6e15f-a314-4890-c4ba-1bed0481eb96"
      },
      "source": [
        "# EJERCICIO: calcular el número de caracteres, el número palabras y ranking de palabras por \n",
        "# frecuencia de uso del siguiente texto. La aplicación debe servir para cualquier otro texto.\n",
        "print(\"Introduce el texto que quieras examinar.\")\n",
        "texto = input()\n"
      ],
      "execution_count": 70,
      "outputs": [
        {
          "output_type": "stream",
          "text": [
            "Introduce el texto que quieras examinar.\n",
            "\"En Strandhill, Irlanda, se cruzó en mi camino Chris, un señor de los que inspiran y se posicionan como referente. Fue una pieza fundamental en un momento de pura congelación. Te cuento?Strandhill es una playa donde el mar ruge muy bien, siempre está lleno de surfistas en busca de buenas olas. Y allí estaba yo también. Después de unos meses viviendo en una ciudad sin costa, mis ganas por hacer un poco de surfing estaban por las nubes. Aunque tenía un «pequeño» problema: no tenía equipo, ni tabla, ni neopreno, y tampoco había ninguna tienda para alquilarlo.Todo se puso a rodar enseguida. Escribí a un famoso surfista de la zona y recibí una respuesta increíble. «Mi casa está en la calle x, la puerta está abierta y tienes la tabla en la esquina. Ven cuando quieras», me dijo. Y eso hice, fui para allá y la cogí. Aunque el neopreno no me lo pudo prestar, y no porque se negara? Lamentablemente le sacaba unos 15 cm de altura. Luego, en la playa, un alemán me solucionó el tema del neopreno. Me prestó uno que había por su maletero, uno muy fino, de los que uso yo en el Mediterráneo en otoño o primavera. Y claro, era invierno y estábamos en Irlanda.El caso es que salí del agua más pronto de lo previsto y con las manos, la cabeza y los labios congelados. Me empecé a cambiar en el mismo paseo que contorneaba la costa y, estando semidesnudo, se me acercó Chris. «Está fría el agua, eh», apuntó este fenómeno.Chris superaba los 65 años y todos los días hacía un recorrido de decenas de kilómetros para llegar hasta allí. Sus gracietas y su buena conversación me hicieron apartar el frío de la parte de mi cabeza que se encarga de pensar, y hasta cantamos juntos la canción de Annie.Sé que esto último puede sonar raro, ¿quién canta Annie semidesudo y congelado en un paseo de Irlanda con un señor que acaba de conocer? Pero? seguro que a ti también te han pasado cosas así.\"\n"
          ],
          "name": "stdout"
        }
      ]
    },
    {
      "cell_type": "code",
      "metadata": {
        "id": "lL-lRUfIUHM2",
        "colab": {
          "base_uri": "https://localhost:8080/"
        },
        "outputId": "af84ced7-d460-423c-df92-aee6d5b102b4"
      },
      "source": [
        "patron = \".\"\n",
        "x = re.findall(patron, texto)\n",
        "print(\"El número de caracteres del texto es: \", len(x))"
      ],
      "execution_count": 71,
      "outputs": [
        {
          "output_type": "stream",
          "text": [
            "El número de caracteres del texto es:  1882\n"
          ],
          "name": "stdout"
        }
      ]
    },
    {
      "cell_type": "code",
      "metadata": {
        "colab": {
          "base_uri": "https://localhost:8080/"
        },
        "id": "TkAUU07gDEEW",
        "outputId": "8475588e-fda3-4d33-d509-686605cff702"
      },
      "source": [
        "patron = r\"\\w+\"\n",
        "words = re.findall(patron, texto)\n",
        "print(\"El número de palabras del texto es: \", len(words))\n"
      ],
      "execution_count": 72,
      "outputs": [
        {
          "output_type": "stream",
          "text": [
            "El número de palabras del texto es:  348\n"
          ],
          "name": "stdout"
        }
      ]
    },
    {
      "cell_type": "code",
      "metadata": {
        "id": "gmyJzRWaDF4U"
      },
      "source": [
        "# Palabras que aparecen con mayor frecuencia\n",
        "# La palabra CASA es la misma que casa, pero en python existe distinción entre minusculas y mayusculas, por lo que vamos a trabajar sólo con mayúsculas\n",
        "words = [word.upper() for word in words] \n",
        "\n",
        "from collections import Counter\n",
        "word_counts = Counter(words) # Cuenta todas las palabras del texto\n",
        "\n",
        "\n",
        "def countsSortedAlphabetically(counter, **kw):\n",
        "    return sorted(counter.items(), **kw)\n",
        "def printByLine(tuples):\n",
        "    print( '\\n'.join(' '.join(map(str,t)) for t in tuples) )\n",
        "\n",
        "#printByLine(countsSortedAlphabetically(word_counts, reverse=True) ) #imprime todas las palabras con su ocurrencia en el texto"
      ],
      "execution_count": 76,
      "outputs": []
    },
    {
      "cell_type": "code",
      "metadata": {
        "colab": {
          "base_uri": "https://localhost:8080/"
        },
        "id": "rwGa0k63HZXl",
        "outputId": "d10591b4-ff61-42c9-85e5-e0c196d76540"
      },
      "source": [
        "print(\"Las 15 palabras que más se repiten son las siguientes: \\n\")\n",
        "word_counts.most_common(15) #Da el número n de las palabras más frecuentes"
      ],
      "execution_count": 78,
      "outputs": [
        {
          "output_type": "stream",
          "text": [
            "Las 15 palabras que más se repiten son las siguientes: \n",
            "\n"
          ],
          "name": "stdout"
        },
        {
          "output_type": "execute_result",
          "data": {
            "text/plain": [
              "[('DE', 18),\n",
              " ('Y', 17),\n",
              " ('EN', 13),\n",
              " ('LA', 11),\n",
              " ('UN', 9),\n",
              " ('QUE', 9),\n",
              " ('EL', 8),\n",
              " ('ME', 7),\n",
              " ('SE', 6),\n",
              " ('LOS', 5),\n",
              " ('UNA', 4),\n",
              " ('ESTÁ', 4),\n",
              " ('A', 4),\n",
              " ('IRLANDA', 3),\n",
              " ('MI', 3)]"
            ]
          },
          "metadata": {
            "tags": []
          },
          "execution_count": 78
        }
      ]
    },
    {
      "cell_type": "code",
      "metadata": {
        "id": "aRkzKiLtOorA"
      },
      "source": [
        ""
      ],
      "execution_count": null,
      "outputs": []
    }
  ]
}

{
  "nbformat": 4,
  "nbformat_minor": 0,
  "metadata": {
    "colab": {
      "name": "tarea_44.ipynb",
      "provenance": [],
      "authorship_tag": "ABX9TyPT8FBmef0lAATEiEC9Y/F1",
      "include_colab_link": true
    },
    "kernelspec": {
      "name": "python3",
      "display_name": "Python 3"
    }
  },
  "cells": [
    {
      "cell_type": "markdown",
      "metadata": {
        "id": "view-in-github",
        "colab_type": "text"
      },
      "source": [
        "<a href=\"https://colab.research.google.com/github/suribe1010/theegg_ai/blob/master/tarea_44.ipynb\" target=\"_parent\"><img src=\"https://colab.research.google.com/assets/colab-badge.svg\" alt=\"Open In Colab\"/></a>"
      ]
    },
    {
      "cell_type": "markdown",
      "metadata": {
        "id": "F-S_wJ8uCLG3"
      },
      "source": [
        "**NOTACIÓN BIG-O --> COMPLEJIDAD DE UN ALGORITMO**\r\n",
        "\r\n",
        "Comparar tiempos de 2 funciones que realizan lo mismo. Una suma de uno en uno los números y la otra con la fórmula de Gauss **(n/2)*(n+1)** que también da como resultado la suma de los números.\r\n",
        "\r\n",
        "1+2+3+4+5+6+7+8+9+10 = 55\r\n",
        "\r\n",
        "(10/2)*(10+1) = 55\r\n",
        "\r\n",
        "Ejercicio planteado en los siguientes videos:\r\n",
        "\r\n",
        "https://www.youtube.com/watch?v=GD254Gotp-4\r\n",
        "\r\n",
        "https://www.youtube.com/watch?v=MaY6FpP0FEU"
      ]
    },
    {
      "cell_type": "code",
      "metadata": {
        "colab": {
          "base_uri": "https://localhost:8080/"
        },
        "id": "-R8uUfpVCG6J",
        "outputId": "d103049a-2e4f-4065-885f-e31ab2364c88"
      },
      "source": [
        "import time\r\n",
        "import matplotlib.pyplot as plt\r\n",
        "import math\r\n",
        "\r\n",
        "def suma_lineal(n):\r\n",
        "  suma = 0\r\n",
        "  for i in range(1, n+1):\r\n",
        "    suma += i\r\n",
        "  return suma\r\n",
        "\r\n",
        "def suma_constante(n):\r\n",
        "  return (n/2) * (n+1)\r\n",
        "\r\n",
        "cantidad = 1000000\r\n",
        "for i in range (4):\r\n",
        "  t0 = time.time()\r\n",
        "  suma1 = suma_lineal(cantidad)\r\n",
        "  t1 = time.time()\r\n",
        "\r\n",
        "  suma2 = suma_constante(cantidad)\r\n",
        "  t2 = time.time()\r\n",
        "\r\n",
        "  print(\"Tiempo en realizar la suma 1 para \", cantidad, \"números: \", round(t1-t0,2), \"s\")\r\n",
        "  print(\"Tiempo en realizar la suma 2 para \", cantidad, \"números: \", round(t2-t1,2), \"s\")\r\n",
        "  print(\"-----------------------------------------------------------------------\")\r\n",
        "\r\n",
        "  cantidad *= 10\r\n"
      ],
      "execution_count": 28,
      "outputs": [
        {
          "output_type": "stream",
          "text": [
            "Tiempo en realizar la suma 1 para  1000000 números:  0.07 s\n",
            "Tiempo en realizar la suma 2 para  1000000 números:  0.0 s\n",
            "-----------------------------------------------------------------------\n",
            "Tiempo en realizar la suma 1 para  10000000 números:  0.63 s\n",
            "Tiempo en realizar la suma 2 para  10000000 números:  0.0 s\n",
            "-----------------------------------------------------------------------\n",
            "Tiempo en realizar la suma 1 para  100000000 números:  6.1 s\n",
            "Tiempo en realizar la suma 2 para  100000000 números:  0.0 s\n",
            "-----------------------------------------------------------------------\n",
            "Tiempo en realizar la suma 1 para  1000000000 números:  62.71 s\n",
            "Tiempo en realizar la suma 2 para  1000000000 números:  0.0 s\n",
            "-----------------------------------------------------------------------\n"
          ],
          "name": "stdout"
        }
      ]
    },
    {
      "cell_type": "code",
      "metadata": {
        "id": "Qbw76rQaMhqj"
      },
      "source": [
        ""
      ],
      "execution_count": null,
      "outputs": []
    }
  ]
}

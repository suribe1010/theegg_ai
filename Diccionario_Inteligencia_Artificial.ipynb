{
  "nbformat": 4,
  "nbformat_minor": 0,
  "metadata": {
    "colab": {
      "name": "Diccionario Inteligencia Artificial.ipynb",
      "provenance": [],
      "collapsed_sections": [],
      "authorship_tag": "ABX9TyP1f9SbpwS+eB4a2gNjVEGl",
      "include_colab_link": true
    },
    "kernelspec": {
      "name": "python3",
      "display_name": "Python 3"
    }
  },
  "cells": [
    {
      "cell_type": "markdown",
      "metadata": {
        "id": "view-in-github",
        "colab_type": "text"
      },
      "source": [
        "<a href=\"https://colab.research.google.com/github/suribe1010/theegg_ai/blob/master/Diccionario_Inteligencia_Artificial.ipynb\" target=\"_parent\"><img src=\"https://colab.research.google.com/assets/colab-badge.svg\" alt=\"Open In Colab\"/></a>"
      ]
    },
    {
      "cell_type": "markdown",
      "metadata": {
        "id": "klmGfqQPcbO1"
      },
      "source": [
        ""
      ]
    },
    {
      "cell_type": "markdown",
      "metadata": {
        "id": "XmNGUNaeGXRX"
      },
      "source": [
        "# PALABRAS CLAVE EN LA FORMACIÓN EN INTELIGENCIA ARTIFICIAL\n",
        "\n",
        "------------------------------------------------------------------------------------------------------------------\n",
        "\n",
        "\n",
        "**1.1 turing:** hace referencia al matemático, informático, entre otros, con gran influencia en la computación. Trabajó descifrando códigos nazis, los de la máquina Enigma.\n",
        "\n",
        "**1.1 programación:** tarea de programar una computadora, algoritmo de forma ordenadora y estructurada.\n",
        "\n"
      ]
    },
    {
      "cell_type": "markdown",
      "metadata": {
        "id": "56OPwRUUdXwB"
      },
      "source": [
        "------------------------------------------------------------------------------------------------------------------------------"
      ]
    },
    {
      "cell_type": "markdown",
      "metadata": {
        "id": "6IppljPMKWZk"
      },
      "source": [
        "\n",
        "**1.2 transistor:** dispositivo que conmuta para abrir/cerrar circuitos. De esta forma, generan bits(0 ó 1). \n",
        "\n",
        "**1.2 ley de moore:** expresión que da el nº de transistores durante el tiempo. Se puede caracterizar lineal con pendiente +2000 transistores/año.\n",
        "\n",
        "**1.2 puertas lógicas:** circuitos con señales input 0 ó 1 y que dan una señal output consecuencia de la operación realizada con las señales input.\n",
        "\n"
      ]
    },
    {
      "cell_type": "markdown",
      "metadata": {
        "id": "0fN9nsRwcgUe"
      },
      "source": [
        "-------------------------------------------------------------------------------------------------------------------------"
      ]
    },
    {
      "cell_type": "markdown",
      "metadata": {
        "id": "kcIRoyXHKa0i"
      },
      "source": [
        "**1.3 interfaz:** dispositivo o sistema de comunicación entre sistemas que utilizan distintas señales.\n",
        "\n",
        "**1.3 threads:** (hilo), cada uno de los procesos que compone una tarea a ejecutar en una computadora.\n",
        "\n",
        "**1.3 periférico:** dispositivo que se acopla a una unidad --> hardware.\n",
        "\n",
        "**1.3 IoT:** Internet of things. Internet de las cosas, puede ser un objeto, persona, animal, cualquier cosa que se le puede identificar, asignar una IP y darle la capacidad de transferir datos a través de la red. Es tener, el tracking de cualquier objeto, por ejemplo, saber cuantas botellas hay en una máquina espendedora.\n",
        "\n",
        "**1.3 von neumann:** arquitectura que seguían las primeras computadoras.\n",
        "\n",
        "**1.3 harvard:** otro tipo de arquitectura de las primeras computadoras.\n",
        "\n",
        "**1.3 sistema operativo:** conjunto de programas que gestiona, ordena y permite la utilización de los recursos y servicios de una computadora. \n",
        "\n",
        "**1.3 kernel:** parte central del S.O. Desarrolla la comunicación SW-HW. Tiene otras tareas asignadas como la gestión de la memoria RAM.\n",
        "\n",
        "**1.3 BIOS:** Binary Input Output System. Chip que pone en funcionamiento el HW de la place base: RAM, disco duro,...\n",
        "\n",
        "**1.3 software:** aplicaciones informáticas desarrollado con lenguaje de programación.\n",
        "\n",
        "**1.3 hardware:** componentes fisicos de un sistema informático.\n",
        "\n",
        "**1.3 rapsberry pi:** ordenador de placa reducida, ordenador de placa simple(SBC), minicomputadora.\n",
        "\n",
        "**1.3 arduino:** placa de desarrollo HW para controlar dispositivos electrónicos."
      ]
    },
    {
      "cell_type": "markdown",
      "metadata": {
        "id": "Bi9EssUScj_G"
      },
      "source": [
        "-------------------------------------------------------------------------------------------------------------------------"
      ]
    },
    {
      "cell_type": "markdown",
      "metadata": {
        "id": "BftKJMIfcWs5"
      },
      "source": [
        "**1.4 compilador:** programa para la conversión de código de usuario a código entendible por la máquina.\n",
        "\n",
        "**1.4 interprete:** ejecuta el programa directamente, realizando la conversión cuando es necesario."
      ]
    },
    {
      "cell_type": "markdown",
      "metadata": {
        "id": "2pPwjmQdcu4m"
      },
      "source": [
        "-------------------------------------------------------------------------------------------------------------------------"
      ]
    },
    {
      "cell_type": "markdown",
      "metadata": {
        "id": "tdhoYfI4Rmqw"
      },
      "source": [
        "**1.5 R:** lenguaje de programación orientado al análisis estadístico. Muy utilizado en ML.\n",
        "\n",
        "**1.5 Lisp:** utilizado en AI, es un lenguaje utilizado en programación no numérica.\n",
        "\n",
        "**1.5 Java:** lenguaje orientado a objetos que se puede ejecutar en cualquier dispositivo, sistema operativo, en red, ...\n",
        "\n",
        "**1.5 SQL:** Structured Query Language, es un lenguaje de programación que trabaja con bases de datos, almacenamiento de datos. SQL sirve para acceder y operar en la base de datos.\n",
        "\n",
        "**1.5 NoSQL:** sistemas de gestión de bases de datos pero que no usan SQL, además los datos almacenados no requieren su almacenaje en tablas. Utilizadas ampliamente en las redes sociales."
      ]
    },
    {
      "cell_type": "markdown",
      "metadata": {
        "id": "3-gXVe6icwEt"
      },
      "source": [
        "-------------------------------------------------------------------------------------------------------------------------"
      ]
    },
    {
      "cell_type": "markdown",
      "metadata": {
        "id": "hK49e3InVxRv"
      },
      "source": [
        "**1.6 repositorio de control de versiones:** almacenaje de metadatos(datos que dan info de otros datos). Permiten crear versiones de los datos que fueron previamente guardados.\n",
        "\n",
        "**1.6 github:** repositorio de control de versiones (GIT) utilizado para la creación de código fuente de programas de ordenador."
      ]
    },
    {
      "cell_type": "markdown",
      "metadata": {
        "id": "urkQOH5zcxR2"
      },
      "source": [
        "-------------------------------------------------------------------------------------------------------------------------"
      ]
    },
    {
      "cell_type": "markdown",
      "metadata": {
        "id": "jojZZkApXq62"
      },
      "source": [
        "**1.7 javascript:** lenguaje de programación interpretado, para el desorrollo de aplicaciones dinámicas en páginas web. Se utiliza principalmente del lado del cliente.\n",
        "\n",
        "**1.7 php:** Hypertext Preprocessor. Lenguaje ejecutado en el servidor que genera código HTML para diseño de páginas web y que envía al cliente. El cliente únicamente recibe el resultado de recibir el código. \n",
        "\n",
        "**1.7 CSS:** lenguaje utilizado para el diseño de las páginas webs. Bibliotecas que contienen diversas hojas de estilo.\n",
        "\n",
        "**1.7 arquitectura cliente-servidor:** modelo de SW donde un cliente emite una petición y el servidor ejecuta un programa y da la respuesta. Utilizado para redes de computadoras."
      ]
    },
    {
      "cell_type": "markdown",
      "metadata": {
        "id": "gSuAeB6fcx9e"
      },
      "source": [
        "-------------------------------------------------------------------------------------------------------------------------"
      ]
    },
    {
      "cell_type": "markdown",
      "metadata": {
        "id": "LpjnA1K6ZTln"
      },
      "source": [
        "**2.1 Diagrama de flujo:** gráfico del flujo de información. Representación gráfica de un algoritmo.\n",
        "\n",
        "**2.1 Notación big-o:** utilizado en el análisis del tiempo de ejecución de un algoritmo.\n",
        "\n",
        "**2.1 Algoritmos de cifrado:** utilizado para dar seguridad en el trasporte electrónico de datos --> encriptación de datos.\n",
        "\n",
        "**2.1 Cifrado simétrico:** clave utilizada para cifrar los datos. Tanto emisor como receptor deben conocer la clave.\n",
        "\n",
        "**2.1 Cifrado asimétrico:** se utilizan 2 claves. Una pública para cifrar los datos y otra privada para descifrarlo. El emisor necesita saber la clave pública del destinatario para cifrar los datos. El destinatario debe conocer la privada para descrifrarlo.\n",
        "\n",
        "-------------------------------------------------------------------------------------------------------------------------\n"
      ]
    },
    {
      "cell_type": "markdown",
      "metadata": {
        "id": "jMSbMrEWV7Mj"
      },
      "source": [
        "**2.5 arquitectura cliente-servidor:** paradigma donde para tener una comunicación efectiva, ya sea a través de páginas web, correos, transferencia de datos, se necesita un cliente que haga un request de un servicio, y un servidor que ejecute dicho servicio.\n",
        "\n",
        "**2.5 FTP:** file transfer protocol. Es el idioma que se utiliza para transferencia de datos entre sistemas conectados a una TCP(Transmissioon Control Protocol). El cliente se conecta al servidor para descargar archivos de él o alojarlos en él. Regido por el protocolo TCP/IP, utiliza los puertos reservados 20 y 21.\n",
        "\n",
        "**2.5 servidor-web:** es el SW que ejecuta la aplicación del lado de servidor. Suele emplear el protocolo HTTP.\n",
        "\n",
        "**2.5 IP:** Internet protocol. Dirección única de cada dispositivo que se comunica con Internet. Para acceder a cualquier web/dispositivo, se necesita conocer su IP. Es el router el encargado de asignar diferentes direcciones IP a cada dispositivo.\n",
        "\n",
        "**2.5 DNS:** Domain Name Servers. Suplanta con un nombre una dirección IP. Recordar una serie de numeros para acceder a unos cuantos servidores es una tarea díficil.\n",
        "\n",
        "**2.5 protocolo TCP/IP:** Transmission Control Protocol and Internet Protocol. Son los 2 protocolos más importantes en el funcionamiento de internet. Permite la transferencia de datos entre 2 equipos informáticos en la red.\n",
        "\n",
        "--------------------------------------------------------------------------------------------------------------------------\n",
        "\n",
        "\n"
      ]
    },
    {
      "cell_type": "markdown",
      "metadata": {
        "id": "JGunpU5IlWmA"
      },
      "source": [
        "**3.1 ETL:** extract, transform and load. Extraer los datos que necesitamos, transformalos según nuestra convinencia y cargarlos a la base de datos donde aplicaremos procesos de ML o semejantes. Las transformaciones se realizan en el Staging, un repositorio temporal para procesar estos datos. Para la carga, habrá que tener en cuenta donde tenemos la base de datos(en Redshift --> hacer copy, en Oracle --> Bulk Collect)\n",
        "\n",
        "**3.1 bases de datos:** conjunto de datos relacionados almacenados para su uso. Existen sistemas de gestión de estas bases de datos --> Database MAnagement System DBMS. Destacan las bases de datos orientadas a objetos --> se almacenan estado y comportamiento de objetos, asi como herencia de los objetos\n",
        "\n",
        "**3.1 data-preprocessing:** antes del analísis de los datos, habrá que eliminar valores imposibles, valores nulos y faltantes, etc..\n",
        "\n",
        "-------------------------------------------------------------------------------------------------------------------------------------------\n"
      ]
    },
    {
      "cell_type": "markdown",
      "metadata": {
        "id": "piDYJcXttB0s"
      },
      "source": [
        "**3.3 bucles:** secuencia que ejecuta repetidas veces una serie de instrucciones."
      ]
    },
    {
      "cell_type": "markdown",
      "metadata": {
        "id": "TUsR8B9ycyxg"
      },
      "source": [
        "**3.4 API:** Application programming interface. Se trata del conjunto de llamadas a ciertas bibliotecas de uso general, evitando su programación desde un primer momento. \n",
        "\n",
        "**3.4 JSON:** JavaScript Object Notation. Formato de texto para el intercambio de datos entre un navegador y un servidor. Ha sucedido a XML ya que es más sencillo escribir un parser para él. Se emplea en entornos donde el tamaño de flujo de datos es grande. Cualquier objeto de Javascript puede escribirse en JSON (en formato texto), lo que se envía al servidor.\n",
        "var myObj = {name: \"John\", age: 31, city: \"New York\"};\n",
        "var myJSON = JSON.stringify(myObj);\n",
        "\n",
        "**3.4 XML:** eXtensible Markup Language. Utilizado para almacenar datos de forma legible. Da soporte a bases de datos, editores de texto, hojas de cálculo, etc..\n",
        "\n",
        "**3.4 parser:** programa analizador. Convierte el texto de entrada en otras estructuras más fáciles de analizar, como árboles. \n",
        "\n",
        "-------------------------------------------------------------------------------------------------------------------------------------------"
      ]
    },
    {
      "cell_type": "markdown",
      "metadata": {
        "id": "XPklEN35pY2q"
      },
      "source": [
        "**3.6 bases de datos:**\n",
        "\n",
        "**- relacionales:** Oracle. Almacena y proporciona acceso a puntos de datos relacionados entre sí. Lenguaje: SQL. \n",
        "Tipos dentro de las bases de datos relacionales: MySQL, SQL server, Oracle,... pero todos usan SQL como lenguaje.\n",
        " \n",
        "**- NoSQL:** las bases de datos SQL tienen limitaciones. Las bases de datos relacionales suelen estar centralizadas \n",
        "en un único servidor, sin embargo en los casos NoSQL la información puede estar compartida en varios servidores distribuidos. \n",
        "Digamos que son más flexibles y que con mucho dato el acceso a la información es más rápida.\n",
        "También tiene sus desventajas. Al igual que con las relacionales existen diferentes marcas: Cassandra, MongoDB, BigTable...\n",
        " \n",
        "**- Bases de datos autogestionadas, autónomas:** utilizan el modelo relacional pero utilizan IA para mejorar el rendimiento de las consultas. Las más modernas pero su uso no se ha generalizado. \n",
        "\n",
        "-------------------------------------------------------------------------------------------------------------------------------------------\n",
        "**LEARNING SQL(Structured Query Language)**: lenguaje de consulta estructurada utilizado para administrar y recuperar información desde sistemas de gestión de bases de datos relacionales. \n",
        "https://sqlzoo.net/\n",
        "https://www.sql-easy.com/\n",
        "  - SELECT - extracts data from a database\n",
        "  - UPDATE - updates data in a database\n",
        "  - DELETE - deletes data from a database\n",
        "  - INSERT INTO - inserts new data into a database\n",
        "  - CREATE DATABASE - creates a new database\n",
        "  - ALTER DATABASE - modifies a database\n",
        "  - CREATE TABLE - creates a new table\n",
        "  - ALTER TABLE - modifies a table\n",
        "  - DROP TABLE - deletes a table\n",
        "  - CREATE INDEX - creates an index (search key)\n",
        "  - DROP INDEX - deletes an index"
      ]
    },
    {
      "cell_type": "markdown",
      "metadata": {
        "id": "6wzHnvyfVDaJ"
      },
      "source": [
        "\n",
        "**3.7 routers:** gestores que conectán los ordenadores con la mulitud de redes existentes. Son el puente digital(gateway). Conectan nuestro ordenador con el servidor o ordenador de destino(web, FTP,...)\n",
        "\n",
        "Pero hay más intermediarios que aparecen en estas comunicaciones: switches o hubs.\n",
        "\n",
        "**3.7 hub:** conecta todos dispositivos a una red interna. El hub tiene varios puertos para conectar puertos ethernet. Pero no es inteligente, no sabe a donde enviar los datos. Solo sabe cuando le conectan un dispositivo a uno de sus puertos. El hub lo que hace es: recibe de un dispositivo un paquete de datos y lo envía a los demás dispositivos que tiene conectados.\n",
        "\n",
        "**3.7 switch:** igual que el hub pero inteligente. Aprende las direcciones de los dispositivos(direcciones MAC --media access control--, únicas para cada ordenador) y envía solo los paquetes de datos al puerto deseado. \n",
        "\n",
        "** el hub y el switch se utilizan para el intercambio de datos dentro de una red local(empresa), el router para el intercambio fuera de la propia red(internet). Para ello necesitamos routers que puedan leer direcciones IP. El router lo único que hace es enviar los datos de una red a otra. Dentro de una determinada red, el switch o el hub cogen el paquete de datos y lo distribuyen en los dispositivos. El router coge los paquetes que son para dicha red. En una misma red, las IP no se repiten.\n",
        "\n",
        "-------------------------------------------------------------------------------------------------------------------------------------------\n",
        "\n",
        "**3.7 tipos de redes:**\n",
        "\n",
        "- LAN(Local Area Network): el usuario es dueño de la red.\n",
        "- MAN(Metropolitan Area Network): Dan servicio a múltiples usuarios, en áreas metropolitanas.\n",
        "- WAN(Wide Area Network): atraviesan paises. Internet.\n",
        "- VPN(Virtual Private Network): conocidas como Intranet. Redes de gran extensión, donde los usuarios aprovechan los recursos de internet. Por ej. la intranet de una empresa con sede en varios paises. \n",
        "\n",
        "En ocasiones las redes intentan enviar paquetes de datos al mismo tiempo, produciendose una **colisión**, enviando de nuevo el paquete cuando la red esté libre. Una red comparte el ancho de banda con los dispositivos, por lo que cuantos más estaciones/dispositivos --> más colisiones --> menor velocidad de transmisión de datos.\n",
        "\n",
        "**Máscara de red:** las IP se repiten en subredes. La máscara de red sirve para saber si un dispositivo está en la misma subred de la que se ha lanzado el paquete de datos.\n",
        "\n",
        "Además, cada subred tiene otras direcciones especiales: \n",
        "\n",
        "**Dirección base:** dirección logica de hacer una puerta lógica AND entre una dirección de red y la máscara de red.\n",
        "\n",
        "**Dirección broadcast:** dirección para contactar con todas las computadoras de una subred al mismo tiempo. Puerta lógica OR entre la dirección base y el inverso de la máscara de red.\n",
        "\n",
        "**Localhost:** dirección para crear una conexión en la propia computadora. Como no se pueden utilizar direcciones IP al azar, deben ser únicas en el mundo, existen 3 rangos de IP reservadas para esto.\n",
        "\n",
        "Nuevo protocolo **IPv6**, direcciones de 128 bit. Cada ordenador puede tener varias IPs. Las computadoras deben soportar multicast, acceso a varias computadoras, distinto de unicast(a una) y broadcast(a todas). \n",
        "\n",
        "**DNS(domain name system):** asignan IP(nameservers). Los nombres estan estructurados en jerarquía, separados por puntos.este término hace referencia al sistema en general en el que está basado el funcionamiento de los dominios en Internet: una red mundial de servidores que traducen nombres que tú como humano entiendes, a direcciones IP que las máquinas entienden.\n",
        "ó Domain Name Server: este término se utiliza para referenciar un servidor DNS concreto, una máquina que está conectada a Internet y que se encarga de responder consultas DNS de otras máquinas. Es decir, una célula del entramado mundial de DNS.\n",
        "\n",
        "La red **Ethernet** es la más extendida. Para poder comunicar 2 ordenadores, se necesita que tenga tarjetas de red, conectados con cable coaxial, router(inalambrico o no). Inalámbrico --> antenas, conexión por radio frecuencia.\n",
        "\n",
        "-------------------------------------------------------------------------------------------------------------------------------------------"
      ]
    },
    {
      "cell_type": "markdown",
      "metadata": {
        "id": "PfHvLAr9pmfz"
      },
      "source": [
        "**3.9 Simulador de redes Packet Tracer:**\n",
        "\n",
        "\n",
        "**PDU (Protocol Data Unit):** a message type that is going to be transferring between 2 network devices.\n",
        "\n",
        "**PC, server WEB & server DNS:** con un ordenador, un servidor WEB y un servidor DNS es suficiente para ilustrar lo siguiente. El ordenador es capaz \n",
        "de conectarse al servidor WEB(a la página web conociendo su IP). Pero como las IP son difíciles de memorizar, un servidor DNS se encarga de relacionar la IP con el nombre de la página web. Así por tanto, podemos acceder desde el PC a la página web en el servidor WEB a través del servidor DNS.\n",
        "\n",
        "**Red con servidor DHCP (Protocolo de Configuración Dinámica de Host):** protocolo mediante el cual los routers, hubs o conmutadores pueden asignar de forma automática una IP a los dispositivos que solicitan conectarse a una red.\n",
        "\n",
        "**Red VLAN(Virtual Local Area Network):** son redes virtuales indipendientes que en lo que concierne a la seguridad, los dispositivos pertenecientes a una VLAN no tienen acceso a los que se encuentren en otras y viceversa. Resulta útil cuando queremos segmentar los equipos y limitar el acceso entre ellos por temas de seguridad. Tendríamos a los dispositivos divididos en «clases» aunque pertenezcan a una misma red.\n",
        "Para que haya comunicación entre redes VLAN, insertamos un Router al Switch(en este último están las 3 redes) en modo TRUNK.\n",
        "\n",
        "**Unión redes VLAN con router**\n",
        "\n",
        "**Unión redes con enrutamiento estático:** \n",
        "El enrutamiento estático es la alternativa a los protocolos de enrutamiento, donde se especifican las redes de destino, por donde enviar la información y la distancia administrativa.\n",
        "\n",
        "Un administrador de red puede configurar una ruta estática de forma manual para alcanzar una red específica. A diferencia de un protocolo de routing dinámico, las rutas estáticas no se actualizan automáticamente, y se deben volver a configurar de forma manual cada vez que cambia la topología de la red. Una ruta estática no cambia hasta que el administrador la vuelve a configurar en forma manual. \n",
        "\n",
        "Al configurar la ruta estática, se han de especificar los siguientes datos:\n",
        "\n",
        "- IP de red de destino.\n",
        "- Máscara de red de destino.\n",
        "- IP del router por el cual se enviarán los paquetes o bien interfaz de envío de los datos.\n",
        "- Distancia Administrativa.\n",
        "\n",
        "-------------------------------------------------------------------------------------------------------------------------------------------\n"
      ]
    },
    {
      "cell_type": "markdown",
      "metadata": {
        "id": "bWqVgY_5cEZ5"
      },
      "source": [
        "**4. LA SEGURIDAD ES IMPORTANTE**\n",
        "\n",
        "\n",
        "Ataques que se pueden dar en la seguridad, por CRACKERS, que no HACKERS(persona capaz de introducirse en sistemas informáticosajenos pero sin fines ilícitos):\n",
        "\n",
        "**1.- DDoS (denegación de servicio):** Imaginad que tenéis una aplicación web de Inteligencia Artificial para la detección de objetos en imágenes. A esta aplicación se accederá escribiendo la URL (dirección) en el navegador. Pues bien, el servidor donde se ejecuta vuestra aplicación solo puede procesar una cierta cantidad de solicitudes de una vez, de modo que si un atacante sobrecarga el servidor con muchas solicitudes, el servidor no dará más de sí. El servidor se caerá y nadie podrá disfrutar del servicio que ofreces.\n",
        "\n",
        "**2.- Inyección SQL:** Son fragmentos de código que generalmente el cracker introduce utilizando una puerta de entrada que siempre está accesible como son los campos de los formularios de cualquier aplicación web (por ejemplo, el buscador de google es un campo de un formulario, formularios para el inicio de sesión, formularios de contacto,...) para obtener información de las bases de datos o alterarlas. Es necesario poner filtros de seguridad detrás de todo formulario e incluso cifrar la información relevante escrita en las bases de datos por si alguien externo a la organización accediese a ellas.\n",
        "\n",
        "**3.- Man in the middle:** Ocurre cuando una comunicación entre dos sistemas es interceptada por una entidad externa. Piensa lo que podría hacer un cracker si interviene tus comunicaciones cuando inicias una sesión en tu red social favorita. Podría interceptar y capturar cualquier información que enviamos al servidor, como credenciales de inicio de sesión o información financiera.\n",
        "\n",
        "**4.- XSS (Cross-Site Scripting):** Cuando el atacante es capaz de inyectar un script, normalmente Javascript, en la salida de una aplicación web de forma que esta se ejecutará en el navegador del cliente. Por ejemplo, una ventana emergente que enlace a otra aplicación web.\n",
        "\n",
        "**5.- Ingeniería social:** Trata del arte de manipular a las personas para que compartan su información confidencial: contraseñas, información bancaria, ... Imagina por un momento que eres un alto ejecutivo de una importante multinacional y que dispones de información privada sobre las cuentas de las empresa en el ordenador del trabajo. Te acabas de encontrar un pendrive en el suelo y decides mirar el contenido. Introduces el pendrive en el ordenador y... El atacante acaba de instalar software malicioso en tu ordenador que le dará acceso a toda la información de la corporación. Otra forma es el PHISING(email, fake webs).\n",
        "\n",
        "**Ante grandes problemas grandes soluciones:** prevención --> se utilizan técnicas y metodologías de Pentesting. Es una abreviatura de las palabras inglesas ?penetration? y ?testing?. Se refiere a la práctica de atacar diversos entornos con la intención de descubrir errores, vulnerabilidades u otros fallos de seguridad, para así poder prevenir ataques externos hacia esos equipos o sistemas. \n",
        " - **Wireshark:** Herramienta gratuita y multiplataforma con interfaz gráfica para el análisis de red.\n",
        " - **Advanced Port Scanner:** Explorador de redes gratuito que permite encontrar con rapidez los puertos abiertos de los equipos conectados a la red e identificar las versiones de los programas que se están ejecutando en los puertos detectados.\n",
        " -------------------------------------------------------------------------------------------------------------------------------------------"
      ]
    },
    {
      "cell_type": "markdown",
      "metadata": {
        "id": "ivbDucZBsMMb"
      },
      "source": [
        "**4.1. Expresiones Regulares o REGEX o Patrones**\n",
        "\n",
        "Sirven para encontrar carácteres dentro de una cadena de texto. For instance, se puede usar para comprobar que una contraseña cumple con ciertos criterios. Para **scrapping** (raspado de páginas webs, muy utilizado en IA): técnica de extracción de datos de páginas webs(pueden ser de terceros). Para php la librería CURL, para python las librerías beautifulsoup(extraer enlaces url) o scrapy o urllib(extrae el código html de la página). \n",
        "Síntaxis en python: https://platzi.com/blog/expresiones-regulares-python/.\n",
        "\n",
        "Aspectos básicos de las expresiones regulares: \n",
        "- Metacaracteres: dependen del contexto. Suelen tener un significado especial para las expresiones regulares.\n",
        " - Anclas: indican que lo que queremos encontrar está al principio o final de la cadena. \n",
        " - Clases de caracteres: para listar varias opciones, p.ej. niñ[oa]s: coincide con niños y niñas.\n",
        "  - ** si lo que se quiere es usar el guión como metacaracter para su búsqueda, se usará de la siguiente forma [o\\-a] o [oa-] o [-oa]: esto da una combinación\n",
        "- Rangos: podemos usar rangos p.ej. para buscar un determinado número.\n",
        " - [a-c] equivale a [abc].\n",
        " - [0-9] equivale a [0123456789]\n",
        "\n",
        "- Rango negado: listar caracteres que no deben aparecer. \n",
        " - [^abc]: coincide con cualquier caracter distinto a a, b y c\n",
        "\n",
        "- Clases predefinidas:  En Python, así como en otros lenguajes, se soportan las clases predefinidas de Perl y de POSIX.\n",
        " - \\d (POSIX [[:digit:]]): equivale a [0-9]\n",
        " - \\s (POSIX [[:space:]]): caracteres de espacio en blanco (espacio, tabulador, nueva línea, etc)\n",
        " - \\w (POSIX [[:word:]]): letras minúsculas, mayúsculas, números y guión bajo (_)\n",
        "\n",
        "- Cuantificadores: conjunto de caracteres que multiplican el patrón que les precede. Con las clases de caracteres únicamente podemos buscar 1 número o letra. Con los cuantificadores, podemos buscar cero o más letras, al menos 7 dígitos, o entre tres y cinco letras mayúsculas.\n",
        " - ?: coincide con cero o una ocurrencia del patrón. Dicho de otra forma, hace que el patrón sea opcional\n",
        " - +: coincide con una o más ocurrencias del patrón\n",
        " - *: coincide con cero o más ocurrencias del patrón.\n",
        " - {x}: coincide con exactamente x ocurrencias del patrón\n",
        " - {x, y}: coincide con al menos x y no más de y ocurrencias. Si se omite x, el mínimo es cero, y si se omite y, no hay máximo. Esto permite especificar a los otros como casos particulares: ? es {0,1}, + es {1,} y * es {,} o {0,}.\n",
        "    - .* : cualquier cadena, de cualquier largo (incluyendo una cadena vacía)\n",
        "    - [a-z]{3,6}: entre 3 y 6 letras minúsculas\n",
        "    - \\d{4,}: al menos 4 dígitos\n",
        "    .*hola!?: una cadena cualquiera, seguida de hola, y terminando (o no) con un !\n",
        "- Otros metacaracteres: \n",
        " - bbbbb: b+ coincide con la cadena entera, mientras que b+? coincide solamente con b. Es decir, la menor cadena que cumple el patrón.\n",
        " - ab+ coincide con ab, abb, abbbbb, …, mientras que (ab)+ coincide con ab, abab, abab…\n",
        " - | : permite definir opciones para el patrón: perro|gato coincide con perro y con gato.\n",
        "\n",
        "**Módulo RE**: Para utilizar Expresiones Regulares, Python provee el módulo re. Importando este módulo podemos crear objetos de tipo patrón y generar objetos tipo matcher, que son los que contienen la información de la coincidencia del patrón en la cadena.\n",
        "\n",
        "**Web crawling(web spider):** para obtener las páginas webs que nos interesan hemos de rastrear sus enlaces webs. Para generar por ejemplo un motor de búsqueda. Se trata de crear una gran tela de araña con multitud de enlaces referidos a algo concreto. \n",
        "\n",
        "\n",
        "-------------------------------------------------------------------------------------------------------------------------------------------"
      ]
    },
    {
      "cell_type": "markdown",
      "metadata": {
        "id": "llj6e32QF3qm"
      },
      "source": [
        "**4.4 RENDIMIENTO DE ALGORITMOS**\n",
        "\n",
        "  **NOTACIÓN BIG O:** mide el rendimiento, recursos(memoria y ciclos del reloj del CPU) y tiempo de ejecución. \n",
        "  Los términos de complejidad Big O más utilizados son:\n",
        "  - **O(1)** -> constante. Un algoritmo tiene complejidad constante cuando tarda siempre el mismo tiempo sin importar los parámetros de entrada/salida. Por ejemplo, una función que devuelve un elemento del array tardará siempre el mismo tiempo.\n",
        "  - **O(n)** -> linear. Por ejemplo, una función que muestre en pantalla un array. Dependerá del array de entrada, concretamente, del tamaño del array.\n",
        "  - **O(log n)** -> logarítmica. El tiempo de ejecución es proporcional al resultado logarítmico del tamaño del valor de entrada. Si la ejecución tarda 1s ante un dato de entrada de tamaño 10, tardará 2s ante un dato de entrada de tamaño 100, 3s ante tamaño 1000. Ej: algoritmo de búsqueda binaria. \n",
        "  - **O(n ^ 2)** -> cuadrática. En algoritmos de comparación de arreglos. 2 arrays de tamaño 4, suponen 16 comparaciones.\n",
        "  - **O(2 ^ n)** -> exponencial. Sucesión de Fibonacci. \n",
        "\n",
        "\n",
        "\n",
        "\n",
        "\n",
        "\n",
        "\n",
        " -------------------------------------------------------------------------------------------------------------------------------------------"
      ]
    },
    {
      "cell_type": "markdown",
      "metadata": {
        "id": "Ozrf5TtbXQFK"
      },
      "source": [
        "**4.6 ESTADÍSTICA DESCRIPTIVA**\n",
        "\n",
        "Se encarga del análisis de los datos, de entenderlos para ser capaz de hacer aprender a la máquina de forma satisfactoria. Por ejemplo, se pueden sacar la media de ciertos datos, los máximos,... ayudándonos de gráficos, tablas...\n",
        "\n",
        " - **Datos estructurados**: aquellos que se pueden colocar en tablas: hojas excel, formularios webs,...\n",
        " - **Datos no estructurados**: archivos PDF, imágenes, mensajería instántanea,...\n",
        "\n",
        "-------------------------------------------------------------------------------------------------------------------------------------------"
      ]
    },
    {
      "cell_type": "markdown",
      "metadata": {
        "id": "oPGY5hSHQ8jQ"
      },
      "source": [
        "**5.1 SISTEMAS OPERATIVOS**\n",
        "\n",
        "\n",
        "*   **Kernel:** responsable del arranque del sistema operativo. Proporciona además el control sobre los componentes hardware."
      ]
    },
    {
      "cell_type": "markdown",
      "metadata": {
        "id": "5Wb58LwXw3We"
      },
      "source": [
        "**5.3 ESTADISTICA INFERENCIAL**\n",
        "\n",
        "Se encarga de hacer deducciones, inferir propiedades, llegar a conclusiones y escribir tendencias a partir de una muestra representativa. Trata de interpretar los datos y hacer proyecciones. Aproximación al resultado final. \n",
        "\n",
        "Técnicas:\n",
        "\n",
        "\n",
        "*  **Pruebas de estimación puntual o de intervalos de confianza:** estimar el valor desconocido según un solo valor extraido de la muestra (puntual) o según unos límites (intervalo de confianza) en los que se haye el valor.\n",
        "*   **Pruebas paramétricas y no paramétricas:** paramétricas --> consideran que los datos siguen una distribución estadística (como de media, de diferencia de medias, proporciones, etc.). No paramétricas --> no se ajustan a distribuciones (como la prueba del chi-cuadrado, etc.).\n",
        "*   **Otros**: análisis de correlación, regresión, series cronológicas, análisis de varianza.\n",
        "\n",
        "-------------------------------------------------------------------------------------------------------------------------------------------"
      ]
    },
    {
      "cell_type": "markdown",
      "metadata": {
        "id": "vuIBq2f5-shR"
      },
      "source": [
        "**5.4 PENTESTING --> CIBERSEGURIDAD**\n",
        "\n",
        "Pentest o test de penetración: método para evaluar los sistemas de información y la red digital de una organización simulando un ataque. \n",
        "Se utilizan técnicas similares a los de los atacantes. Tipos de pentesting:\n",
        "\n",
        "\n",
        "*  **Black Box:** los pentesters no conocen la arquitectura que se van a encontrar al realizar el ataque. \n",
        "*   **Grey Box:** conocimiento parcial. Recomendado.\n",
        "*   **White Box:** conocimiento total. \n",
        "\n",
        "\n",
        "-------------------------------------------------------------------------------------------------------------------------------------------\n",
        "\n",
        "\n",
        "\n",
        "\n"
      ]
    },
    {
      "cell_type": "markdown",
      "metadata": {
        "id": "zan0OgAziu0b"
      },
      "source": [
        "**ALGORITMOS DE COMPRESIÓN - DECOMPRESIÓN**\n",
        "\n",
        "**1. Codificación Huffman:** sobretodo para la compresión de imágenes y archivos.\n",
        "\n",
        "**1.1.** Creamos un **nodo** para cada caracter que aparece en la secuencia y \n",
        "contamos el número de veces que salen en la cadena.\n",
        "\n",
        "**1.2. Cola de prioridad:** ordenamos los nodos o Heap dando prioridad por ejemplo a los valores más pequeños (Min Heap).\n",
        "\n",
        "**1.3.** Cogemos los dos primeros nodos con la frecuencia de aparición más baja (los dos primeros de la cola). Estos serán hijos de un nodo padre con valor Suma de frencuencia de los dos hijos.\n",
        "\n",
        "**1.4.** Volvemos a la cola de prioridad y recolocamos nuestro nodo nuevo creado. Volvemos a coger los dos nodos con menor frencuencia según la nueva reordenación. Sumamos sus frecuencias para crear un nuevo nodo padre.\n",
        "\n",
        "**1.5.** Vamos haciendo esto hasta quedarnos con 2 nodos. Al final, el nodo padre, tendrá el valor de la suma de los dos nodos finales. Este árbol nos ayuda a  generar los códigos de compresión para cada letra de la cadena.\n",
        "\n",
        "**1.6.** Vamos a ir bajando por el árbol, asignando un 0 cada vez que bajemos hacia la izquierda y un 1 a la derecha. Así, para llegar a cada carácter, tendremos una combinación distinta de 0s y 1s.\n",
        "\n",
        "https://www.youtube.com/watch?v=85NFcU8yTSs\n",
        "\n",
        "**2. RLE(Run-Length Encoding):** imaginar cadena BBBBNNBBBBBBBBNNNNBNNBBBB. Se guarda un valor de un valor que aparece de forma consecutiva y con el recuento. El resultado en RLE sería la siguiente: 4B2N8B4N1B2N4B. No pérdida de información. \n",
        "\n",
        "**3. Brotli (creado por Google):** para acelerar la navegación de sitios webs. \n",
        "\n",
        "**4. ZIP:** Es un formato de compresión sin pérdida, muy utilizado para la compresión de datos de documentos, imágenes o programas.\n",
        "\n",
        "**5. RAR:** Es un formato de archivo privado, con un algoritmo de compresión sin pérdida utilizado para la compresión de datos y archivado. Utiliza un algoritmo de compresión basado en el LZSS que, a su vez, se basaba en el LZ77.\n",
        "\n",
        "**6. LZ77:** Es sin pérdida y busca eliminar palabras duplicadas y reemplazarlas con una ?clave? más pequeña que represente la palabra. Luego, cuando quiera volver a leer el texto, reemplazará cada instancia. Para la compresión de texto. "
      ]
    },
    {
      "cell_type": "markdown",
      "metadata": {
        "id": "M-EkW7ON_nzc"
      },
      "source": [
        "**4.9 PROGRAMACIÓN ORIENTADA A OBJETOS**\n",
        "\n",
        "\n",
        "![Capture.PNG](data:image/png;base64,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)\n",
        "\n",
        "\n",
        "\n",
        "**ENCAPSULAMIENTO**\n",
        "Encapsulación (o encapsulamiento), en programación orientada a objetos, hace referencia a la capacidad que tiene un objeto de ocultar su estado, de manera que sus datos solo se puedan modificar por medio de las operaciones (métodos) que ofrece.\n",
        "Bien, por defecto, en Python, todos los atributos de una clase (atributos de datos y métodos) son públicos. Esto quiere decir que desde un código que use la clase, se puede acceder a todos los atributos y métodos de dicha clase.\n",
        "No obstante, hay una forma de indicar en Python que un atributo, ya sea un dato o un método, es interno a una clase y no se debería utilizar fuera de ella. Algo así como los miembros privados de otros lenguajes. Esto es usando el carácter guión bajo *_atributo* antes del nombre del atributo que queramos ocultar.\n",
        "\n",
        "def __init__(self, color): self._color = color\n",
        "\n",
        "En cualquier caso, el atributo seguirá siendo accesible desde fuera de la clase, pero el programador está indicando que es privado y no debería utilizarse porque no se sabe qué consecuencias puede tener. print(object._color) funciona\n",
        "\n",
        "\n",
        "También es posible usar un doble guión bajo __atributo. Esto hace que el identificador sea literalmente reemplazado por el texto _Clase__atributo, donde Clase es el nombre de la clase actual.\n",
        "\n",
        "\n",
        "def __init__(self, color): self.__color = color\n",
        "\n",
        "*print(object.__color) --> no funciona*\n",
        "\n",
        "*print(object._Clase__color) --> funciona*\n",
        "\n",
        "\n",
        "Lo mismo para los metodos:\n",
        "\n",
        "*def __metodoprivado(self):*\n",
        "\n",
        "\n",
        "Con esto ya podemos acceder a los métodos privados que queramos pero como mencionamos anteriormente hay varias maneras de mostrar atributos o comportamientos que sean privados y para esto existen dos métodos especiales que sirven para acceder a los valores privados, estos dos métodos son el **get** (obtener, conseguir) y el **set** (establecer, colocar).\n",
        "\n",
        "Ahora que tenemos un atributo privado, creamos un método get que sería algo como decir “obtener oculto” y dentro del método get le vamos a decir que nos retorne el atributo que está oculto:\n",
        "\n",
        "Dentro de la clase se crea otro método:\n",
        "\n",
        "*def get_atributoOculto(self): return self.__oculto*\n",
        "\n",
        "Set --> este método sirve para cambiarle los valores a todo lo que este encapsulado y eso lo hacemos de la siguiente manera:\n",
        "\n",
        "*def set_oculto(self): self.__oculto = input()*\n",
        "\n",
        "Aunque estas propiedades de set, get, delete es mejor verlas en la tarea, que se ve como funciona el setter, decorador property y delete."
      ]
    }
  ]
}
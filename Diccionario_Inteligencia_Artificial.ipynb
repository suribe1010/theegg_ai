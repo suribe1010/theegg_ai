{
  "nbformat": 4,
  "nbformat_minor": 0,
  "metadata": {
    "colab": {
      "name": "Diccionario Inteligencia Artificial.ipynb",
      "provenance": [],
      "collapsed_sections": [],
      "authorship_tag": "ABX9TyOYE7mrZ4sjsdPP5vdpiLew",
      "include_colab_link": true
    },
    "kernelspec": {
      "name": "python3",
      "display_name": "Python 3"
    }
  },
  "cells": [
    {
      "cell_type": "markdown",
      "metadata": {
        "id": "view-in-github",
        "colab_type": "text"
      },
      "source": [
        "<a href=\"https://colab.research.google.com/github/suribe1010/theegg_ai/blob/master/Diccionario_Inteligencia_Artificial.ipynb\" target=\"_parent\"><img src=\"https://colab.research.google.com/assets/colab-badge.svg\" alt=\"Open In Colab\"/></a>"
      ]
    },
    {
      "cell_type": "markdown",
      "metadata": {
        "id": "klmGfqQPcbO1",
        "colab_type": "text"
      },
      "source": [
        ""
      ]
    },
    {
      "cell_type": "markdown",
      "metadata": {
        "id": "XmNGUNaeGXRX",
        "colab_type": "text"
      },
      "source": [
        "# PALABRAS CLAVE EN LA FORMACIÓN EN INTELIGENCIA ARTIFICIAL\n",
        "\n",
        "------------------------------------------------------------------------------------------------------------------\n",
        "\n",
        "\n",
        "**1.1 turing:** hace referencia al matemático, informático, entre otros, con gran influencia en la computación. Trabajó descifrando códigos nazis, los de la máquina Enigma.\n",
        "\n",
        "**1.1 programación:** tarea de programar una computadora, algoritmo de forma ordenadora y estructurada.\n",
        "\n"
      ]
    },
    {
      "cell_type": "markdown",
      "metadata": {
        "id": "56OPwRUUdXwB",
        "colab_type": "text"
      },
      "source": [
        "------------------------------------------------------------------------------------------------------------------------------"
      ]
    },
    {
      "cell_type": "markdown",
      "metadata": {
        "id": "6IppljPMKWZk",
        "colab_type": "text"
      },
      "source": [
        "\n",
        "**1.2 transistor:** dispositivo que conmuta para abrir/cerrar circuitos. De esta forma, generan bits(0 ó 1). \n",
        "\n",
        "**1.2 ley de moore:** expresión que da el nº de transistores durante el tiempo. Se puede caracterizar lineal con pendiente +2000 transistores/año.\n",
        "\n",
        "**1.2 puertas lógicas:** circuitos con señales input 0 ó 1 y que dan una señal output consecuencia de la operación realizada con las señales input.\n",
        "\n"
      ]
    },
    {
      "cell_type": "markdown",
      "metadata": {
        "id": "0fN9nsRwcgUe",
        "colab_type": "text"
      },
      "source": [
        "-------------------------------------------------------------------------------------------------------------------------"
      ]
    },
    {
      "cell_type": "markdown",
      "metadata": {
        "id": "kcIRoyXHKa0i",
        "colab_type": "text"
      },
      "source": [
        "**1.3 interfaz:** dispositivo o sistema de comunicación entre sistemas que utilizan distintas señales.\n",
        "\n",
        "**1.3 threads:** (hilo), cada uno de los procesos que compone una tarea a ejecutar en una computadora.\n",
        "\n",
        "**1.3 periférico:** dispositivo que se acopla a una unidad --> hardware.\n",
        "\n",
        "**1.3 IoT:** Internet of things. Internet de las cosas, puede ser un objeto, persona, animal, cualquier cosa que se le puede identificar, asignar una IP y darle la capacidad de transferir datos a través de la red. Es tener, el tracking de cualquier objeto, por ejemplo, saber cuantas botellas hay en una máquina espendedora.\n",
        "\n",
        "**1.3 von neumann:** arquitectura que seguían las primeras computadoras.\n",
        "\n",
        "**1.3 harvard:** otro tipo de arquitectura de las primeras computadoras.\n",
        "\n",
        "**1.3 sistema operativo:** conjunto de programas que gestiona, ordena y permite la utilización de los recursos y servicios de una computadora. \n",
        "\n",
        "**1.3 kernel:** parte central del S.O. Desarrolla la comunicación SW-HW. Tiene otras tareas asignadas como la gestión de la memoria RAM.\n",
        "\n",
        "**1.3 BIOS:** Binary Input Output System. Chip que pone en funcionamiento el HW de la place base: RAM, disco duro,...\n",
        "\n",
        "**1.3 software:** aplicaciones informáticas desarrollado con lenguaje de programación.\n",
        "\n",
        "**1.3 hardware:** componentes fisicos de un sistema informático.\n",
        "\n",
        "**1.3 rapsberry pi:** ordenador de placa reducida, ordenador de placa simple(SBC), minicomputadora.\n",
        "\n",
        "**1.3 arduino:** placa de desarrollo HW para controlar dispositivos electrónicos."
      ]
    },
    {
      "cell_type": "markdown",
      "metadata": {
        "id": "Bi9EssUScj_G",
        "colab_type": "text"
      },
      "source": [
        "-------------------------------------------------------------------------------------------------------------------------"
      ]
    },
    {
      "cell_type": "markdown",
      "metadata": {
        "id": "BftKJMIfcWs5",
        "colab_type": "text"
      },
      "source": [
        "**1.4 compilador:** programa para la conversión de código de usuario a código entendible por la máquina.\n",
        "\n",
        "**1.4 interprete:** ejecuta el programa directamente, realizando la conversión cuando es necesario."
      ]
    },
    {
      "cell_type": "markdown",
      "metadata": {
        "id": "2pPwjmQdcu4m",
        "colab_type": "text"
      },
      "source": [
        "-------------------------------------------------------------------------------------------------------------------------"
      ]
    },
    {
      "cell_type": "markdown",
      "metadata": {
        "id": "tdhoYfI4Rmqw",
        "colab_type": "text"
      },
      "source": [
        "**1.5 R:** lenguaje de programación orientado al análisis estadístico. Muy utilizado en ML.\n",
        "\n",
        "**1.5 Lisp:** utilizado en AI, es un lenguaje utilizado en programación no numérica.\n",
        "\n",
        "**1.5 Java:** lenguaje orientado a objetos que se puede ejecutar en cualquier dispositivo, sistema operativo, en red, ...\n",
        "\n",
        "**1.5 SQL:** Structured Query Language, es un lenguaje de programación que trabaja con bases de datos, almacenamiento de datos. SQL sirve para acceder y operar en la base de datos.\n",
        "\n",
        "**1.5 NoSQL:** sistemas de gestión de bases de datos pero que no usan SQL, además los datos almacenados no requieren su almacenaje en tablas. Utilizadas ampliamente en las redes sociales."
      ]
    },
    {
      "cell_type": "markdown",
      "metadata": {
        "id": "3-gXVe6icwEt",
        "colab_type": "text"
      },
      "source": [
        "-------------------------------------------------------------------------------------------------------------------------"
      ]
    },
    {
      "cell_type": "markdown",
      "metadata": {
        "id": "hK49e3InVxRv",
        "colab_type": "text"
      },
      "source": [
        "**1.6 repositorio de control de versiones:** almacenaje de metadatos(datos que dan info de otros datos). Permiten crear versiones de los datos que fueron previamente guardados.\n",
        "\n",
        "**1.6 github:** repositorio de control de versiones (GIT) utilizado para la creación de código fuente de programas de ordenador."
      ]
    },
    {
      "cell_type": "markdown",
      "metadata": {
        "id": "urkQOH5zcxR2",
        "colab_type": "text"
      },
      "source": [
        "-------------------------------------------------------------------------------------------------------------------------"
      ]
    },
    {
      "cell_type": "markdown",
      "metadata": {
        "id": "jojZZkApXq62",
        "colab_type": "text"
      },
      "source": [
        "**1.7 javascript:** lenguaje de programación interpretado, para el desorrollo de aplicaciones dinámicas en páginas web. Se utiliza principalmente del lado del cliente.\n",
        "\n",
        "**1.7 php:** Hypertext Preprocessor. Lenguaje ejecutado en el servidor que genera código HTML para diseño de páginas web y que envía al cliente. El cliente únicamente recibe el resultado de recibir el código. \n",
        "\n",
        "**1.7 CSS:** lenguaje utilizado para el diseño de las páginas webs. Bibliotecas que contienen diversas hojas de estilo.\n",
        "\n",
        "**1.7 arquitectura cliente-servidor:** modelo de SW donde un cliente emite una petición y el servidor ejecuta un programa y da la respuesta. Utilizado para redes de computadoras."
      ]
    },
    {
      "cell_type": "markdown",
      "metadata": {
        "id": "gSuAeB6fcx9e",
        "colab_type": "text"
      },
      "source": [
        "-------------------------------------------------------------------------------------------------------------------------"
      ]
    },
    {
      "cell_type": "markdown",
      "metadata": {
        "id": "LpjnA1K6ZTln",
        "colab_type": "text"
      },
      "source": [
        "**2.1 Diagrama de flujo:** gráfico del flujo de información. Representación gráfica de un algoritmo.\n",
        "\n",
        "**2.1 Notación big-o:** utilizado en el análisis del tiempo de ejecución de un algoritmo.\n",
        "\n",
        "**2.1 Algoritmos de cifrado:** utilizado para dar seguridad en el trasporte electrónico de datos --> encriptación de datos.\n",
        "\n",
        "**2.1 Cifrado simétrico:** clave utilizada para cifrar los datos. Tanto emisor como receptor deben conocer la clave.\n",
        "\n",
        "**2.1 Cifrado asimétrico:** se utilizan 2 claves. Una pública para cifrar los datos y otra privada para descifrarlo. El emisor necesita saber la clave pública del destinatario para cifrar los datos. El destinatario debe conocer la privada para descrifrarlo.\n",
        "\n",
        "-------------------------------------------------------------------------------------------------------------------------\n"
      ]
    },
    {
      "cell_type": "markdown",
      "metadata": {
        "id": "jMSbMrEWV7Mj",
        "colab_type": "text"
      },
      "source": [
        "**2.5 arquitectura cliente-servidor:** paradigma donde para tener una comunicación efectiva, ya sea a través de páginas web, correos, transferencia de datos, se necesita un cliente que haga un request de un servicio, y un servidor que ejecute dicho servicio.\n",
        "\n",
        "**2.5 FTP:** file transfer protocol. Es el idioma que se utiliza para transferencia de datos entre sistemas conectados a una TCP(Transmissioon Control Protocol). El cliente se conecta al servidor para descargar archivos de él o alojarlos en él. Regido por el protocolo TCP/IP, utiliza los puertos reservados 20 y 21.\n",
        "\n",
        "**2.5 servidor-web:** es el SW que ejecuta la aplicación del lado de servidor. Suele emplear el protocolo HTTP.\n",
        "\n",
        "**2.5 IP:** Internet protocol. Dirección única de cada dispositivo que se comunica con Internet. Para acceder a cualquier web/dispositivo, se necesita conocer su IP. Es el router el encargado de asignar diferentes direcciones IP a cada dispositivo.\n",
        "\n",
        "**2.5 DNS:** Domain Name Servers. Suplanta con un nombre una dirección IP. Recordar una serie de numeros para acceder a unos cuantos servidores es una tarea díficil.\n",
        "\n",
        "**2.5 protocolo TCP/IP:** Transmission Control Protocol and Internet Protocol. Son los 2 protocolos más importantes en el funcionamiento de internet. Permite la transferencia de datos entre 2 equipos informáticos en la red.\n",
        "\n",
        "--------------------------------------------------------------------------------------------------------------------------\n",
        "\n",
        "\n"
      ]
    },
    {
      "cell_type": "markdown",
      "metadata": {
        "id": "JGunpU5IlWmA",
        "colab_type": "text"
      },
      "source": [
        "**3.1 ETL:** extract, transform and load. Extraer los datos que necesitamos, transformalos según nuestra convinencia y cargarlos a la base de datos donde aplicaremos procesos de ML o semejantes. Las transformaciones se realizan en el Staging, un repositorio temporal para procesar estos datos. Para la carga, habrá que tener en cuenta donde tenemos la base de datos(en Redshift --> hacer copy, en Oracle --> Bulk Collect)\n",
        "\n",
        "**3.1 bases de datos:** conjunto de datos relacionados almacenados para su uso. Existen sistemas de gestión de estas bases de datos --> Database MAnagement System DBMS. Destacan las bases de datos orientadas a objetos --> se almacenan estado y comportamiento de objetos, asi como herencia de los objetos\n",
        "\n",
        "**3.1 data-preprocessing:** antes del analísis de los datos, habrá que eliminar valores imposibles, valores nulos y faltantes, etc..\n",
        "\n",
        "-------------------------------------------------------------------------------------------------------------------------------------------\n"
      ]
    },
    {
      "cell_type": "markdown",
      "metadata": {
        "id": "piDYJcXttB0s",
        "colab_type": "text"
      },
      "source": [
        "**3.3 bucles:** secuencia que ejecuta repetidas veces una serie de instrucciones."
      ]
    },
    {
      "cell_type": "markdown",
      "metadata": {
        "id": "TUsR8B9ycyxg",
        "colab_type": "text"
      },
      "source": [
        "**3.4 API:** Application programming interface. Se trata del conjunto de llamadas a ciertas bibliotecas de uso general, evitando su programación desde un primer momento. \n",
        "\n",
        "**3.4 JSON:** JavaScript Object Notation. Formato de texto para el intercambio de datos entre un navegador y un servidor. Ha sucedido a XML ya que es más sencillo escribir un parser para él. Se emplea en entornos donde el tamaño de flujo de datos es grande. Cualquier objeto de Javascript puede escribirse en JSON (en formato texto), lo que se envía al servidor.\n",
        "var myObj = {name: \"John\", age: 31, city: \"New York\"};\n",
        "var myJSON = JSON.stringify(myObj);\n",
        "\n",
        "**3.4 XML:** eXtensible Markup Language. Utilizado para almacenar datos de forma legible. Da soporte a bases de datos, editores de texto, hojas de cálculo, etc..\n",
        "\n",
        "**3.4 parser:** programa analizador. Convierte el texto de entrada en otras estructuras más fáciles de analizar, como árboles. "
      ]
    },
    {
      "cell_type": "markdown",
      "metadata": {
        "id": "odWS-WWWTqB1",
        "colab_type": "text"
      },
      "source": [
        "**3.6 bases de datos:**\n",
        "\n",
        "    **- relacionales:** Oracle. Almacena y proporciona acceso a puntos de datos relacionados entre sí. Lenguaje: SQL. \n",
        "    Tipos dentro de las bases de datos relacionales: MySQL, SQL server, Oracle,... pero todos usan SQL como lenguaje.\n",
        "    \n",
        "    **- NoSQL:** las bases de datos SQL tienen limitaciones. Las bases de datos relacionales suelen estar centralizadas \n",
        "    en un único servidor, sin embargo en los casos NoSQL la información puede estar compartida en varios servidores distribuidos. \n",
        "    Digamos que son más flexibles y que con mucho dato el acceso a la información es más rápida.\n",
        "    También tiene sus desventajas. Al igual que con las relacionales existen diferentes marcas: Cassandra, MongoDB, BigTable...\n",
        "\n",
        "    **- Bases de datos autogestionadas, autónomas:** utilizan el modelo relacional pero utilizan IA para mejorar el rendimiento de las consultas. Las más modernas pero su uso no se ha generalizado. "
      ]
    },
    {
      "cell_type": "markdown",
      "metadata": {
        "id": "6wzHnvyfVDaJ",
        "colab_type": "text"
      },
      "source": [
        "**3.7 routers:** gestores que conectán los ordenadores con la mulitud de redes existentes. Son el puente digital(gateway). Conectan nuestro ordenador con el servidor o ordenador de destino(web, FTP,...)\n",
        "\n",
        "Pero hay más intermediarios que aparecen en estas comunicaciones: switches o hubs.\n",
        "\n",
        "**3.7 hub:** conecta todos dispositivos a una red interna. El hub tiene varios puertos para conectar puertos ethernet. Pero no es inteligente, no sabe a donde enviar los datos. Solo sabe cuando le conectan un dispositivo a uno de sus puertos. El hub lo que hace es: recibe de un dispositivo un paquete de datos y lo envía a los demás dispositivos que tiene conectados.\n",
        "\n",
        "**3.7 switch:** igual que el hub pero inteligente. Aprende las direcciones de los dispositivos(direcciones MAC --media access control--, únicas para cada ordenador) y envía solo los paquetes de datos al puerto deseado. \n",
        "\n",
        "** el hub y el switch se utilizan para el intercambio de datos dentro de una red local(empresa), el router para el intercambio fuera de la propia red(internet). Para ello necesitamos routers que puedan leer direcciones IP. El router lo único que hace es enviar los datos de una red a otra. Dentro de una determinada red, el switch o el hub cogen el paquete de datos y lo distribuyen en los dispositivos. El router coge los paquetes que son para dicha red. En una misma red, las IP no se repiten.\n",
        "\n",
        "**3.7 tipos de redes:**\n",
        "\n",
        "- LAN(Local Area Network): el usuario es dueño de la red.\n",
        "- MAN(Metropolitan Area Network): Dan servicio a múltiples usuarios, en áreas metropolitanas.\n",
        "- WAN(Wide Area Network): atraviesan paises. Internet.\n",
        "- VPN(Virtual Private Network): conocidas como Intranet. Redes de gran extensión, donde los usuarios aprovechan los recursos de internet. Por ej. la intranet de una empresa con sede en varios paises. \n",
        "\n",
        "En ocasiones las redes intentan enviar paquetes de datos al mismo tiempo, produciendose una **colisión**, enviando de nuevo el paquete cuando la red esté libre. Una red comparte el ancho de banda con los dispositivos, por lo que cuantos más estaciones/dispositivos --> más colisiones --> menor velocidad de transmisión de datos.\n",
        "\n",
        "**Máscara de red:** las IP se repiten en subredes. La máscara de red sirve para saber si un dispositivo está en la misma subred de la que se ha lanzado el paquete de datos.\n",
        "\n",
        "Además, cada subred tiene otras direcciones especiales: \n",
        "\n",
        "**Dirección base:** dirección logica de hacer una puerta lógica AND entre una dirección de red y la máscara de red.\n",
        "\n",
        "**Dirección broadcast:** dirección para contactar con todas las computadoras de una subred al mismo tiempo. Puerta lógica OR entre la dirección base y el inverso de la máscara de red.\n",
        "\n",
        "**Localhost:** dirección para crear una conexión en la propia computadora. Como no se pueden utilizar direcciones IP al azar, deben ser únicas en el mundo, existen 3 rangos de IP reservadas para esto.\n",
        "\n",
        "Nuevo protocolo **IPv6**, direcciones de 128 bit. Cada ordenador puede tener varias IPs. Las computadoras deben soportar multicast, acceso a varias computadoras, distinto de unicast(a una) y broadcast(a todas). \n",
        "\n",
        "**DNS(domain name system):** asignan IP(nameservers). Los nombres estan estructurados en jerarquía, separados por puntos.\n",
        "\n",
        "La red **Ethernet** es la más extendida. Para poder comunicar 2 ordenadores, se necesita que tenga tarjetas de red, conectados con cable coaxial, router(inalambrico o no). Inalámbrico --> antenas, conexión por radio frecuencia, \n",
        "\n"
      ]
    }
  ]
}
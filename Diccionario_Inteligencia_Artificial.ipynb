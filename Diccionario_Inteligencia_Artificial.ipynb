{
  "nbformat": 4,
  "nbformat_minor": 0,
  "metadata": {
    "colab": {
      "name": "Diccionario Inteligencia Artificial.ipynb",
      "provenance": [],
      "authorship_tag": "ABX9TyN9P1mWdScMQJTrvNvKmOCm",
      "include_colab_link": true
    },
    "kernelspec": {
      "name": "python3",
      "display_name": "Python 3"
    }
  },
  "cells": [
    {
      "cell_type": "markdown",
      "metadata": {
        "id": "view-in-github",
        "colab_type": "text"
      },
      "source": [
        "<a href=\"https://colab.research.google.com/github/suribe1010/theegg_ai/blob/master/Diccionario_Inteligencia_Artificial.ipynb\" target=\"_parent\"><img src=\"https://colab.research.google.com/assets/colab-badge.svg\" alt=\"Open In Colab\"/></a>"
      ]
    },
    {
      "cell_type": "markdown",
      "metadata": {
        "id": "XmNGUNaeGXRX",
        "colab_type": "text"
      },
      "source": [
        "# PALABRAS CLAVE EN LA FORMACIÓN EN INTELIGENCIA ARTIFICIAL\n",
        "\n",
        "**1.1 turing:** hace referencia al matemático, informático, entre otros, con gran influencia en la computación. Trabajó descifrando códigos nazis, los de la máquina Enigma.\n",
        "\n",
        "**1.1 programación:** tarea de programar una computadora, algoritmo de forma ordenadora y estructurada.\n",
        "\n"
      ]
    },
    {
      "cell_type": "markdown",
      "metadata": {
        "id": "klmGfqQPcbO1",
        "colab_type": "text"
      },
      "source": [
        "------------------------------------------------------------------------------------------------------------------"
      ]
    },
    {
      "cell_type": "markdown",
      "metadata": {
        "id": "6IppljPMKWZk",
        "colab_type": "text"
      },
      "source": [
        "\n",
        "**1.2 transistor:** dispositivo que conmuta para abrir/cerrar circuitos. De esta forma, generan bits(0 ó 1). \n",
        "\n",
        "**1.2 ley de moore:** expresión que da el nº de transistores durante el tiempo. Se puede caracterizar lineal con pendiente +2000 transistores/año.\n",
        "\n",
        "**1.2 puertas lógicas:** circuitos con señales input 0 ó 1 y que dan una señal output consecuencia de la operación realizada con las señales input.\n",
        "\n"
      ]
    },
    {
      "cell_type": "markdown",
      "metadata": {
        "id": "0fN9nsRwcgUe",
        "colab_type": "text"
      },
      "source": [
        "-------------------------------------------------------------------------------------------------------------------------"
      ]
    },
    {
      "cell_type": "markdown",
      "metadata": {
        "id": "kcIRoyXHKa0i",
        "colab_type": "text"
      },
      "source": [
        "**1.3 interfaz:** dispositivo o sistema de comunicación entre sistemas que utilizan distintas señales.\n",
        "\n",
        "**1.3 threads:** (hilo), cada uno de los procesos que compone una tarea a ejecutar en una computadora.\n",
        "\n",
        "**1.3 periférico:** dispositivo que se acopla a una unidad --> hardware.\n",
        "\n",
        "**1.3 IoT:** Internet of things. Internet de las cosas, puede ser un objeto, persona, animal, cualquier cosa que se le puede identificar, asignar una IP y darle la capacidad de transferir datos a través de la red. Es tener, el tracking de cualquier objeto, por ejemplo, saber cuantas botellas hay en una máquina espendedora.\n",
        "\n",
        "**1.3 von neumann:** arquitectura que seguían las primeras computadoras.\n",
        "\n",
        "**1.3 harvard:** otro tipo de arquitectura de las primeras computadoras.\n",
        "\n",
        "**1.3 sistema operativo:** conjunto de programas que gestiona, ordena y permite la utilización de los recursos y servicios de una computadora. \n",
        "\n",
        "**1.3 kernel:** parte central del S.O. Desarrolla la comunicación SW-HW. Tiene otras tareas asignadas como la gestión de la memoria RAM.\n",
        "\n",
        "**1.3 BIOS:** Binary Input Output System. Chip que pone en funcionamiento el HW de la place base: RAM, disco duro,...\n",
        "\n",
        "**1.3 software:** aplicaciones informáticas desarrollado con lenguaje de programación.\n",
        "\n",
        "**1.3 hardware:** componentes fisicos de un sistema informático.\n",
        "\n",
        "**1.3 rapsberry pi:** ordenador de placa reducida, ordenador de placa simple(SBC), minicomputadora.\n",
        "\n",
        "**1.3 arduino:** placa de desarrollo HW para controlar dispositivos electrónicos."
      ]
    },
    {
      "cell_type": "markdown",
      "metadata": {
        "id": "Bi9EssUScj_G",
        "colab_type": "text"
      },
      "source": [
        "-------------------------------------------------------------------------------------------------------------------------"
      ]
    },
    {
      "cell_type": "markdown",
      "metadata": {
        "id": "BftKJMIfcWs5",
        "colab_type": "text"
      },
      "source": [
        "**1.4 compilador:** programa para la conversión de código de usuario a código entendible por la máquina.\n",
        "\n",
        "**1.4 interprete:** ejecuta el programa directamente, realizando la conversión cuando es necesario."
      ]
    },
    {
      "cell_type": "markdown",
      "metadata": {
        "id": "2pPwjmQdcu4m",
        "colab_type": "text"
      },
      "source": [
        "-------------------------------------------------------------------------------------------------------------------------"
      ]
    },
    {
      "cell_type": "markdown",
      "metadata": {
        "id": "tdhoYfI4Rmqw",
        "colab_type": "text"
      },
      "source": [
        "**1.5 R:** lenguaje de programación orientado al análisis estadístico. Muy utilizado en ML.\n",
        "\n",
        "**1.5 Lisp:** utilizado en AI, es un lenguaje utilizado en programación no numérica.\n",
        "\n",
        "**1.5 Java:** lenguaje orientado a objetos que se puede ejecutar en cualquier dispositivo, sistema operativo, en red, ...\n",
        "\n",
        "**1.5 SQL:** Structured Query Language, es un lenguaje de programación que trabaja con bases de datos, almacenamiento de datos. SQL sirve para acceder y operar en la base de datos.\n",
        "\n",
        "**1.5 NoSQL:** sistemas de gestión de bases de datos pero que no usan SQL, además los datos almacenados no requieren su almacenaje en tablas. Utilizadas ampliamente en las redes sociales."
      ]
    },
    {
      "cell_type": "markdown",
      "metadata": {
        "id": "3-gXVe6icwEt",
        "colab_type": "text"
      },
      "source": [
        "-------------------------------------------------------------------------------------------------------------------------"
      ]
    },
    {
      "cell_type": "markdown",
      "metadata": {
        "id": "hK49e3InVxRv",
        "colab_type": "text"
      },
      "source": [
        "**1.6 repositorio de control de versiones:** almacenaje de metadatos(datos que dan info de otros datos). Permiten crear versiones de los datos que fueron previamente guardados.\n",
        "\n",
        "**1.6 github:** repositorio de control de versiones (GIT) utilizado para la creación de código fuente de programas de ordenador."
      ]
    },
    {
      "cell_type": "markdown",
      "metadata": {
        "id": "urkQOH5zcxR2",
        "colab_type": "text"
      },
      "source": [
        "-------------------------------------------------------------------------------------------------------------------------"
      ]
    },
    {
      "cell_type": "markdown",
      "metadata": {
        "id": "jojZZkApXq62",
        "colab_type": "text"
      },
      "source": [
        "**1.7 javascript:** lenguaje de programación interpretado, para el desorrollo de aplicaciones dinámicas en páginas web. Se utiliza principalmente del lado del cliente.\n",
        "\n",
        "**1.7 php:** Hypertext Preprocessor. Lenguaje ejecutado en el servidor que genera código HTML para diseño de páginas web y que envía al cliente. El cliente únicamente recibe el resultado de recibir el código. \n",
        "\n",
        "**1.7 CSS:** lenguaje utilizado para el diseño de las páginas webs. Bibliotecas que contienen diversas hojas de estilo.\n",
        "\n",
        "**1.7 arquitectura cliente-servidor:** modelo de SW donde un cliente emite una petición y el servidor ejecuta un programa y da la respuesta. Utilizado para redes de computadoras."
      ]
    },
    {
      "cell_type": "markdown",
      "metadata": {
        "id": "gSuAeB6fcx9e",
        "colab_type": "text"
      },
      "source": [
        "-------------------------------------------------------------------------------------------------------------------------"
      ]
    },
    {
      "cell_type": "markdown",
      "metadata": {
        "id": "LpjnA1K6ZTln",
        "colab_type": "text"
      },
      "source": [
        "**2.1 Diagrama de flujo:** gráfico del flujo de información. Representación gráfica de un algoritmo.\n",
        "\n",
        "**2.1 Notación big-o:** utilizado en el análisis del tiempo de ejecución de un algoritmo.\n",
        "\n",
        "**2.1 Algoritmos de cifrado:** utilizado para dar seguridad en el trasporte electrónico de datos --> encriptación de datos.\n",
        "\n",
        "**2.1 Cifrado simétrico:** clave utilizada para cifrar los datos. Tanto emisor como receptor deben conocer la clave.\n",
        "\n",
        "**2.1 Cifrado asimétrico:** se utilizan 2 claves. Una pública para cifrar los datos y otra privada para descifrarlo. El emisor necesita saber la clave pública del destinatario para cifrar los datos. El destinatario debe conocer la privada para descrifrarlo."
      ]
    },
    {
      "cell_type": "markdown",
      "metadata": {
        "id": "TUsR8B9ycyxg",
        "colab_type": "text"
      },
      "source": [
        "-------------------------------------------------------------------------------------------------------------------------"
      ]
    }
  ]
}
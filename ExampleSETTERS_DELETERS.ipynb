{
  "nbformat": 4,
  "nbformat_minor": 0,
  "metadata": {
    "colab": {
      "name": "ExampleSETTERS_DELETERS.ipynb",
      "provenance": [],
      "authorship_tag": "ABX9TyOQ9SVek9H5NqYcf6BHapB7",
      "include_colab_link": true
    },
    "kernelspec": {
      "name": "python3",
      "display_name": "Python 3"
    },
    "language_info": {
      "name": "python"
    }
  },
  "cells": [
    {
      "cell_type": "markdown",
      "metadata": {
        "id": "view-in-github",
        "colab_type": "text"
      },
      "source": [
        "<a href=\"https://colab.research.google.com/github/suribe1010/theegg_ai/blob/master/ExampleSETTERS_DELETERS.ipynb\" target=\"_parent\"><img src=\"https://colab.research.google.com/assets/colab-badge.svg\" alt=\"Open In Colab\"/></a>"
      ]
    },
    {
      "cell_type": "markdown",
      "metadata": {
        "id": "xA7XJ5fhYlEr"
      },
      "source": [
        "**TAREA 49 PROGRAMACIÓN ORIENTADA A OBJETOS**\n",
        "\n",
        "En este programa vamos a ver un ejemplo de como usar los Property Decoratos: Getters, Setters and Deleters.\n"
      ]
    },
    {
      "cell_type": "code",
      "metadata": {
        "colab": {
          "base_uri": "https://localhost:8080/"
        },
        "id": "zy6jAaNwY6DA",
        "outputId": "9f1aeab1-a59a-4243-98f8-ad9e98c84dd3"
      },
      "source": [
        "#Entendiendo porque es útil usar estos setters, @property... --> para ello hacemos este ejemplo\n",
        "\n",
        "class Persona:\n",
        "    def __init__(self, nombre, apellido):\n",
        "      self.nombre = nombre\n",
        "      self.apellido = apellido\n",
        "      self.email = nombre + '.' + apellido +'@gmail.com'\n",
        "\n",
        "    def fullname(self):\n",
        "      return '{} {}'.format(self.nombre, self.apellido)\n",
        "\n",
        "\n",
        "persona1 = Persona('Sergio', 'Uribe')\n",
        "print(persona1.nombre)\n",
        "print(persona1.email)\n",
        "print(persona1.fullname())"
      ],
      "execution_count": 6,
      "outputs": [
        {
          "output_type": "stream",
          "name": "stdout",
          "text": [
            "Sergio\n",
            "Sergio.Uribe@gmail.com\n",
            "Sergio Uribe\n"
          ]
        }
      ]
    },
    {
      "cell_type": "code",
      "metadata": {
        "colab": {
          "base_uri": "https://localhost:8080/"
        },
        "id": "WVxwOFHPZOHo",
        "outputId": "cae2d8da-d30a-4ab2-b8b6-f3316ca9126e"
      },
      "source": [
        "#Aquí vemos que al cambiar el nombre desde fuera de la Persona y al estar el email en el constructor (se ejecuta solo al crear la clase) --> email se queda inalterable\n",
        "\n",
        "class Persona:\n",
        "    def __init__(self, nombre, apellido):\n",
        "      self.nombre = nombre\n",
        "      self.apellido = apellido\n",
        "      self.email = nombre + '.' + apellido +'@gmail.com'\n",
        "\n",
        "    def fullname(self):\n",
        "      return '{} {}'.format(self.nombre, self.apellido)\n",
        "\n",
        "\n",
        "persona1 = Persona('Sergio', 'Uribe')\n",
        "\n",
        "persona1.nombre = 'David'\n",
        "\n",
        "print(persona1.nombre)\n",
        "print(persona1.email)\n",
        "print(persona1.fullname())"
      ],
      "execution_count": 7,
      "outputs": [
        {
          "output_type": "stream",
          "name": "stdout",
          "text": [
            "David\n",
            "Sergio.Uribe@gmail.com\n",
            "David Uribe\n"
          ]
        }
      ]
    },
    {
      "cell_type": "code",
      "metadata": {
        "colab": {
          "base_uri": "https://localhost:8080/"
        },
        "id": "-nUi3NCkatK4",
        "outputId": "c59bde13-335d-4380-9613-c1e5eb931d11"
      },
      "source": [
        "# Una solución para esto es hacer un método para el email --> \n",
        "# sin usar la propiedad @property, tenemos que cambiar el print(persona1.email()) porque ahora es un método\n",
        "\n",
        "class Persona:\n",
        "    def __init__(self, nombre, apellido):\n",
        "      self.nombre = nombre\n",
        "      self.apellido = apellido\n",
        "\n",
        "    def email(self):\n",
        "      return '{}.{}@gmail.com'.format(self.nombre, self.apellido)\n",
        "\n",
        "\n",
        "    def fullname(self):\n",
        "      return '{} {}'.format(self.nombre, self.apellido)\n",
        "\n",
        "\n",
        "persona1 = Persona('Sergio', 'Uribe')\n",
        "\n",
        "persona1.nombre = 'David'\n",
        "\n",
        "print(persona1.nombre)\n",
        "print(persona1.email)\n",
        "print(persona1.email())\n",
        "print(persona1.fullname())"
      ],
      "execution_count": 11,
      "outputs": [
        {
          "output_type": "stream",
          "name": "stdout",
          "text": [
            "David\n",
            "<bound method Persona.email of <__main__.Persona object at 0x7fac3691a9d0>>\n",
            "David.Uribe@gmail.com\n",
            "David Uribe\n"
          ]
        }
      ]
    },
    {
      "cell_type": "code",
      "metadata": {
        "colab": {
          "base_uri": "https://localhost:8080/"
        },
        "id": "EhUGr5yAbvzT",
        "outputId": "8b66027e-f74f-4132-be2e-325657a6e9d4"
      },
      "source": [
        "#Otra opción es ponerle la propiedad @property y el usuario ya podría entrar al método email pero como una propiedad de la clase \n",
        "\n",
        "class Persona:\n",
        "    def __init__(self, nombre, apellido):\n",
        "      self.nombre = nombre\n",
        "      self.apellido = apellido\n",
        "   \n",
        "    @property\n",
        "    def email(self):\n",
        "      return '{}.{}@gmail.com'.format(self.nombre, self.apellido)\n",
        "\n",
        "    @property\n",
        "    def fullname(self):\n",
        "      return '{} {}'.format(self.nombre, self.apellido)\n",
        "\n",
        "\n",
        "persona1 = Persona('Sergio', 'Uribe')\n",
        "\n",
        "persona1.nombre = 'David'\n",
        "\n",
        "print(persona1.nombre)\n",
        "print(persona1.email)\n",
        "print(persona1.fullname)"
      ],
      "execution_count": 17,
      "outputs": [
        {
          "output_type": "stream",
          "name": "stdout",
          "text": [
            "David\n",
            "David.Uribe@gmail.com\n",
            "David Uribe\n"
          ]
        }
      ]
    },
    {
      "cell_type": "code",
      "metadata": {
        "colab": {
          "base_uri": "https://localhost:8080/",
          "height": 229
        },
        "id": "Yggf6DbicQa0",
        "outputId": "829f48cf-aff1-42ea-db77-6ddcbd962e5e"
      },
      "source": [
        "# Aquí queremos que cambiando el atributo fullname, también nos coja el nombre, apellido y nos cambie el email.\n",
        "# Como vemos, da error porque creo que no le podemos dar un valor a un método @property --> tenemos que usar SETTERS\n",
        "\n",
        "class Persona:\n",
        "    def __init__(self, nombre, apellido):\n",
        "      self.nombre = nombre\n",
        "      self.apellido = apellido\n",
        "   \n",
        "    @property\n",
        "    def email(self):\n",
        "      return '{}.{}@gmail.com'.format(self.nombre, self.apellido)\n",
        "\n",
        "    @property\n",
        "    def fullname(self):\n",
        "      return '{} {}'.format(self.nombre, self.apellido)\n",
        "\n",
        "\n",
        "persona1 = Persona('Sergio', 'Uribe')\n",
        "\n",
        "persona1.fullname = 'Rober Noa'\n",
        "persona1.email = 'Rober.Noa@gmail.com'\n",
        "\n",
        "print(persona1.nombre)\n",
        "print(persona1.email)\n",
        "print(persona1.fullname)"
      ],
      "execution_count": 20,
      "outputs": [
        {
          "output_type": "error",
          "ename": "AttributeError",
          "evalue": "ignored",
          "traceback": [
            "\u001b[0;31m---------------------------------------------------------------------------\u001b[0m",
            "\u001b[0;31mAttributeError\u001b[0m                            Traceback (most recent call last)",
            "\u001b[0;32m<ipython-input-20-c0ecc5ddde01>\u001b[0m in \u001b[0;36m<module>\u001b[0;34m()\u001b[0m\n\u001b[1;32m     18\u001b[0m \u001b[0mpersona1\u001b[0m \u001b[0;34m=\u001b[0m \u001b[0mPersona\u001b[0m\u001b[0;34m(\u001b[0m\u001b[0;34m'Sergio'\u001b[0m\u001b[0;34m,\u001b[0m \u001b[0;34m'Uribe'\u001b[0m\u001b[0;34m)\u001b[0m\u001b[0;34m\u001b[0m\u001b[0;34m\u001b[0m\u001b[0m\n\u001b[1;32m     19\u001b[0m \u001b[0;34m\u001b[0m\u001b[0m\n\u001b[0;32m---> 20\u001b[0;31m \u001b[0mpersona1\u001b[0m\u001b[0;34m.\u001b[0m\u001b[0mfullname\u001b[0m \u001b[0;34m=\u001b[0m \u001b[0;34m'Rober Noa'\u001b[0m\u001b[0;34m\u001b[0m\u001b[0;34m\u001b[0m\u001b[0m\n\u001b[0m\u001b[1;32m     21\u001b[0m \u001b[0mpersona1\u001b[0m\u001b[0;34m.\u001b[0m\u001b[0memail\u001b[0m \u001b[0;34m=\u001b[0m \u001b[0;34m'Rober.Noa@gmail.com'\u001b[0m\u001b[0;34m\u001b[0m\u001b[0;34m\u001b[0m\u001b[0m\n\u001b[1;32m     22\u001b[0m \u001b[0;34m\u001b[0m\u001b[0m\n",
            "\u001b[0;31mAttributeError\u001b[0m: can't set attribute"
          ]
        }
      ]
    },
    {
      "cell_type": "code",
      "metadata": {
        "colab": {
          "base_uri": "https://localhost:8080/"
        },
        "id": "WCGA1om3dIyj",
        "outputId": "ae82ebf4-22da-43e8-b0fc-6ce76d7c099f"
      },
      "source": [
        "# SETTER\n",
        "\n",
        "class Persona:\n",
        "    def __init__(self, nombre, apellido):\n",
        "      self.nombre = nombre\n",
        "      self.apellido = apellido\n",
        "   \n",
        "    @property\n",
        "    def email(self):\n",
        "      return '{}.{}@gmail.com'.format(self.nombre, self.apellido)\n",
        "\n",
        "    @property\n",
        "    def fullname(self):\n",
        "      return '{} {}'.format(self.nombre, self.apellido)\n",
        "\n",
        "    #Para el nombre del SETTER, usamos el nombre de la propiedad --> fullname --> y debajo creamos un método que se ejecuta al cambiar el valor de persona1.fullname\n",
        "    @fullname.setter\n",
        "    def fullname(self, full_name): #método que se llama también fullname\n",
        "      nombre, apellido = full_name.split(' ')\n",
        "      self.nombre = nombre\n",
        "      self.apellido = apellido\n",
        "\n",
        "\n",
        "\n",
        "persona1 = Persona('Sergio', 'Uribe')\n",
        "\n",
        "persona1.fullname = 'Rober Noa' # El SETTER se ejecuta aquí\n",
        "\n",
        "print(persona1.nombre)\n",
        "print(persona1.email)\n",
        "print(persona1.fullname)"
      ],
      "execution_count": 21,
      "outputs": [
        {
          "output_type": "stream",
          "name": "stdout",
          "text": [
            "Rober\n",
            "Rober.Noa@gmail.com\n",
            "Rober Noa\n"
          ]
        }
      ]
    },
    {
      "cell_type": "code",
      "metadata": {
        "colab": {
          "base_uri": "https://localhost:8080/"
        },
        "id": "tuNXnPs5fUV6",
        "outputId": "06c0ed11-ddab-42b0-a3a6-4c49f289f94d"
      },
      "source": [
        "# DELETER\n",
        "\n",
        "class Persona:\n",
        "    def __init__(self, nombre, apellido):\n",
        "      self.nombre = nombre\n",
        "      self.apellido = apellido\n",
        "   \n",
        "    @property\n",
        "    def email(self):\n",
        "      return '{}.{}@gmail.com'.format(self.nombre, self.apellido)\n",
        "\n",
        "    @property\n",
        "    def fullname(self):\n",
        "      return '{} {}'.format(self.nombre, self.apellido)\n",
        "\n",
        "    #Para el nombre del SETTER, usamos el nombre de la propiedad --> fullname --> y debajo creamos un método que se ejecuta al cambiar el valor de persona1.fullname\n",
        "    @fullname.setter\n",
        "    def fullname(self, full_name): #método que se llama también fullname\n",
        "      nombre, apellido = full_name.split(' ')\n",
        "      self.nombre = nombre\n",
        "      self.apellido = apellido\n",
        "\n",
        "  #Para el nombre del DELETER, usamos el nombre de la propiedad --> fullname --> y debajo creamos un método que se ejecuta al cambiar el valor de persona1.fullname\n",
        "    @fullname.deleter\n",
        "    def fullname(self): #método que se llama también fullname\n",
        "      print('\\nBorrando persona {} de la base de datos'.format(persona1.fullname))\n",
        "      self.nombre = None\n",
        "      self.apellido = None\n",
        "      print('Persona borrada. Ahora se llama: ', persona1.fullname)\n",
        "\n",
        "persona1 = Persona('Sergio', 'Uribe')\n",
        "\n",
        "persona1.fullname = 'Rober Noa' # El SETTER se ejecuta aquí\n",
        "\n",
        "print(persona1.nombre)\n",
        "print(persona1.email)\n",
        "print(persona1.fullname)\n",
        "\n",
        "del persona1.fullname # Ejecutado el DELETER"
      ],
      "execution_count": 31,
      "outputs": [
        {
          "output_type": "stream",
          "name": "stdout",
          "text": [
            "Rober\n",
            "Rober.Noa@gmail.com\n",
            "Rober Noa\n",
            "\n",
            "Borrando persona Rober Noa de la base de datos\n",
            "Persona borrada. Ahora se llama:  None None\n"
          ]
        }
      ]
    },
    {
      "cell_type": "code",
      "metadata": {
        "id": "vQbAXhGKgIXP"
      },
      "source": [
        ""
      ],
      "execution_count": null,
      "outputs": []
    }
  ]
}
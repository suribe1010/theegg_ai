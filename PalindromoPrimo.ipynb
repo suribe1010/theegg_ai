{
  "nbformat": 4,
  "nbformat_minor": 0,
  "metadata": {
    "colab": {
      "name": "PalindromoPrimo.ipynb",
      "provenance": [],
      "collapsed_sections": [],
      "authorship_tag": "ABX9TyP6JpGimpfWY5puejn6+xnO",
      "include_colab_link": true
    },
    "kernelspec": {
      "name": "python3",
      "display_name": "Python 3"
    }
  },
  "cells": [
    {
      "cell_type": "markdown",
      "metadata": {
        "id": "view-in-github",
        "colab_type": "text"
      },
      "source": [
        "<a href=\"https://colab.research.google.com/github/suribe1010/theegg_ai/blob/master/PalindromoPrimo.ipynb\" target=\"_parent\"><img src=\"https://colab.research.google.com/assets/colab-badge.svg\" alt=\"Open In Colab\"/></a>"
      ]
    },
    {
      "cell_type": "markdown",
      "metadata": {
        "id": "rAC2UR4tDtqh"
      },
      "source": [
        "Un entero se dice que es un palíndromo si es igual al número que se obtiene al invertir el orden de sus cifras. Por ejemplo, 79197 y 324423 son palíndromos. En esta tarea se le dará un entero N, 1 <= N <= 1.000.000. Usted debe encontrar el menor entero M tal que M <= N que es primo y M es un palíndromo N.\n",
        "\n",
        "Por ejemplo, si N es 31, entonces la respuesta es 101.\n",
        "\n",
        "Formato de entrada:\n",
        "Un solo entero N, (1 <= N <= 1.000.000), en una sola línea.\n",
        "\n",
        "Formato de salida:\n",
        "Su salida debe consistir en un solo número entero, el más pequeño palíndromo primo mayor que o igual a N."
      ]
    },
    {
      "cell_type": "code",
      "metadata": {
        "id": "_ucUBZTvFOJr",
        "outputId": "6d9d1fd0-2d2e-4a26-9c74-07360b487313",
        "colab": {
          "base_uri": "https://localhost:8080/",
          "height": 101
        }
      },
      "source": [
        "print('Introduce un número N: ')\n",
        "N = int(input())\n",
        "if N >= 1000000: N = int(input())\n",
        "print('Buscando el número más cercano a N, palindromo, primo y mayor...')\n",
        "print()\n",
        "\n",
        "def ComprobarPalindromo(numero):\n",
        "    numero_str = [int(i) for i in str(numero)]\n",
        "    palindromo_str = numero_str[::-1]\n",
        "    if palindromo_str == numero_str: \n",
        "        palindromo_str = [str(i) for i in palindromo_str] \n",
        "        palindromo = int(\"\".join(palindromo_str)) \n",
        "        return palindromo\n",
        "    else: palindromo=0; return palindromo\n",
        "\n",
        "def ComprobarPrimo(numero):\n",
        "    if numero < 1: return False\n",
        "    elif numero == 2: return True\n",
        "    else:\n",
        "        for i in range(2, numero):\n",
        "            if numero % i == 0:\n",
        "                return False\n",
        "        return True   \n",
        "\n",
        "\n",
        "result = 10000001\n",
        "for i in range(N, 10000000):\n",
        "    palindromo = ComprobarPalindromo(i)\n",
        "    if palindromo != 0 and ComprobarPrimo(palindromo) == True:\n",
        "      if palindromo < result: result = palindromo; print('Solución: ', result); break\n",
        "\n",
        "if result == 10000001: print('No se ha encontrado solución.')\n",
        "       "
      ],
      "execution_count": 3,
      "outputs": [
        {
          "output_type": "stream",
          "text": [
            "Introduce un número N: \n",
            "456789\n",
            "Buscando el número más cercano a N, palindromo, primo y mayor...\n",
            "\n",
            "Solución:  1003001\n"
          ],
          "name": "stdout"
        }
      ]
    },
    {
      "cell_type": "code",
      "metadata": {
        "id": "VQVySkjgGaZ1"
      },
      "source": [
        ""
      ],
      "execution_count": null,
      "outputs": []
    }
  ]
}
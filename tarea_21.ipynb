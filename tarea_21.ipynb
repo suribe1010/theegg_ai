{
  "nbformat": 4,
  "nbformat_minor": 0,
  "metadata": {
    "colab": {
      "name": "tarea_21.ipynb",
      "provenance": [],
      "authorship_tag": "ABX9TyM2t5ar4H5r5G/pNBvWO+1C",
      "include_colab_link": true
    },
    "kernelspec": {
      "name": "python3",
      "display_name": "Python 3"
    }
  },
  "cells": [
    {
      "cell_type": "markdown",
      "metadata": {
        "id": "view-in-github",
        "colab_type": "text"
      },
      "source": [
        "<a href=\"https://colab.research.google.com/github/suribe1010/theegg_ai/blob/master/tarea_21.ipynb\" target=\"_parent\"><img src=\"https://colab.research.google.com/assets/colab-badge.svg\" alt=\"Open In Colab\"/></a>"
      ]
    },
    {
      "cell_type": "markdown",
      "metadata": {
        "id": "L2Qs2ZjAPzAb",
        "colab_type": "text"
      },
      "source": [
        "## **Tu primer programa**\n",
        "\n",
        "Crea un programa que dado un número entre 0,0001 y 0,9999 (y de no más de 4 cifras decimales), obtenga y muestre la correspondiente fracción irreducible.\n",
        "\n",
        "Por ejemplo, el número 0,25 se puede obtener a partir de 25/100, o de 2/8, o de 1/4, entre otros. La fracción irreducible es 1/4, que está formada por un numerador y un denominador que son primos entre sí.\n",
        "\n",
        "Nota: el programa no debe avisar al usuario con mensajes como \"Introduzca un número\". Debe leer directamente el número que introduzca el usuario. De igual modo, sólo debe mostrar la fracción irreducible encontrada, nada más. Tampoco debe hacer ninguna pausa antes ni después de la ejecución."
      ]
    },
    {
      "cell_type": "markdown",
      "metadata": {
        "id": "IztlUrU4Pu0E",
        "colab_type": "text"
      },
      "source": [
        ""
      ]
    },
    {
      "cell_type": "code",
      "metadata": {
        "id": "8YhWDD1GPhMG",
        "colab_type": "code",
        "colab": {
          "base_uri": "https://localhost:8080/",
          "height": 34
        },
        "outputId": "2d1a57a9-0631-43a8-8340-3d86f4e6eb33"
      },
      "source": [
        "# We ask for a number to the user.\n",
        "\n",
        "n = input()\n",
        "\n",
        "\n"
      ],
      "execution_count": 213,
      "outputs": [
        {
          "output_type": "stream",
          "text": [
            "0.7748\n"
          ],
          "name": "stdout"
        }
      ]
    },
    {
      "cell_type": "code",
      "metadata": {
        "id": "y5T8C8YkRL1P",
        "colab_type": "code",
        "colab": {}
      },
      "source": [
        "# Count the number of decimals\n",
        "counter = len(n.split('.')[1])\n",
        "\n",
        "\n",
        "# Convert n to float\n",
        "n = float(n)"
      ],
      "execution_count": 0,
      "outputs": []
    },
    {
      "cell_type": "code",
      "metadata": {
        "id": "3AYsQ6TNTWVA",
        "colab_type": "code",
        "colab": {
          "base_uri": "https://localhost:8080/",
          "height": 34
        },
        "outputId": "c40f4b21-6ecc-4d90-c447-063aea4cbef5"
      },
      "source": [
        "# Create number that will multiply the enumerator of the fraction\n",
        "\n",
        "if counter == 1:\n",
        "  aux_n = 10\n",
        "elif counter == 2:\n",
        "  aux_n = 100\n",
        "elif counter == 3:\n",
        "  aux_n = 1000\n",
        "elif counter == 4:\n",
        "  aux_n = 10000\n",
        "else:\n",
        "  print('The number must have a maximum of 4 decimals')\n",
        "\n",
        "aux_n"
      ],
      "execution_count": 215,
      "outputs": [
        {
          "output_type": "execute_result",
          "data": {
            "text/plain": [
              "10000"
            ]
          },
          "metadata": {
            "tags": []
          },
          "execution_count": 215
        }
      ]
    },
    {
      "cell_type": "code",
      "metadata": {
        "id": "onWPGxj0SxCH",
        "colab_type": "code",
        "colab": {
          "base_uri": "https://localhost:8080/",
          "height": 67
        },
        "outputId": "2138e7e4-08d7-4019-eada-e0cfaa30849c"
      },
      "source": [
        "# Express the number as a fraction\n",
        "\n",
        "numerator = round(aux_n * n)\n",
        "denominator = aux_n\n",
        "print(numerator)\n",
        "print('-----')\n",
        "print(denominator)\n"
      ],
      "execution_count": 216,
      "outputs": [
        {
          "output_type": "stream",
          "text": [
            "7748\n",
            "-----\n",
            "10000\n"
          ],
          "name": "stdout"
        }
      ]
    },
    {
      "cell_type": "code",
      "metadata": {
        "id": "gfpUd312VZAc",
        "colab_type": "code",
        "colab": {}
      },
      "source": [
        "# Irreducible fraction\n",
        "# Find the prime numbers of the numerator and denominator\n",
        "\n",
        "def prime_numbers (num):\n",
        "  \n",
        "  prime_numbers = []\n",
        "  divisor = 2\n",
        "  \n",
        "  while num % divisor == 0:\n",
        "    prime_numbers.append(divisor)\n",
        "    num = num / divisor\n",
        "\n",
        "  \n",
        "  divisor = 3\n",
        " \n",
        "  while divisor <= num:\n",
        "    \n",
        "    while num % divisor == 0:\n",
        "      prime_numbers.append(divisor)\n",
        "      num = num / divisor      \n",
        "    \n",
        "    divisor += 2\n",
        "  \n",
        "  return prime_numbers"
      ],
      "execution_count": 0,
      "outputs": []
    },
    {
      "cell_type": "code",
      "metadata": {
        "id": "yJyvvhiKVxnL",
        "colab_type": "code",
        "colab": {
          "base_uri": "https://localhost:8080/",
          "height": 67
        },
        "outputId": "36e8b435-faf9-499a-d030-5643e8d63ec8"
      },
      "source": [
        "# Create 2 arrays with the prime numbers\n",
        "\n",
        "prime_numbers_numerator = prime_numbers(numerator)\n",
        "prime_numbers_denominator = prime_numbers(denominator)\n",
        "print(prime_numbers_numerator)\n",
        "print('-------------------')\n",
        "print(prime_numbers_denominator)"
      ],
      "execution_count": 218,
      "outputs": [
        {
          "output_type": "stream",
          "text": [
            "[2, 2, 13, 149]\n",
            "-------------------\n",
            "[2, 2, 2, 2, 5, 5, 5, 5]\n"
          ],
          "name": "stdout"
        }
      ]
    },
    {
      "cell_type": "code",
      "metadata": {
        "id": "sUzjg29rrgbt",
        "colab_type": "code",
        "colab": {
          "base_uri": "https://localhost:8080/",
          "height": 118
        },
        "outputId": "2eedde2a-861c-4115-aa07-5a070f0add6d"
      },
      "source": [
        "# Take prime numbers that are equal in both arrays and divide in the numerator and denominator values without decimals\n",
        "import numpy as np\n",
        "\n",
        "dict_numerator = {i:prime_numbers_numerator.count(i) for i in prime_numbers_numerator}\n",
        "dict_denominator = {i:prime_numbers_denominator.count(i) for i in prime_numbers_denominator}\n",
        "\n",
        "for key in dict_numerator.keys():\n",
        "    if key in dict_denominator.keys():\n",
        "        number_in_num = dict_numerator[key]\n",
        "        number_in_den = dict_denominator[key]\n",
        "        \n",
        "        if number_in_num <= number_in_den:\n",
        "          times = number_in_num\n",
        "        else:\n",
        "          times = number_in_den\n",
        "        \n",
        "        for i in range(0,times):\n",
        "          numerator = numerator/key\n",
        "          denominator = denominator/key\n",
        "\n",
        "\n",
        "print()\n",
        "print('FINAL FRACTION REDUCTION')\n",
        "print()\n",
        "print(numerator)\n",
        "print('-----')\n",
        "print(denominator)"
      ],
      "execution_count": 219,
      "outputs": [
        {
          "output_type": "stream",
          "text": [
            "\n",
            "FINAL FRACTION REDUCTION\n",
            "\n",
            "1937.0\n",
            "-----\n",
            "2500.0\n"
          ],
          "name": "stdout"
        }
      ]
    },
    {
      "cell_type": "code",
      "metadata": {
        "id": "JOzkgJXQuRKS",
        "colab_type": "code",
        "colab": {
          "base_uri": "https://localhost:8080/",
          "height": 84
        },
        "outputId": "1e83111b-c222-4a50-d585-660a87ab9634"
      },
      "source": [
        "# CHECK THE RESULT\n",
        "\n",
        "print ('Introduced number is: ', n)\n",
        "print ('Fraction value is: ', numerator / denominator)\n",
        "print()\n",
        "print ('Result: ', n==numerator/denominator)"
      ],
      "execution_count": 220,
      "outputs": [
        {
          "output_type": "stream",
          "text": [
            "Introduced number is:  0.7748\n",
            "Fraction value is:  0.7748\n",
            "\n",
            "Result:  True\n"
          ],
          "name": "stdout"
        }
      ]
    },
    {
      "cell_type": "code",
      "metadata": {
        "id": "LL4DLKjO4Yo3",
        "colab_type": "code",
        "colab": {}
      },
      "source": [
        ""
      ],
      "execution_count": 0,
      "outputs": []
    }
  ]
}
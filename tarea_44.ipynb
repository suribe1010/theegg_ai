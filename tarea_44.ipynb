{
  "nbformat": 4,
  "nbformat_minor": 0,
  "metadata": {
    "colab": {
      "name": "tarea_44.ipynb",
      "provenance": [],
      "authorship_tag": "ABX9TyNj3E7QwU+ZKBkVjG6CIzJc",
      "include_colab_link": true
    },
    "kernelspec": {
      "name": "python3",
      "display_name": "Python 3"
    }
  },
  "cells": [
    {
      "cell_type": "markdown",
      "metadata": {
        "id": "view-in-github",
        "colab_type": "text"
      },
      "source": [
        "<a href=\"https://colab.research.google.com/github/suribe1010/theegg_ai/blob/master/tarea_44.ipynb\" target=\"_parent\"><img src=\"https://colab.research.google.com/assets/colab-badge.svg\" alt=\"Open In Colab\"/></a>"
      ]
    },
    {
      "cell_type": "markdown",
      "metadata": {
        "id": "F-S_wJ8uCLG3"
      },
      "source": [
        "**NOTACIÓN BIG-O --> COMPLEJIDAD DE UN ALGORITMO**\n",
        "\n",
        "Comparar tiempos de 2 funciones que realizan lo mismo. Una suma de uno en uno los números y la otra con la fórmula de Gauss **(n/2)*(n+1)** que también da como resultado la suma de los números.\n",
        "\n",
        "1+2+3+4+5+6+7+8+9+10 = 55\n",
        "\n",
        "(10/2)*(10+1) = 55\n",
        "\n",
        "Ejercicio planteado en los siguientes videos:\n",
        "\n",
        "https://www.youtube.com/watch?v=GD254Gotp-4\n",
        "\n",
        "https://www.youtube.com/watch?v=MaY6FpP0FEU"
      ]
    },
    {
      "cell_type": "code",
      "metadata": {
        "colab": {
          "base_uri": "https://localhost:8080/"
        },
        "id": "-R8uUfpVCG6J",
        "outputId": "d103049a-2e4f-4065-885f-e31ab2364c88"
      },
      "source": [
        "import time\n",
        "import matplotlib.pyplot as plt\n",
        "import math\n",
        "\n",
        "def suma_lineal(n):\n",
        "  suma = 0\n",
        "  for i in range(1, n+1):\n",
        "    suma += i\n",
        "  return suma\n",
        "\n",
        "def suma_constante(n):\n",
        "  return (n/2) * (n+1)\n",
        "\n",
        "cantidad = 1000000\n",
        "for i in range (4):\n",
        "  t0 = time.time()\n",
        "  suma1 = suma_lineal(cantidad)\n",
        "  t1 = time.time()\n",
        "\n",
        "  suma2 = suma_constante(cantidad)\n",
        "  t2 = time.time()\n",
        "\n",
        "  print(\"Tiempo en realizar la suma 1 para \", cantidad, \"números: \", round(t1-t0,2), \"s\")\n",
        "  print(\"Tiempo en realizar la suma 2 para \", cantidad, \"números: \", round(t2-t1,2), \"s\")\n",
        "  print(\"-----------------------------------------------------------------------\")\n",
        "\n",
        "  cantidad *= 10\n"
      ],
      "execution_count": null,
      "outputs": [
        {
          "output_type": "stream",
          "text": [
            "Tiempo en realizar la suma 1 para  1000000 números:  0.07 s\n",
            "Tiempo en realizar la suma 2 para  1000000 números:  0.0 s\n",
            "-----------------------------------------------------------------------\n",
            "Tiempo en realizar la suma 1 para  10000000 números:  0.63 s\n",
            "Tiempo en realizar la suma 2 para  10000000 números:  0.0 s\n",
            "-----------------------------------------------------------------------\n",
            "Tiempo en realizar la suma 1 para  100000000 números:  6.1 s\n",
            "Tiempo en realizar la suma 2 para  100000000 números:  0.0 s\n",
            "-----------------------------------------------------------------------\n",
            "Tiempo en realizar la suma 1 para  1000000000 números:  62.71 s\n",
            "Tiempo en realizar la suma 2 para  1000000000 números:  0.0 s\n",
            "-----------------------------------------------------------------------\n"
          ],
          "name": "stdout"
        }
      ]
    },
    {
      "cell_type": "code",
      "metadata": {
        "id": "Qbw76rQaMhqj"
      },
      "source": [
        ""
      ],
      "execution_count": null,
      "outputs": []
    }
  ]
}
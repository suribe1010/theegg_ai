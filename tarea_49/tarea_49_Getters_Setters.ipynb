{
  "nbformat": 4,
  "nbformat_minor": 0,
  "metadata": {
    "colab": {
      "name": "tarea_49_Getters_Setters.ipynb",
      "provenance": [],
      "authorship_tag": "ABX9TyN8GXk7qvaH1p8prD4IQAyU",
      "include_colab_link": true
    },
    "kernelspec": {
      "name": "python3",
      "display_name": "Python 3"
    },
    "language_info": {
      "name": "python"
    }
  },
  "cells": [
    {
      "cell_type": "markdown",
      "metadata": {
        "id": "view-in-github",
        "colab_type": "text"
      },
      "source": [
        "<a href=\"https://colab.research.google.com/github/suribe1010/theegg_ai/blob/master/tarea_49_Getters_Setters.ipynb\" target=\"_parent\"><img src=\"https://colab.research.google.com/assets/colab-badge.svg\" alt=\"Open In Colab\"/></a>"
      ]
    },
    {
      "cell_type": "markdown",
      "metadata": {
        "id": "yuAUYidQiL1u"
      },
      "source": [
        "**TAREA 49 PROGRAMACIÓN ORIENTADA A OBJETOS**\n",
        "\n",
        "**EJERCICIO 1:**\n",
        "\n",
        "1.- Crear una clase llamada Persona. Sus atributos son: nombre, edad y DNI. Construye los siguientes \n",
        "métodos para la clase:\n",
        ". Un constructor, donde los datos pueden estar vacíos.\n",
        ". Los setters y getters (métodos set y get) para cada uno de los atributos. Hay que validar las entradas de \n",
        "datos.\n",
        ". mostrar(): muestra los datos de la persona.\n",
        ". esMayorDeEdad(): devuelve un valor lógico indicando si es mayor de edad."
      ]
    },
    {
      "cell_type": "code",
      "metadata": {
        "colab": {
          "base_uri": "https://localhost:8080/",
          "height": 313
        },
        "id": "EFmXoC35mCEC",
        "outputId": "5e2fbeac-9d0d-487d-929c-ce91c6251745"
      },
      "source": [
        "# EJERCICIO 1\n",
        "\n",
        "# Esto da error porque hemos definido el atributo nombre como una propiedad. Entonces, en el contructor busca el método definido como propiedad\n",
        "# Y como self.__nombre no es nada --> no puede darle ningún valor \n",
        "\n",
        "class Persona():\n",
        "\n",
        "    def __init__(self, nombre):\n",
        "        self.nombre=nombre\n",
        "\n",
        "    @property\n",
        "    def nombre(self):\n",
        "        return self.__nombre\n",
        "\n",
        "persona1 = Persona('Sergio')"
      ],
      "execution_count": 228,
      "outputs": [
        {
          "output_type": "error",
          "ename": "AttributeError",
          "evalue": "ignored",
          "traceback": [
            "\u001b[0;31m---------------------------------------------------------------------------\u001b[0m",
            "\u001b[0;31mAttributeError\u001b[0m                            Traceback (most recent call last)",
            "\u001b[0;32m<ipython-input-228-da2078043f50>\u001b[0m in \u001b[0;36m<module>\u001b[0;34m()\u001b[0m\n\u001b[1;32m     13\u001b[0m         \u001b[0;32mreturn\u001b[0m \u001b[0mself\u001b[0m\u001b[0;34m.\u001b[0m\u001b[0m__nombre\u001b[0m\u001b[0;34m\u001b[0m\u001b[0;34m\u001b[0m\u001b[0m\n\u001b[1;32m     14\u001b[0m \u001b[0;34m\u001b[0m\u001b[0m\n\u001b[0;32m---> 15\u001b[0;31m \u001b[0mpersona1\u001b[0m \u001b[0;34m=\u001b[0m \u001b[0mPersona\u001b[0m\u001b[0;34m(\u001b[0m\u001b[0;34m'Sergio'\u001b[0m\u001b[0;34m)\u001b[0m\u001b[0;34m\u001b[0m\u001b[0;34m\u001b[0m\u001b[0m\n\u001b[0m",
            "\u001b[0;32m<ipython-input-228-da2078043f50>\u001b[0m in \u001b[0;36m__init__\u001b[0;34m(self, nombre)\u001b[0m\n\u001b[1;32m      7\u001b[0m \u001b[0;34m\u001b[0m\u001b[0m\n\u001b[1;32m      8\u001b[0m     \u001b[0;32mdef\u001b[0m \u001b[0m__init__\u001b[0m\u001b[0;34m(\u001b[0m\u001b[0mself\u001b[0m\u001b[0;34m,\u001b[0m \u001b[0mnombre\u001b[0m\u001b[0;34m)\u001b[0m\u001b[0;34m:\u001b[0m\u001b[0;34m\u001b[0m\u001b[0;34m\u001b[0m\u001b[0m\n\u001b[0;32m----> 9\u001b[0;31m         \u001b[0mself\u001b[0m\u001b[0;34m.\u001b[0m\u001b[0mnombre\u001b[0m\u001b[0;34m=\u001b[0m\u001b[0mnombre\u001b[0m\u001b[0;34m\u001b[0m\u001b[0;34m\u001b[0m\u001b[0m\n\u001b[0m\u001b[1;32m     10\u001b[0m \u001b[0;34m\u001b[0m\u001b[0m\n\u001b[1;32m     11\u001b[0m     \u001b[0;34m@\u001b[0m\u001b[0mproperty\u001b[0m\u001b[0;34m\u001b[0m\u001b[0;34m\u001b[0m\u001b[0m\n",
            "\u001b[0;31mAttributeError\u001b[0m: can't set attribute"
          ]
        }
      ]
    },
    {
      "cell_type": "code",
      "metadata": {
        "id": "R6Y6ruW5i9u_"
      },
      "source": [
        "# Por este motivo, necesitamos un SETTER que se ejecute anteriormente, justo al\n",
        "# iniciar el constructor, se va al SETTER y luego al GETTER\n",
        "\n",
        "class Persona():\n",
        "\n",
        "    def __init__(self,nombre=\"\"):\n",
        "        self.nombre=nombre\n",
        "\n",
        "    @property\n",
        "    def nombre(self):\n",
        "        return self.__nombre\n",
        "\n",
        "    @nombre.setter\n",
        "    def nombre(self, name): \n",
        "      self.__nombre=name\n"
      ],
      "execution_count": 229,
      "outputs": []
    },
    {
      "cell_type": "code",
      "metadata": {
        "colab": {
          "base_uri": "https://localhost:8080/"
        },
        "id": "gxhSC80IkAvd",
        "outputId": "c4e4c867-37c8-4535-f9e9-24edd31d2d6c"
      },
      "source": [
        "persona1 = Persona('Sergio')\n",
        "print(persona1.nombre)\n"
      ],
      "execution_count": 230,
      "outputs": [
        {
          "output_type": "stream",
          "name": "stdout",
          "text": [
            "Sergio\n"
          ]
        }
      ]
    },
    {
      "cell_type": "code",
      "metadata": {
        "colab": {
          "base_uri": "https://localhost:8080/"
        },
        "id": "2YoPL7OhkTy2",
        "outputId": "d3d505c7-fe2a-44a0-aeec-c21f1e73dffa"
      },
      "source": [
        "# Aquí vemos como a pesar de iniciar el objeto con el nombre de Sergio, al cambiarlo posteriormente, se ejecuta el SETTER y cuando lo imprimimos el GETTER,\n",
        "# cogiendo el nuevo nombre de forma adecuada\n",
        "persona1.nombre = 'David'\n",
        "print(persona1.nombre) "
      ],
      "execution_count": 231,
      "outputs": [
        {
          "output_type": "stream",
          "name": "stdout",
          "text": [
            "David\n"
          ]
        }
      ]
    },
    {
      "cell_type": "code",
      "metadata": {
        "id": "WtAGd06wlBGn"
      },
      "source": [
        "# EJERCICIO 1\n",
        "import re\n",
        "class Persona():\n",
        "\n",
        "    def __init__(self, nombre, edad, dni):\n",
        "        self.nombre=nombre\n",
        "        self.edad=edad\n",
        "        self.dni=dni\n",
        "\n",
        "    @property\n",
        "    def nombre(self):\n",
        "        return self.__nombre\n",
        "\n",
        "    @nombre.setter\n",
        "    def nombre(self, name): \n",
        "      self.__nombre = name\n",
        "\n",
        "\n",
        "    @property\n",
        "    def edad(self):\n",
        "        return self.__edad\n",
        "\n",
        "    @edad.setter\n",
        "    def edad(self, edad): \n",
        "      self.__edad = edad\n",
        "\n",
        "\n",
        "    @property\n",
        "    def dni(self):\n",
        "        return self.__dni\n",
        "\n",
        "    @dni.setter\n",
        "    def dni(self, dni): \n",
        "      #Validad DNI\n",
        "      dni_regex = '^\\d{8}[a-zA-Z]$'\n",
        "      if re.match(dni_regex, dni): self.__dni = dni\n",
        "      else: self.__dni = 'Incorrecto'\n",
        "\n",
        "    def mostrar(self):\n",
        "      return print('\\nNombre: {}, Edad: {}, DNI: {}'.format(self.nombre, self.edad, self.dni))\n",
        "\n",
        "    def mayor_de_edad(self):\n",
        "      if self.edad >= 18: return print('Es mayor de edad')\n",
        "      else: print('No es mayor de edad')"
      ],
      "execution_count": 232,
      "outputs": []
    },
    {
      "cell_type": "code",
      "metadata": {
        "colab": {
          "base_uri": "https://localhost:8080/"
        },
        "id": "s3oj9Anno0JC",
        "outputId": "31496c89-6bb8-4240-eef2-ee771d5cd4d9"
      },
      "source": [
        "persona2 = Persona('Sergio', 25, '444444444Z')\n",
        "persona2.mostrar()\n",
        "persona2.mayor_de_edad()\n",
        "\n",
        "persona3 = Persona('Sergio', 25, '44444444Z')\n",
        "persona3.mostrar()\n",
        "persona3.mayor_de_edad()"
      ],
      "execution_count": 233,
      "outputs": [
        {
          "output_type": "stream",
          "name": "stdout",
          "text": [
            "\n",
            "Nombre: Sergio, Edad: 25, DNI: Incorrecto\n",
            "Es mayor de edad\n",
            "\n",
            "Nombre: Sergio, Edad: 25, DNI: 44444444Z\n",
            "Es mayor de edad\n"
          ]
        }
      ]
    },
    {
      "cell_type": "markdown",
      "metadata": {
        "id": "Wq-2IbtLxdhg"
      },
      "source": [
        "**EJERCICIO 2:**\n",
        "\n",
        "2.- Crea una clase llamada Cuenta que tendrá los siguientes atributos: \n",
        ". titular (que es una persona)\n",
        ". cantidad (puede tener decimales). \n",
        "El titular será obligatorio y la cantidad es opcional. Construye los siguientes métodos para la clase:\n",
        ". Un constructor, donde los datos pueden estar vacíos.\n",
        "Los setters y getters para cada uno de los atributos. El atributo no se puede modificar directamente, sólo \n",
        "ingresando o retirando dinero.\n",
        ". mostrar(): muestra los datos de la cuenta.\n",
        ". ingresar(cantidad): se ingresa una cantidad a la cuenta, si la cantidad introducida es negativa, no se \n",
        "hará nada.\n",
        ". retirar(cantidad): se retira una cantidad a la cuenta. La cuenta puede estar en números rojos.\n"
      ]
    },
    {
      "cell_type": "code",
      "metadata": {
        "id": "Y0ZHAcYKpJ4X"
      },
      "source": [
        "class Cuenta():\n",
        "\n",
        "    def __init__(self, titular, cantidad=0):\n",
        "        self.titular=titular\n",
        "        self.__cantidad=cantidad # Lo ponemos así para indicar que es un atributo privado\n",
        "\n",
        "    @property\n",
        "    def titular(self):\n",
        "        return self.__titular\n",
        "\n",
        "    @titular.setter\n",
        "    def titular(self, titular): \n",
        "      self.__titular = titular\n",
        "    "
      ],
      "execution_count": 234,
      "outputs": []
    },
    {
      "cell_type": "code",
      "metadata": {
        "colab": {
          "base_uri": "https://localhost:8080/"
        },
        "id": "w5EIt6n5ygJG",
        "outputId": "cbac0642-8f0c-48d2-86dc-33021b0ed694"
      },
      "source": [
        "cuenta1 = Cuenta('Sergio Uribe', 34)\n",
        "print (cuenta1.titular)\n"
      ],
      "execution_count": 235,
      "outputs": [
        {
          "output_type": "stream",
          "name": "stdout",
          "text": [
            "Sergio Uribe\n"
          ]
        }
      ]
    },
    {
      "cell_type": "code",
      "metadata": {
        "colab": {
          "base_uri": "https://localhost:8080/",
          "height": 296
        },
        "id": "3RYFXc1kyknM",
        "outputId": "74df4f2f-1b2d-45f5-d917-22e2c0754cd7"
      },
      "source": [
        "print ('---------------ATRIBUTO PRIVADO --> ACCEDEMOS ASÍ --------------------\\n')\n",
        "\n",
        "print ('Dinero: ', cuenta1._Cuenta__cantidad, '\\n')\n",
        "\n",
        "\n",
        "print ('---------------PORQUE SI NO, SALTA ERROR --------------------\\n')\n",
        "\n",
        "print (cuenta1.__cantidad)"
      ],
      "execution_count": 236,
      "outputs": [
        {
          "output_type": "stream",
          "name": "stdout",
          "text": [
            "---------------ATRIBUTO PRIVADO --> ACCEDEMOS ASÍ --------------------\n",
            "\n",
            "Dinero:  34 \n",
            "\n",
            "---------------PORQUE SI NO, SALTA ERROR --------------------\n",
            "\n"
          ]
        },
        {
          "output_type": "error",
          "ename": "AttributeError",
          "evalue": "ignored",
          "traceback": [
            "\u001b[0;31m---------------------------------------------------------------------------\u001b[0m",
            "\u001b[0;31mAttributeError\u001b[0m                            Traceback (most recent call last)",
            "\u001b[0;32m<ipython-input-236-ee5d7fa781c5>\u001b[0m in \u001b[0;36m<module>\u001b[0;34m()\u001b[0m\n\u001b[1;32m      6\u001b[0m \u001b[0mprint\u001b[0m \u001b[0;34m(\u001b[0m\u001b[0;34m'---------------PORQUE SI NO, SALTA ERROR --------------------\\n'\u001b[0m\u001b[0;34m)\u001b[0m\u001b[0;34m\u001b[0m\u001b[0;34m\u001b[0m\u001b[0m\n\u001b[1;32m      7\u001b[0m \u001b[0;34m\u001b[0m\u001b[0m\n\u001b[0;32m----> 8\u001b[0;31m \u001b[0mprint\u001b[0m \u001b[0;34m(\u001b[0m\u001b[0mcuenta1\u001b[0m\u001b[0;34m.\u001b[0m\u001b[0m__cantidad\u001b[0m\u001b[0;34m)\u001b[0m\u001b[0;34m\u001b[0m\u001b[0;34m\u001b[0m\u001b[0m\n\u001b[0m",
            "\u001b[0;31mAttributeError\u001b[0m: 'Cuenta' object has no attribute '__cantidad'"
          ]
        }
      ]
    },
    {
      "cell_type": "code",
      "metadata": {
        "colab": {
          "base_uri": "https://localhost:8080/"
        },
        "id": "6QqmU70JzCXx",
        "outputId": "10ccb18f-a677-4ff6-d2d1-972c5b28cf28"
      },
      "source": [
        "'''\n",
        "Para el atributo cantidad, no tenemos SETTER pero no salta error\n",
        "\n",
        "Lo que creo que está pasando es lo siguiente. Ejemplo con atributo titular:\n",
        "1. En el constructor, al hacer la sentencia self.titular = ALGO --> se va al SETTER\n",
        "2. En el setter: self.__titular = titular\n",
        "3. En el getter: self.titular = self.__titular\n",
        "Por tanto, finalmente tenemos la variable self.titular para trabajar --> es un circulo lo que está sucediendo\n",
        "\n",
        "Veamos con el atributo Cantidad\n",
        "1. En el constructor, self.__cantidad = ALGO --> como no hay un setter, no va a ningún sitio.\n",
        "2. Se crea otro atributo self.cantidad en el property (este sí público) pero que no se ejecuta al hacer self.__cantidad = ALGO en el constructor pq lleva otro nombre\n",
        "   Se ejecuta en otro momento me imagino --> self.cantidad = self.__cantidad\n",
        "\n",
        "VER EJEMPLO SIGUIENTE TAMBIÉN\n",
        "'''\n",
        "class Cuenta():\n",
        "\n",
        "    def __init__(self, titular, cantidad=0):\n",
        "        self.titular=titular\n",
        "        self.__cantidad=cantidad # Lo ponemos así para indicar que es un atributo privado\n",
        "\n",
        "    @property\n",
        "    def titular(self):\n",
        "        return self.__titular\n",
        "    \n",
        "    @titular.setter\n",
        "    def titular(self, titular): \n",
        "      self.__titular = titular\n",
        "    \n",
        "    @property\n",
        "    def cantidad(self):\n",
        "        return self.__cantidad\n",
        "\n",
        "print ('---------------GETTER: AHORA ESTAMOS CREANDO EL PROPERTY PUBLICO(atributo de clase) cantidad --> NO ERROR --------------------\\n')\n",
        "cuenta1 = Cuenta('Sergio Uribe', 34)\n",
        "print ('Dinero: ', cuenta1.cantidad)"
      ],
      "execution_count": 237,
      "outputs": [
        {
          "output_type": "stream",
          "name": "stdout",
          "text": [
            "---------------GETTER: AHORA ESTAMOS CREANDO EL PROPERTY PUBLICO(atributo de clase) cantidad --> NO ERROR --------------------\n",
            "\n",
            "Dinero:  34\n"
          ]
        }
      ]
    },
    {
      "cell_type": "code",
      "metadata": {
        "colab": {
          "base_uri": "https://localhost:8080/",
          "height": 346
        },
        "id": "I3gznZylBScZ",
        "outputId": "1f6c57bb-6513-4e3b-d377-24e251fe059c"
      },
      "source": [
        "class Cuenta():\n",
        "\n",
        "    def __init__(self, titular, cantidad=0):\n",
        "        self.titular=titular\n",
        "        self.__cantidad=cantidad # Lo ponemos así para indicar que es un atributo privado\n",
        "\n",
        "    @property\n",
        "    def titular(self):\n",
        "        return self.__titular\n",
        "\n",
        "    @property\n",
        "    def cantidad(self):\n",
        "        return self.__cantidad\n",
        "print ('AQUI SALTA ERROR PORQUE NO SE CIERRA EL CÍRCULO --> NO SABE QUE HAY EN SELF.__TITULAR. \\n ')\n",
        "\n",
        "cuenta1 = Cuenta('Sergio Uribe', 34)\n"
      ],
      "execution_count": 238,
      "outputs": [
        {
          "output_type": "stream",
          "name": "stdout",
          "text": [
            "AQUI SALTA ERROR PORQUE NO SE CIERRA EL CÍRCULO --> NO SABE QUE HAY EN SELF.__TITULAR. \n",
            " \n"
          ]
        },
        {
          "output_type": "error",
          "ename": "AttributeError",
          "evalue": "ignored",
          "traceback": [
            "\u001b[0;31m---------------------------------------------------------------------------\u001b[0m",
            "\u001b[0;31mAttributeError\u001b[0m                            Traceback (most recent call last)",
            "\u001b[0;32m<ipython-input-238-44a891535078>\u001b[0m in \u001b[0;36m<module>\u001b[0;34m()\u001b[0m\n\u001b[1;32m     14\u001b[0m \u001b[0mprint\u001b[0m \u001b[0;34m(\u001b[0m\u001b[0;34m'AQUI SALTA ERROR PORQUE NO SE CIERRA EL CÍRCULO --> NO SABE QUE HAY EN SELF.__TITULAR. \\n '\u001b[0m\u001b[0;34m)\u001b[0m\u001b[0;34m\u001b[0m\u001b[0;34m\u001b[0m\u001b[0m\n\u001b[1;32m     15\u001b[0m \u001b[0;34m\u001b[0m\u001b[0m\n\u001b[0;32m---> 16\u001b[0;31m \u001b[0mcuenta1\u001b[0m \u001b[0;34m=\u001b[0m \u001b[0mCuenta\u001b[0m\u001b[0;34m(\u001b[0m\u001b[0;34m'Sergio Uribe'\u001b[0m\u001b[0;34m,\u001b[0m \u001b[0;36m34\u001b[0m\u001b[0;34m)\u001b[0m\u001b[0;34m\u001b[0m\u001b[0;34m\u001b[0m\u001b[0m\n\u001b[0m",
            "\u001b[0;32m<ipython-input-238-44a891535078>\u001b[0m in \u001b[0;36m__init__\u001b[0;34m(self, titular, cantidad)\u001b[0m\n\u001b[1;32m      2\u001b[0m \u001b[0;34m\u001b[0m\u001b[0m\n\u001b[1;32m      3\u001b[0m     \u001b[0;32mdef\u001b[0m \u001b[0m__init__\u001b[0m\u001b[0;34m(\u001b[0m\u001b[0mself\u001b[0m\u001b[0;34m,\u001b[0m \u001b[0mtitular\u001b[0m\u001b[0;34m,\u001b[0m \u001b[0mcantidad\u001b[0m\u001b[0;34m=\u001b[0m\u001b[0;36m0\u001b[0m\u001b[0;34m)\u001b[0m\u001b[0;34m:\u001b[0m\u001b[0;34m\u001b[0m\u001b[0;34m\u001b[0m\u001b[0m\n\u001b[0;32m----> 4\u001b[0;31m         \u001b[0mself\u001b[0m\u001b[0;34m.\u001b[0m\u001b[0mtitular\u001b[0m\u001b[0;34m=\u001b[0m\u001b[0mtitular\u001b[0m\u001b[0;34m\u001b[0m\u001b[0;34m\u001b[0m\u001b[0m\n\u001b[0m\u001b[1;32m      5\u001b[0m         \u001b[0mself\u001b[0m\u001b[0;34m.\u001b[0m\u001b[0m__cantidad\u001b[0m\u001b[0;34m=\u001b[0m\u001b[0mcantidad\u001b[0m \u001b[0;31m# Lo ponemos así para indicar que es un atributo privado\u001b[0m\u001b[0;34m\u001b[0m\u001b[0;34m\u001b[0m\u001b[0m\n\u001b[1;32m      6\u001b[0m \u001b[0;34m\u001b[0m\u001b[0m\n",
            "\u001b[0;31mAttributeError\u001b[0m: can't set attribute"
          ]
        }
      ]
    },
    {
      "cell_type": "code",
      "metadata": {
        "colab": {
          "base_uri": "https://localhost:8080/",
          "height": 296
        },
        "id": "WPGhVFR4za3o",
        "outputId": "a14882b5-8529-4d28-8b19-0b2559a13cc5"
      },
      "source": [
        "class Cuenta():\n",
        "\n",
        "    def __init__(self, titular, cantidad=0):\n",
        "        self.titular=titular\n",
        "        self.__cantidad=cantidad # Lo ponemos así para indicar que es un atributo privado\n",
        "\n",
        "    @property\n",
        "    def __titular(self):\n",
        "        return self.__titular\n",
        "\n",
        "    @property\n",
        "    def cantidad(self):\n",
        "        return self.__cantidad\n",
        "\n",
        "\n",
        "print ('PARA QUE NO SALTE ERROR PODEMOS CAMBIAR EL NOMBRE DE LA PROPERTY EN EL MÉTODO')\n",
        "print ('PARA QUE NO COINCIDA CON LA OTRA --> aunque parece que no crea el atributo __titular como se afirmaba antes porque salta error ')\n",
        "\n",
        "cuenta1 = Cuenta('Sergio Uribe', 34)\n",
        "print('\\n Lo coge sólo habiendose ejecutado el constructor --> NO ERROR CON cuenta1.titular:',cuenta1.titular)\n",
        "\n",
        "print('\\n ERROR con cuenta1.__titular: ')\n",
        "print(cuenta1.__titular)"
      ],
      "execution_count": 239,
      "outputs": [
        {
          "output_type": "stream",
          "name": "stdout",
          "text": [
            "PARA QUE NO SALTE ERROR PODEMOS CAMBIAR EL NOMBRE DE LA PROPERTY EN EL MÉTODO\n",
            "PARA QUE NO COINCIDA CON LA OTRA --> aunque parece que no crea el atributo __titular como se afirmaba antes porque salta error \n",
            "\n",
            " Lo coge sólo habiendose ejecutado el constructor --> NO ERROR CON cuenta1.titular: Sergio Uribe\n",
            "\n",
            " ERROR con cuenta1.__titular: \n"
          ]
        },
        {
          "output_type": "error",
          "ename": "AttributeError",
          "evalue": "ignored",
          "traceback": [
            "\u001b[0;31m---------------------------------------------------------------------------\u001b[0m",
            "\u001b[0;31mAttributeError\u001b[0m                            Traceback (most recent call last)",
            "\u001b[0;32m<ipython-input-239-98b6f2662dc4>\u001b[0m in \u001b[0;36m<module>\u001b[0;34m()\u001b[0m\n\u001b[1;32m     21\u001b[0m \u001b[0;34m\u001b[0m\u001b[0m\n\u001b[1;32m     22\u001b[0m \u001b[0mprint\u001b[0m\u001b[0;34m(\u001b[0m\u001b[0;34m'\\n ERROR con cuenta1.__titular: '\u001b[0m\u001b[0;34m)\u001b[0m\u001b[0;34m\u001b[0m\u001b[0;34m\u001b[0m\u001b[0m\n\u001b[0;32m---> 23\u001b[0;31m \u001b[0mprint\u001b[0m\u001b[0;34m(\u001b[0m\u001b[0mcuenta1\u001b[0m\u001b[0;34m.\u001b[0m\u001b[0m__titular\u001b[0m\u001b[0;34m)\u001b[0m\u001b[0;34m\u001b[0m\u001b[0;34m\u001b[0m\u001b[0m\n\u001b[0m",
            "\u001b[0;31mAttributeError\u001b[0m: 'Cuenta' object has no attribute '__titular'"
          ]
        }
      ]
    },
    {
      "cell_type": "code",
      "metadata": {
        "id": "gQt1nEhZzeBf"
      },
      "source": [
        "#Con el atributo cantidad, aquí no salta error al no tener SETTER porque en el constructor ya existe la variable __cantidad, que es la que usamos en @property\n",
        "\n",
        "class Cuenta():\n",
        "\n",
        "    def __init__(self, titular, cantidad=0):\n",
        "        self.titular=titular\n",
        "        self.__cantidad=cantidad # Lo ponemos así para indicar que es un atributo privado\n",
        "\n",
        "    @property\n",
        "    def titular(self):\n",
        "        return self.__titular\n",
        "\n",
        "    @titular.setter\n",
        "    def titular(self, titular): \n",
        "      self.__titular = titular\n",
        "\n",
        "    @property\n",
        "    def cantidad(self):\n",
        "        return self.__cantidad\n",
        "    \n",
        "    def ingresar(self, dinero):\n",
        "      if dinero >= 0: self.__cantidad += dinero\n",
        "\n",
        "    def retirar(self, dinero):\n",
        "      self.__cantidad -= dinero\n",
        "\n",
        "    def mostrar(self):\n",
        "      print('Titular: {}, Dinero: {}'.format(self.titular, self.__cantidad))\n",
        "    "
      ],
      "execution_count": 240,
      "outputs": []
    },
    {
      "cell_type": "code",
      "metadata": {
        "colab": {
          "base_uri": "https://localhost:8080/"
        },
        "id": "-aqr-5l-1lDt",
        "outputId": "45ffcdab-3acc-44a9-b459-e5a3423ab911"
      },
      "source": [
        "cuenta1 = Cuenta('Sergio Uribe', 34)\n",
        "cuenta1.mostrar()"
      ],
      "execution_count": 241,
      "outputs": [
        {
          "output_type": "stream",
          "name": "stdout",
          "text": [
            "Titular: Sergio Uribe, Dinero: 34\n"
          ]
        }
      ]
    },
    {
      "cell_type": "code",
      "metadata": {
        "colab": {
          "base_uri": "https://localhost:8080/"
        },
        "id": "CPeQMKv31pMs",
        "outputId": "654feacb-faf2-4e95-ee5f-01941aa94fb0"
      },
      "source": [
        "cuenta1.ingresar(36)\n",
        "cuenta1.mostrar()"
      ],
      "execution_count": 242,
      "outputs": [
        {
          "output_type": "stream",
          "name": "stdout",
          "text": [
            "Titular: Sergio Uribe, Dinero: 70\n"
          ]
        }
      ]
    },
    {
      "cell_type": "code",
      "metadata": {
        "colab": {
          "base_uri": "https://localhost:8080/"
        },
        "id": "btdAtETm1vP5",
        "outputId": "04178ea3-4479-4050-bca3-03742487f713"
      },
      "source": [
        "cuenta1.retirar(36)\n",
        "cuenta1.mostrar()"
      ],
      "execution_count": 243,
      "outputs": [
        {
          "output_type": "stream",
          "name": "stdout",
          "text": [
            "Titular: Sergio Uribe, Dinero: 34\n"
          ]
        }
      ]
    },
    {
      "cell_type": "code",
      "metadata": {
        "colab": {
          "base_uri": "https://localhost:8080/",
          "height": 363
        },
        "id": "zjrbYNI72IjX",
        "outputId": "636c179f-803c-40c0-dfae-c7f5fbe7315a"
      },
      "source": [
        "print('Logicamente, no tenemos un SETTER como en los otros casos para evitar que alguien pueda acceder a su cuenta y meternos millones')\n",
        "print('cuenta1.__cantidad = 100000000\\n')\n",
        "cuenta1.__cantidad = 100000000\n",
        "cuenta1.mostrar()\n",
        "\n",
        "\n",
        "print ('\\n\\nDinero: ', cuenta1.cantidad)\n",
        "print('Probamos con cuenta1.cantidad = 100000000 --> ERROR \\n')\n",
        "cuenta1.cantidad = 100000000\n",
        "cuenta1.mostrar()\n"
      ],
      "execution_count": 244,
      "outputs": [
        {
          "output_type": "stream",
          "name": "stdout",
          "text": [
            "Logicamente, no tenemos un SETTER como en los otros casos para evitar que alguien pueda acceder a su cuenta y meternos millones\n",
            "cuenta1.__cantidad = 100000000\n",
            "\n",
            "Titular: Sergio Uribe, Dinero: 34\n",
            "\n",
            "\n",
            "Dinero:  34\n",
            "Probamos con cuenta1.cantidad = 100000000 --> ERROR \n",
            "\n"
          ]
        },
        {
          "output_type": "error",
          "ename": "AttributeError",
          "evalue": "ignored",
          "traceback": [
            "\u001b[0;31m---------------------------------------------------------------------------\u001b[0m",
            "\u001b[0;31mAttributeError\u001b[0m                            Traceback (most recent call last)",
            "\u001b[0;32m<ipython-input-244-f89f2ddb34ed>\u001b[0m in \u001b[0;36m<module>\u001b[0;34m()\u001b[0m\n\u001b[1;32m      7\u001b[0m \u001b[0mprint\u001b[0m \u001b[0;34m(\u001b[0m\u001b[0;34m'\\n\\nDinero: '\u001b[0m\u001b[0;34m,\u001b[0m \u001b[0mcuenta1\u001b[0m\u001b[0;34m.\u001b[0m\u001b[0mcantidad\u001b[0m\u001b[0;34m)\u001b[0m\u001b[0;34m\u001b[0m\u001b[0;34m\u001b[0m\u001b[0m\n\u001b[1;32m      8\u001b[0m \u001b[0mprint\u001b[0m\u001b[0;34m(\u001b[0m\u001b[0;34m'Probamos con cuenta1.cantidad = 100000000 --> ERROR \\n'\u001b[0m\u001b[0;34m)\u001b[0m\u001b[0;34m\u001b[0m\u001b[0;34m\u001b[0m\u001b[0m\n\u001b[0;32m----> 9\u001b[0;31m \u001b[0mcuenta1\u001b[0m\u001b[0;34m.\u001b[0m\u001b[0mcantidad\u001b[0m \u001b[0;34m=\u001b[0m \u001b[0;36m100000000\u001b[0m\u001b[0;34m\u001b[0m\u001b[0;34m\u001b[0m\u001b[0m\n\u001b[0m\u001b[1;32m     10\u001b[0m \u001b[0mcuenta1\u001b[0m\u001b[0;34m.\u001b[0m\u001b[0mmostrar\u001b[0m\u001b[0;34m(\u001b[0m\u001b[0;34m)\u001b[0m\u001b[0;34m\u001b[0m\u001b[0;34m\u001b[0m\u001b[0m\n",
            "\u001b[0;31mAttributeError\u001b[0m: can't set attribute"
          ]
        }
      ]
    },
    {
      "cell_type": "code",
      "metadata": {
        "colab": {
          "base_uri": "https://localhost:8080/"
        },
        "id": "pwh3WEr02jsq",
        "outputId": "d575afe9-c5f2-4708-f2e3-20bfee74715d"
      },
      "source": [
        "# Pero si podriamos cambiar el titular\n",
        "cuenta1.titular = 'Lolm Uribe'\n",
        "cuenta1.mostrar()"
      ],
      "execution_count": 245,
      "outputs": [
        {
          "output_type": "stream",
          "name": "stdout",
          "text": [
            "Titular: Lolm Uribe, Dinero: 34\n"
          ]
        }
      ]
    },
    {
      "cell_type": "markdown",
      "metadata": {
        "id": "47Jwyt6nLwSc"
      },
      "source": [
        "**COMO SE HA VISTO, SE HAN HECHO LOS EJERCICIOS MOSTRANDO ERRORES PARA ENTENDER EL FUNCIONAMIENTO DE ESTAS PROPIEDADES, PERO IGUALMENTE, LO QUE SE HA PEDIDO EN EL EJERCICIO FUNCIONA CORRECTAMENTE**"
      ]
    },
    {
      "cell_type": "code",
      "metadata": {
        "id": "gVCBfwMUL3A-"
      },
      "source": [
        ""
      ],
      "execution_count": null,
      "outputs": []
    }
  ]
}

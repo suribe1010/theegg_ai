{
  "nbformat": 4,
  "nbformat_minor": 0,
  "metadata": {
    "colab": {
      "name": "tarea_52_EstructurasDeDatos_Alumnos.ipynb",
      "provenance": [],
      "collapsed_sections": [],
      "authorship_tag": "ABX9TyMXTH/UdYUow3YOeX+yJBra",
      "include_colab_link": true
    },
    "kernelspec": {
      "name": "python3",
      "display_name": "Python 3"
    },
    "language_info": {
      "name": "python"
    }
  },
  "cells": [
    {
      "cell_type": "markdown",
      "metadata": {
        "id": "view-in-github",
        "colab_type": "text"
      },
      "source": [
        "<a href=\"https://colab.research.google.com/github/suribe1010/theegg_ai/blob/master/tarea_52_EstructurasDeDatos_Alumnos.ipynb\" target=\"_parent\"><img src=\"https://colab.research.google.com/assets/colab-badge.svg\" alt=\"Open In Colab\"/></a>"
      ]
    },
    {
      "cell_type": "code",
      "metadata": {
        "colab": {
          "base_uri": "https://localhost:8080/"
        },
        "id": "GKoDE7yl4Fnf",
        "outputId": "19f53c46-2cb4-494e-b620-921d9efd5d93"
      },
      "source": [
        "class Alumno:\n",
        "  def __init__(self):\n",
        "    self.lista_curso1 = []\n",
        "    self.lista_curso2 = []\n",
        "\n",
        "\n",
        "  def add_nombres(self, curso1):\n",
        "    nombre = (input('Introduce el nombre del alumno. ?x? para dejar de añadir nombres a la lista: '))  \n",
        "    while not nombre=='?x?':\n",
        "      if curso1 == True:\n",
        "        self.lista_curso1.append(nombre)\n",
        "      else:\n",
        "        self.lista_curso2.append(nombre)\n",
        "      \n",
        "      nombre = (input('Introduce el nombre del alumno. ?x? para dejar de añadir nombres a la lista: '))  \n",
        "    \n",
        "  def show_list_sinRepeticiones(self, lista):\n",
        "    uniqueNames=set(lista)\n",
        "    return uniqueNames\n",
        "\n",
        "  def show_list_repeatedNames (self, lista1, lista2):\n",
        "    from collections import Counter\n",
        "    return list((Counter(lista1) & Counter(lista2)).elements())\n",
        "    \n",
        "\n",
        "  def show_list_nombresCurso1_noRepeated_enCurso2 (self, lista1, repeatedNames):\n",
        "    return print(f'\\nNombres de 1er curso que no aparecen en el 2º curso', set(lista1) - set(repeatedNames))\n",
        "\n",
        "\n",
        "\n",
        "def main():\n",
        "    alumno_object = Alumno()\n",
        "    print (f'1er CURSO')\n",
        "    alumno_object.add_nombres(curso1 = True)\n",
        "    uniqueNames = alumno_object.show_list_sinRepeticiones(alumno_object.lista_curso1)\n",
        "    print(f'\\n Nombres del curso sin repeticiones: ', uniqueNames)\n",
        "    \n",
        "    print (f'\\n2º CURSO')\n",
        "    alumno_object.add_nombres(curso1 = False)\n",
        "    uniqueNames = alumno_object.show_list_sinRepeticiones(alumno_object.lista_curso2)\n",
        "    print(f'\\n Nombres del curso sin repeticiones: ', uniqueNames)\n",
        "\n",
        "    repeatedNames = alumno_object.show_list_repeatedNames(alumno_object.lista_curso1, alumno_object.lista_curso2)\n",
        "    print(f'\\n\\n Nombres repetidos entre los 2 cursos: ', repeatedNames)\n",
        "    \n",
        "    alumno_object.show_list_nombresCurso1_noRepeated_enCurso2(alumno_object.lista_curso1, repeatedNames)\n",
        "\n",
        "if __name__ == \"__main__\":\n",
        "    main()"
      ],
      "execution_count": 30,
      "outputs": [
        {
          "output_type": "stream",
          "text": [
            "1er CURSO\n",
            "Introduce el nombre del alumno. ?x? para dejar de añadir nombres a la lista: David\n",
            "Introduce el nombre del alumno. ?x? para dejar de añadir nombres a la lista: Iñigo\n",
            "Introduce el nombre del alumno. ?x? para dejar de añadir nombres a la lista: Leire\n",
            "Introduce el nombre del alumno. ?x? para dejar de añadir nombres a la lista: Oscar\n",
            "Introduce el nombre del alumno. ?x? para dejar de añadir nombres a la lista: Ane\n",
            "Introduce el nombre del alumno. ?x? para dejar de añadir nombres a la lista: Leire\n",
            "Introduce el nombre del alumno. ?x? para dejar de añadir nombres a la lista: ?x?\n",
            "\n",
            " Nombres del curso sin repeticiones:  {'Leire', 'Ane', 'Oscar', 'David', 'Iñigo'}\n",
            "\n",
            "2º CURSO\n",
            "Introduce el nombre del alumno. ?x? para dejar de añadir nombres a la lista: Sergio\n",
            "Introduce el nombre del alumno. ?x? para dejar de añadir nombres a la lista: Marga\n",
            "Introduce el nombre del alumno. ?x? para dejar de añadir nombres a la lista: Ane\n",
            "Introduce el nombre del alumno. ?x? para dejar de añadir nombres a la lista: Oscar\n",
            "Introduce el nombre del alumno. ?x? para dejar de añadir nombres a la lista: Unai\n",
            "Introduce el nombre del alumno. ?x? para dejar de añadir nombres a la lista: Mikel\n",
            "Introduce el nombre del alumno. ?x? para dejar de añadir nombres a la lista: Idoia\n",
            "Introduce el nombre del alumno. ?x? para dejar de añadir nombres a la lista: ?x?\n",
            "\n",
            " Nombres del curso sin repeticiones:  {'Sergio', 'Mikel', 'Unai', 'Ane', 'Oscar', 'Idoia', 'Marga'}\n",
            "\n",
            "\n",
            " Nombres repetidos entre los 2 cursos:  ['Oscar', 'Ane']\n",
            "\n",
            "Nombres de 1er curso que no aparecen en el 2º curso {'Leire', 'Iñigo', 'David'}\n"
          ],
          "name": "stdout"
        }
      ]
    },
    {
      "cell_type": "code",
      "metadata": {
        "id": "oTgasw5B9Hss"
      },
      "source": [
        ""
      ],
      "execution_count": null,
      "outputs": []
    }
  ]
}
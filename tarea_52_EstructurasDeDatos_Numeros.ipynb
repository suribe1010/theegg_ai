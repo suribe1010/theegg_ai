{
  "nbformat": 4,
  "nbformat_minor": 0,
  "metadata": {
    "colab": {
      "name": "tarea_52_EstructurasDeDatos_Numeros.ipynb",
      "provenance": [],
      "collapsed_sections": [],
      "authorship_tag": "ABX9TyMT/ArSGuWxeHE1dDH2J8Ay",
      "include_colab_link": true
    },
    "kernelspec": {
      "name": "python3",
      "display_name": "Python 3"
    },
    "language_info": {
      "name": "python"
    }
  },
  "cells": [
    {
      "cell_type": "markdown",
      "metadata": {
        "id": "view-in-github",
        "colab_type": "text"
      },
      "source": [
        "<a href=\"https://colab.research.google.com/github/suribe1010/theegg_ai/blob/master/tarea_52_EstructurasDeDatos_Numeros.ipynb\" target=\"_parent\"><img src=\"https://colab.research.google.com/assets/colab-badge.svg\" alt=\"Open In Colab\"/></a>"
      ]
    },
    {
      "cell_type": "code",
      "metadata": {
        "colab": {
          "base_uri": "https://localhost:8080/"
        },
        "id": "3_BzPpu6eYmd",
        "outputId": "81bc0fc3-8057-491b-90fc-6d967a02fedb"
      },
      "source": [
        "import collections\n",
        "class Numero:\n",
        "  def __init__(self):\n",
        "    self.lista = []\n",
        "    self.opcion = 0\n",
        "\n",
        "  def add_number(self, numero):\n",
        "    self.lista.append(numero)\n",
        "\n",
        "  def show_list(self, lista):\n",
        "    return print(f'\\nHas formado la siguiente lista de números: ', lista)\n",
        "\n",
        "  def eliminar_primera_ocurrencia(self, num=0):\n",
        "    try:\n",
        "      self.lista.remove(num)\n",
        "    except ValueError:\n",
        "      print(f\"El numero {num} no está en la lista\")\n",
        "    return self.lista\n",
        "\n",
        "  def sumatorio(self):\n",
        "    print(f'\\n\\nLa suma de los elementos de la lista es: ', sum(self.lista))\n",
        "\n",
        "  def numeros_menores_numero_dado(self, num=0):\n",
        "    self.lista = [i for i in self.lista if i < num]\n",
        "\n",
        "  def ocurrencias (self):\n",
        "    self.lista = list(collections.Counter(self.lista).items())\n",
        "    print('Frecuencia de la lista: ', self.lista)\n",
        "    \n",
        "\n",
        "\n",
        "def main():\n",
        "    num_object = Numero()\n",
        "    numero = int(input('Introduce un número. 0 para dejar de añadir números a la lista: '))  \n",
        "    while not numero==0:\n",
        "      num_object.add_number(numero)\n",
        "      numero = int(input('Introduce un número. 0 para dejar de añadir números a la lista: '))  \n",
        "    \n",
        "    #PRINT CREATED LIST\n",
        "    num_object.show_list(num_object.lista)\n",
        "\n",
        "    num = int(input(f'\\nIntroduce un número a eliminar de la lista: ')) \n",
        "    num_object.eliminar_primera_ocurrencia(num)\n",
        "    num_object.show_list(num_object.lista)\n",
        "\n",
        "    num_object.sumatorio()\n",
        "\n",
        "    num = int(input(f'\\nIntroduce un número. Nos quedamos con los menores: '))\n",
        "    num_object.numeros_menores_numero_dado(num)\n",
        "    num_object.show_list(num_object.lista)\n",
        " \n",
        "    num_object.ocurrencias()\n",
        "\n",
        "\n",
        "if __name__ == \"__main__\":\n",
        "    main()\n"
      ],
      "execution_count": 21,
      "outputs": [
        {
          "output_type": "stream",
          "text": [
            "Introduce un número. 0 para dejar de añadir números a la lista: 89\n",
            "Introduce un número. 0 para dejar de añadir números a la lista: 5\n",
            "Introduce un número. 0 para dejar de añadir números a la lista: 2\n",
            "Introduce un número. 0 para dejar de añadir números a la lista: 55\n",
            "Introduce un número. 0 para dejar de añadir números a la lista: 0\n",
            "\n",
            "Has formado la siguiente lista de números:  [89, 5, 2, 55]\n",
            "\n",
            "Introduce un número a eliminar de la lista: 5\n",
            "\n",
            "Has formado la siguiente lista de números:  [89, 2, 55]\n",
            "\n",
            "\n",
            "La suma de los elementos de la lista es:  146\n",
            "\n",
            "Introduce un número. Nos quedamos con los menores: 65\n",
            "\n",
            "Has formado la siguiente lista de números:  [2, 55]\n",
            "Frecuencia de la lista:  [(2, 1), (55, 1)]\n"
          ],
          "name": "stdout"
        }
      ]
    },
    {
      "cell_type": "code",
      "metadata": {
        "id": "z5V9Ih2W1-QI"
      },
      "source": [
        ""
      ],
      "execution_count": null,
      "outputs": []
    }
  ]
}
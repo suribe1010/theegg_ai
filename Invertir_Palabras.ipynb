{
  "nbformat": 4,
  "nbformat_minor": 0,
  "metadata": {
    "colab": {
      "name": "Invertir Palabras.ipynb",
      "provenance": [],
      "authorship_tag": "ABX9TyPfji3lddaCbtRQTJ++GO5A",
      "include_colab_link": true
    },
    "kernelspec": {
      "name": "python3",
      "display_name": "Python 3"
    }
  },
  "cells": [
    {
      "cell_type": "markdown",
      "metadata": {
        "id": "view-in-github",
        "colab_type": "text"
      },
      "source": [
        "<a href=\"https://colab.research.google.com/github/suribe1010/theegg_ai/blob/master/Invertir_Palabras.ipynb\" target=\"_parent\"><img src=\"https://colab.research.google.com/assets/colab-badge.svg\" alt=\"Open In Colab\"/></a>"
      ]
    },
    {
      "cell_type": "markdown",
      "metadata": {
        "id": "neZ7DBYmz_P2"
      },
      "source": [
        "Dada una serie de palabras separadas por espacios, escribir la frase formada por las mismas palabras en orden inverso. Cada palabra estará formada exclusivamente por letras, y existirá exactamente un espacio entre cada pareja de palabras. La salida debe ser \"Case #\" seguido del número de caso, de un símbolo de \"dos puntos\", de un espacio en blanco y de la frase invertida.\n",
        "El primer dato de entrada será la cantidad de valores que se van a analizar.\n",
        "\n",
        "**Ejemplo de entrada**\n",
        "\n",
        "3\n",
        "\n",
        "this is a test\n",
        "\n",
        "foobar\n",
        "\n",
        "all your base\n",
        "\n",
        "\n",
        "\n",
        "\n",
        "**Salida correspondiente** \n",
        "\n",
        "Case #1: test a is this\n",
        "\n",
        "Case #2: foobar\n",
        "\n",
        "Case #3: base your all\n",
        "\n"
      ]
    },
    {
      "cell_type": "code",
      "metadata": {
        "id": "-zqNlFcP0K3y"
      },
      "source": [
        "def inputs(n_valores):\n",
        "  texto = []\n",
        "  for i in range(0, n_valores):\n",
        "    texto.append(input())\n",
        "  return texto\n"
      ],
      "execution_count": 18,
      "outputs": []
    },
    {
      "cell_type": "code",
      "metadata": {
        "id": "JfThXEL80rOW",
        "outputId": "19068c00-dad6-45dd-b859-170a1b840b47",
        "colab": {
          "base_uri": "https://localhost:8080/",
          "height": 217
        }
      },
      "source": [
        "print('Introduce el número de valores deseado: ')\n",
        "n_valores = int(input())\n",
        "print('Introduce las frases que deseas dar la vuelta: ')\n",
        "texto = inputs(n_valores)\n",
        "print()\n",
        "print('============== SOLUCIÓN =================')\n",
        "for i in range(len(texto)):\n",
        "  frase = texto[i].split(\" \")\n",
        "  result = frase[::-1]\n",
        "  result = \" \".join(result)\n",
        "  print('Case #' + str(i) + ': ' + str(result))\n"
      ],
      "execution_count": 47,
      "outputs": [
        {
          "output_type": "stream",
          "text": [
            "Introduce el número de valores deseado: \n",
            "3\n",
            "Introduce las frases que deseas dar la vuelta: \n",
            "this is a test\n",
            "foobar\n",
            "all your base\n",
            "\n",
            "============== SOLUCIÓN =================\n",
            "Case #0: test a is this\n",
            "Case #1: foobar\n",
            "Case #2: base your all\n"
          ],
          "name": "stdout"
        }
      ]
    },
    {
      "cell_type": "code",
      "metadata": {
        "id": "7NVjgj7y1OCT"
      },
      "source": [
        ""
      ],
      "execution_count": null,
      "outputs": []
    }
  ]
}
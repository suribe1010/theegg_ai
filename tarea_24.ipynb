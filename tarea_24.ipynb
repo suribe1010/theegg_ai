{
  "nbformat": 4,
  "nbformat_minor": 0,
  "metadata": {
    "colab": {
      "name": "tarea_24.ipynb",
      "provenance": [],
      "authorship_tag": "ABX9TyPrGLb/J8TkysU5lpNwXT0W",
      "include_colab_link": true
    },
    "kernelspec": {
      "name": "python3",
      "display_name": "Python 3"
    }
  },
  "cells": [
    {
      "cell_type": "markdown",
      "metadata": {
        "id": "view-in-github",
        "colab_type": "text"
      },
      "source": [
        "<a href=\"https://colab.research.google.com/github/suribe1010/theegg_ai/blob/master/tarea_24.ipynb\" target=\"_parent\"><img src=\"https://colab.research.google.com/assets/colab-badge.svg\" alt=\"Open In Colab\"/></a>"
      ]
    },
    {
      "cell_type": "markdown",
      "metadata": {
        "id": "kpaiEzBHntO9",
        "colab_type": "text"
      },
      "source": [
        "# Convertidor Analógico-Digital\n",
        "\n",
        "En este caso hay que desarrollar un programa donde una vez enviado un valor decimal a una función\n",
        "este lo convierta a binario y nos lo devuelva. Se trata de construir un simulador de un convertidor\n",
        "analógico digital mediante un programa (software). El hardware lo dejamos para otro día."
      ]
    },
    {
      "cell_type": "code",
      "metadata": {
        "id": "fhIQBtDxn511",
        "colab_type": "code",
        "colab": {
          "base_uri": "https://localhost:8080/",
          "height": 168
        },
        "outputId": "e5811e62-edb8-48df-ce6f-2011b20f9569"
      },
      "source": [
        "class decimal2binario ():\n",
        "  def __init__(self):\n",
        "    self.num_decimal = int(input())\n",
        "    print('==================================================================')\n",
        "    print('CONVERTIDOR ANALÓGICO DIGITAL')\n",
        "    print()\n",
        "    print('Número decimal introducido: ', self.num_decimal)\n",
        "    \n",
        "    self.num_binario = []\n",
        "\n",
        "\n",
        "  def conversion(self):\n",
        "    '''\n",
        "    Para convertir el número a binario dividiremos los sucesivos cocientes entre 2 de forma que el resto \n",
        "    nos da el número binario ordenado de forma inversa.\n",
        "    '''\n",
        "    cociente = 0\n",
        "    while cociente != 1:\n",
        "      cociente = self.num_decimal // 2\n",
        "      resto = self.num_decimal % 2\n",
        "      self.num_binario.append(resto) #habrá que reordenarlo al final\n",
        "      self.num_decimal = cociente\n",
        "    self.num_binario.append(cociente)\n",
        "    self.num_binario = self.num_binario[::-1]\n",
        "    self.num_binario = \" \".join(map(str, self.num_binario))\n",
        "    print()\n",
        "    print('Número binario correspondiente: ', self.num_binario)\n",
        "    print()\n",
        "    print('==================================================================')\n",
        "\n",
        "object = decimal2binario()\n",
        "object.conversion()"
      ],
      "execution_count": 30,
      "outputs": [
        {
          "output_type": "stream",
          "text": [
            "19874\n",
            "==================================================================\n",
            "CONVERTIDOR ANALÓGICO DIGITAL\n",
            "\n",
            "Número decimal introducido:  19874\n",
            "\n",
            "Número binario correspondiente:  1 0 0 1 1 0 1 1 0 1 0 0 0 1 0\n",
            "\n",
            "==================================================================\n"
          ],
          "name": "stdout"
        }
      ]
    },
    {
      "cell_type": "code",
      "metadata": {
        "id": "ob-9gQLhzfZ_",
        "colab_type": "code",
        "colab": {}
      },
      "source": [
        ""
      ],
      "execution_count": 0,
      "outputs": []
    }
  ]
}